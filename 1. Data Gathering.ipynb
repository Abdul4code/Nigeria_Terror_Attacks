{
 "cells": [
  {
   "cell_type": "markdown",
   "id": "e601f283",
   "metadata": {},
   "source": [
    "<h1 style=\"text-align: center; color: red; font-size: 25pt; font-weight: bold; text-shadow: 1px 1px 1px rgb(50, 100, 100)\"> Terror Attacks In Nigeria .... </h1> \n",
    "<p style=\"font-size: 12pt; text-align: center\"> Abubakar Abdulkadir</p>"
   ]
  },
  {
   "cell_type": "markdown",
   "id": "5437c629",
   "metadata": {},
   "source": [
    "<img src=\"images/bg.jpg\" style=\"width: 100%; height:350px; display: inline-block\" />"
   ]
  },
  {
   "cell_type": "markdown",
   "id": "6028e459",
   "metadata": {},
   "source": [
    "<h1 style='background-color: red; padding: 10px; color: white'> 1.0 Project Overview </h1>"
   ]
  },
  {
   "cell_type": "markdown",
   "id": "a6835e9c",
   "metadata": {},
   "source": [
    "```A Terror attack is the unlawful use of force or violence against persons or property to intimidate or coerce a government, the civilian population, or any segment thereof in furtherance of political or social objectives\"``` - - The Federal Bereau of Intelligence, US.\n",
    "\n",
    "Nigeria is one of such countries of the world where insecurity and terrorist activities has been on the rise. The West African nation is one of the most hazardous nations in the world, with the most frequent and deadly attacks. There have been 2470 terrorist incidents in the last five years, resulting in 17751 fatalities and 7345 injuries (WorldData.info). With the emergence of new dangerous groups like the Fulani extremists and herdsmen, these numbers continue to rise daily.\n",
    "\n",
    "Attacks in Nigeria have the notable characteristic that each terrorist group or sect's attacks can almost immediately be linked to them due to similarities in the attack's mode, target, duration, motive, and casualty toll, among other factors. It can be argued that patterns and intelligence can be extracted from datasets of these attacks. Even if these records are accessible in public places like Wikipedia, social media platforms like Facebook and Twitter, news websites, and newspapers, to name a few, they aren't offered in formats that are simple to use with tools for data manipulation and analysis. Consequently, limiting the utilizing of data-centric approach in combating terrorism in the nation.\n",
    "\n",
    "This furthers the project's objectives to aid in the fight against insecurity in Nigeria by \n",
    "- collecting data about attacks and security incidences in Nigeria\n",
    "- processing the data into easy to use formats\n",
    "- Performing analysis on the dataset to identify trends and patterns\n",
    "- providing answers to questions about the mode of operation, timing, motive, and other aspects of the attacks.\n",
    "- Building Smart Security Systems for predicting insecurity incidences in Nigeria and making recommendations to prevent future occurences \n",
    "\n",
    "Although the project's main focus is on insecurity in Nigeria, it has worldwide significance because terrorism has always been a problem on a global scale. While it is true that this threat's exposure differs from region to region and country to country, the necessity of taking effective action on a global scale cannot be overstated."
   ]
  },
  {
   "cell_type": "markdown",
   "id": "6c324a80",
   "metadata": {},
   "source": [
    "<h1 style='background-color: red; padding: 10px; color: white'> 2.0 Data Collection </h1>"
   ]
  },
  {
   "cell_type": "markdown",
   "id": "f5d91de7",
   "metadata": {},
   "source": [
    "The datasets considered for this project are collected from four different sources including the Armed Conflict Location and Event Data project (ACLED), the global terrorism database (GTD), CHATGPT API and GITHUB "
   ]
  },
  {
   "cell_type": "markdown",
   "id": "23c08176",
   "metadata": {},
   "source": [
    "### 2.1 importing the datasets"
   ]
  },
  {
   "cell_type": "code",
   "execution_count": 22,
   "id": "ccc2f024",
   "metadata": {},
   "outputs": [],
   "source": [
    "df_acled = pd.read_csv('datasets/uncleaned/acled-Nigeria 2009.csv') # ACLED dataset \n",
    "df_gtd_2020 = pd.read_excel('datasets/uncleaned/gtd-2020.xlsx') # GTD dataset 1970 to 2020\n",
    "df_gtd_2021 = pd.read_excel('datasets/uncleaned/gtd-jan 2021.xlsx') # GTD dataset Jan 2021 to Jun 2021\n",
    "df_lga = pd.read_csv('datasets/uncleaned/lgas.csv') # LGA datasets from github"
   ]
  },
  {
   "cell_type": "markdown",
   "id": "1f0f037e",
   "metadata": {},
   "source": [
    "### 2.2 Armed Conflict Location & Event Data Project (ACLED)\n",
    "\n",
    "The dataset from this source includes All insecurity incidences in Nigeria from January 2009 to March 28 2023. It has 31 features which includes time and date related features, location features, event properties, casualties, information sources, and brief description of event. The dataset comes in a CSV format and can be assessed on the ACLED data download <a href='https://acleddata.com/data-export-tool/'>portal</a>"
   ]
  },
  {
   "cell_type": "code",
   "execution_count": 50,
   "id": "b4a05671",
   "metadata": {},
   "outputs": [
    {
     "data": {
      "text/html": [
       "<div>\n",
       "<style scoped>\n",
       "    .dataframe tbody tr th:only-of-type {\n",
       "        vertical-align: middle;\n",
       "    }\n",
       "\n",
       "    .dataframe tbody tr th {\n",
       "        vertical-align: top;\n",
       "    }\n",
       "\n",
       "    .dataframe thead th {\n",
       "        text-align: right;\n",
       "    }\n",
       "</style>\n",
       "<table border=\"1\" class=\"dataframe\">\n",
       "  <thead>\n",
       "    <tr style=\"text-align: right;\">\n",
       "      <th></th>\n",
       "      <th>event_id_cnty</th>\n",
       "      <th>event_date</th>\n",
       "      <th>year</th>\n",
       "      <th>time_precision</th>\n",
       "      <th>disorder_type</th>\n",
       "      <th>event_type</th>\n",
       "      <th>sub_event_type</th>\n",
       "      <th>actor1</th>\n",
       "      <th>assoc_actor_1</th>\n",
       "      <th>inter1</th>\n",
       "      <th>...</th>\n",
       "      <th>location</th>\n",
       "      <th>latitude</th>\n",
       "      <th>longitude</th>\n",
       "      <th>geo_precision</th>\n",
       "      <th>source</th>\n",
       "      <th>source_scale</th>\n",
       "      <th>notes</th>\n",
       "      <th>fatalities</th>\n",
       "      <th>tags</th>\n",
       "      <th>timestamp</th>\n",
       "    </tr>\n",
       "  </thead>\n",
       "  <tbody>\n",
       "    <tr>\n",
       "      <th>0</th>\n",
       "      <td>NIG30571</td>\n",
       "      <td>24 March 2023</td>\n",
       "      <td>2023</td>\n",
       "      <td>1</td>\n",
       "      <td>Demonstrations</td>\n",
       "      <td>Protests</td>\n",
       "      <td>Peaceful protest</td>\n",
       "      <td>Protesters (Nigeria)</td>\n",
       "      <td>NaN</td>\n",
       "      <td>6</td>\n",
       "      <td>...</td>\n",
       "      <td>Ayede-Ogbese</td>\n",
       "      <td>7.2057</td>\n",
       "      <td>5.3875</td>\n",
       "      <td>1</td>\n",
       "      <td>Vanguard (Nigeria)</td>\n",
       "      <td>National</td>\n",
       "      <td>On 24 March 2023, youths and residents of Ayed...</td>\n",
       "      <td>0</td>\n",
       "      <td>crowd size=no report</td>\n",
       "      <td>1679938033</td>\n",
       "    </tr>\n",
       "    <tr>\n",
       "      <th>1</th>\n",
       "      <td>NIG30577</td>\n",
       "      <td>24 March 2023</td>\n",
       "      <td>2023</td>\n",
       "      <td>1</td>\n",
       "      <td>Demonstrations</td>\n",
       "      <td>Protests</td>\n",
       "      <td>Protest with intervention</td>\n",
       "      <td>Protesters (Nigeria)</td>\n",
       "      <td>NaN</td>\n",
       "      <td>6</td>\n",
       "      <td>...</td>\n",
       "      <td>Owo</td>\n",
       "      <td>7.1962</td>\n",
       "      <td>5.5868</td>\n",
       "      <td>2</td>\n",
       "      <td>Nigeria Punch</td>\n",
       "      <td>National</td>\n",
       "      <td>On 24 March 2023, youths of Uso community prot...</td>\n",
       "      <td>0</td>\n",
       "      <td>crowd size=no report</td>\n",
       "      <td>1679938033</td>\n",
       "    </tr>\n",
       "    <tr>\n",
       "      <th>2</th>\n",
       "      <td>NIG30583</td>\n",
       "      <td>24 March 2023</td>\n",
       "      <td>2023</td>\n",
       "      <td>1</td>\n",
       "      <td>Demonstrations</td>\n",
       "      <td>Protests</td>\n",
       "      <td>Peaceful protest</td>\n",
       "      <td>Protesters (Nigeria)</td>\n",
       "      <td>Women (Nigeria)</td>\n",
       "      <td>6</td>\n",
       "      <td>...</td>\n",
       "      <td>Akwanga</td>\n",
       "      <td>8.9167</td>\n",
       "      <td>8.3833</td>\n",
       "      <td>1</td>\n",
       "      <td>Sahara Reporters; Vanguard (Nigeria)</td>\n",
       "      <td>National-Regional</td>\n",
       "      <td>On 24 March 2023, women in Akwanga (Akwanga, N...</td>\n",
       "      <td>0</td>\n",
       "      <td>crowd size=no report</td>\n",
       "      <td>1679938034</td>\n",
       "    </tr>\n",
       "    <tr>\n",
       "      <th>3</th>\n",
       "      <td>NIG30608</td>\n",
       "      <td>24 March 2023</td>\n",
       "      <td>2023</td>\n",
       "      <td>1</td>\n",
       "      <td>Demonstrations</td>\n",
       "      <td>Protests</td>\n",
       "      <td>Peaceful protest</td>\n",
       "      <td>Protesters (Nigeria)</td>\n",
       "      <td>PDP: People's Democratic Party</td>\n",
       "      <td>6</td>\n",
       "      <td>...</td>\n",
       "      <td>Karu</td>\n",
       "      <td>9.0469</td>\n",
       "      <td>7.7636</td>\n",
       "      <td>1</td>\n",
       "      <td>Sun (Nigeria); Vanguard (Nigeria)</td>\n",
       "      <td>National</td>\n",
       "      <td>On 24 March 2023, a large crowd of supporters ...</td>\n",
       "      <td>0</td>\n",
       "      <td>crowd size=a large crowd</td>\n",
       "      <td>1679938034</td>\n",
       "    </tr>\n",
       "    <tr>\n",
       "      <th>4</th>\n",
       "      <td>NIG30559</td>\n",
       "      <td>23 March 2023</td>\n",
       "      <td>2023</td>\n",
       "      <td>1</td>\n",
       "      <td>Political violence</td>\n",
       "      <td>Violence against civilians</td>\n",
       "      <td>Attack</td>\n",
       "      <td>Unidentified Armed Group (Nigeria)</td>\n",
       "      <td>NaN</td>\n",
       "      <td>3</td>\n",
       "      <td>...</td>\n",
       "      <td>Gboko</td>\n",
       "      <td>7.3179</td>\n",
       "      <td>8.9951</td>\n",
       "      <td>1</td>\n",
       "      <td>Nigeria Punch; Sun (Nigeria)</td>\n",
       "      <td>National</td>\n",
       "      <td>On 23 March 2023, an unidentified armed group ...</td>\n",
       "      <td>0</td>\n",
       "      <td>NaN</td>\n",
       "      <td>1679938033</td>\n",
       "    </tr>\n",
       "  </tbody>\n",
       "</table>\n",
       "<p>5 rows × 31 columns</p>\n",
       "</div>"
      ],
      "text/plain": [
       "  event_id_cnty     event_date  year  time_precision       disorder_type  \\\n",
       "0      NIG30571  24 March 2023  2023               1      Demonstrations   \n",
       "1      NIG30577  24 March 2023  2023               1      Demonstrations   \n",
       "2      NIG30583  24 March 2023  2023               1      Demonstrations   \n",
       "3      NIG30608  24 March 2023  2023               1      Demonstrations   \n",
       "4      NIG30559  23 March 2023  2023               1  Political violence   \n",
       "\n",
       "                   event_type             sub_event_type  \\\n",
       "0                    Protests           Peaceful protest   \n",
       "1                    Protests  Protest with intervention   \n",
       "2                    Protests           Peaceful protest   \n",
       "3                    Protests           Peaceful protest   \n",
       "4  Violence against civilians                     Attack   \n",
       "\n",
       "                               actor1                   assoc_actor_1  inter1  \\\n",
       "0                Protesters (Nigeria)                             NaN       6   \n",
       "1                Protesters (Nigeria)                             NaN       6   \n",
       "2                Protesters (Nigeria)                 Women (Nigeria)       6   \n",
       "3                Protesters (Nigeria)  PDP: People's Democratic Party       6   \n",
       "4  Unidentified Armed Group (Nigeria)                             NaN       3   \n",
       "\n",
       "   ...      location latitude  longitude  geo_precision  \\\n",
       "0  ...  Ayede-Ogbese   7.2057     5.3875              1   \n",
       "1  ...           Owo   7.1962     5.5868              2   \n",
       "2  ...       Akwanga   8.9167     8.3833              1   \n",
       "3  ...          Karu   9.0469     7.7636              1   \n",
       "4  ...         Gboko   7.3179     8.9951              1   \n",
       "\n",
       "                                 source       source_scale  \\\n",
       "0                    Vanguard (Nigeria)           National   \n",
       "1                         Nigeria Punch           National   \n",
       "2  Sahara Reporters; Vanguard (Nigeria)  National-Regional   \n",
       "3     Sun (Nigeria); Vanguard (Nigeria)           National   \n",
       "4          Nigeria Punch; Sun (Nigeria)           National   \n",
       "\n",
       "                                               notes fatalities  \\\n",
       "0  On 24 March 2023, youths and residents of Ayed...          0   \n",
       "1  On 24 March 2023, youths of Uso community prot...          0   \n",
       "2  On 24 March 2023, women in Akwanga (Akwanga, N...          0   \n",
       "3  On 24 March 2023, a large crowd of supporters ...          0   \n",
       "4  On 23 March 2023, an unidentified armed group ...          0   \n",
       "\n",
       "                       tags   timestamp  \n",
       "0      crowd size=no report  1679938033  \n",
       "1      crowd size=no report  1679938033  \n",
       "2      crowd size=no report  1679938034  \n",
       "3  crowd size=a large crowd  1679938034  \n",
       "4                       NaN  1679938033  \n",
       "\n",
       "[5 rows x 31 columns]"
      ]
     },
     "execution_count": 50,
     "metadata": {},
     "output_type": "execute_result"
    }
   ],
   "source": [
    "df_acled.head()"
   ]
  },
  {
   "cell_type": "code",
   "execution_count": 57,
   "id": "e62e11f8",
   "metadata": {},
   "outputs": [
    {
     "name": "stdout",
     "output_type": "stream",
     "text": [
      "<class 'pandas.core.frame.DataFrame'>\n",
      "RangeIndex: 28160 entries, 0 to 28159\n",
      "Data columns (total 31 columns):\n",
      " #   Column              Non-Null Count  Dtype  \n",
      "---  ------              --------------  -----  \n",
      " 0   event_id_cnty       28160 non-null  object \n",
      " 1   event_date          28160 non-null  object \n",
      " 2   year                28160 non-null  int64  \n",
      " 3   time_precision      28160 non-null  int64  \n",
      " 4   disorder_type       28160 non-null  object \n",
      " 5   event_type          28160 non-null  object \n",
      " 6   sub_event_type      28160 non-null  object \n",
      " 7   actor1              28160 non-null  object \n",
      " 8   assoc_actor_1       8139 non-null   object \n",
      " 9   inter1              28160 non-null  int64  \n",
      " 10  actor2              21306 non-null  object \n",
      " 11  assoc_actor_2       6528 non-null   object \n",
      " 12  inter2              28160 non-null  int64  \n",
      " 13  interaction         28160 non-null  int64  \n",
      " 14  civilian_targeting  10929 non-null  object \n",
      " 15  iso                 28160 non-null  int64  \n",
      " 16  region              28160 non-null  object \n",
      " 17  country             28160 non-null  object \n",
      " 18  admin1              28159 non-null  object \n",
      " 19  admin2              28159 non-null  object \n",
      " 20  admin3              0 non-null      float64\n",
      " 21  location            28160 non-null  object \n",
      " 22  latitude            28160 non-null  float64\n",
      " 23  longitude           28160 non-null  float64\n",
      " 24  geo_precision       28160 non-null  int64  \n",
      " 25  source              28160 non-null  object \n",
      " 26  source_scale        28160 non-null  object \n",
      " 27  notes               28160 non-null  object \n",
      " 28  fatalities          28160 non-null  int64  \n",
      " 29  tags                4844 non-null   object \n",
      " 30  timestamp           28160 non-null  int64  \n",
      "dtypes: float64(3), int64(9), object(19)\n",
      "memory usage: 6.7+ MB\n"
     ]
    }
   ],
   "source": [
    "df_acled.info()"
   ]
  },
  {
   "cell_type": "markdown",
   "id": "67bc4baf",
   "metadata": {},
   "source": [
    "The dataset contains 28160 insecurity incidences cutting accross different events such as Violence against civilians, Battles, Protests, Riots, Explosions/Remote violence and Strategic developments. It has 3 floatinf point features, 9 integers and 19 objects.  "
   ]
  },
  {
   "cell_type": "code",
   "execution_count": 59,
   "id": "6f5bb967",
   "metadata": {},
   "outputs": [],
   "source": [
    "#save dateset into the cleaned folder\n",
    "df_acled.to_csv('datasets/cleaned/df_acled_nig.csv', index=False)"
   ]
  },
  {
   "cell_type": "markdown",
   "id": "bf812e57",
   "metadata": {},
   "source": [
    "### 2.2 Global Terrorism Database (GTD)\n",
    "\n",
    "The Global Terrorism Database (GTD) is an open-source database including information on terrorist events around the world from 1970 through 2020 (with annual updates planned for the future). Unlike many other event databases, the GTD includes systematic data on domestic as well as international terrorist incidents that have occurred during this time period and now includes more than 200,000 cases. Although, for this use case, the data collected from this database was filtered to contain only events which occured in Nigeria. The dataset can be downloaded from their website at <a href=\"https://www.start.umd.edu/gtd/\"> GTD portal</a> "
   ]
  },
  {
   "cell_type": "markdown",
   "id": "abaa4dee",
   "metadata": {},
   "source": [
    "#### 2.2.1 Dataset 2020"
   ]
  },
  {
   "cell_type": "code",
   "execution_count": 24,
   "id": "8917d065",
   "metadata": {},
   "outputs": [
    {
     "name": "stdout",
     "output_type": "stream",
     "text": [
      "<class 'pandas.core.frame.DataFrame'>\n",
      "RangeIndex: 209706 entries, 0 to 209705\n",
      "Columns: 135 entries, eventid to related\n",
      "dtypes: datetime64[ns](1), float64(54), int64(23), object(57)\n",
      "memory usage: 216.0+ MB\n"
     ]
    }
   ],
   "source": [
    "df_gtd_2020.info()"
   ]
  },
  {
   "cell_type": "code",
   "execution_count": 25,
   "id": "2ea4842b",
   "metadata": {},
   "outputs": [
    {
     "data": {
      "text/plain": [
       "(209706, 135)"
      ]
     },
     "execution_count": 25,
     "metadata": {},
     "output_type": "execute_result"
    }
   ],
   "source": [
    "df_gtd_2020.shape"
   ]
  },
  {
   "cell_type": "code",
   "execution_count": 26,
   "id": "cd83165b",
   "metadata": {},
   "outputs": [
    {
     "data": {
      "text/html": [
       "<div>\n",
       "<style scoped>\n",
       "    .dataframe tbody tr th:only-of-type {\n",
       "        vertical-align: middle;\n",
       "    }\n",
       "\n",
       "    .dataframe tbody tr th {\n",
       "        vertical-align: top;\n",
       "    }\n",
       "\n",
       "    .dataframe thead th {\n",
       "        text-align: right;\n",
       "    }\n",
       "</style>\n",
       "<table border=\"1\" class=\"dataframe\">\n",
       "  <thead>\n",
       "    <tr style=\"text-align: right;\">\n",
       "      <th></th>\n",
       "      <th>eventid</th>\n",
       "      <th>iyear</th>\n",
       "      <th>imonth</th>\n",
       "      <th>iday</th>\n",
       "      <th>approxdate</th>\n",
       "      <th>extended</th>\n",
       "      <th>resolution</th>\n",
       "      <th>country</th>\n",
       "      <th>country_txt</th>\n",
       "      <th>region</th>\n",
       "      <th>...</th>\n",
       "      <th>addnotes</th>\n",
       "      <th>scite1</th>\n",
       "      <th>scite2</th>\n",
       "      <th>scite3</th>\n",
       "      <th>dbsource</th>\n",
       "      <th>INT_LOG</th>\n",
       "      <th>INT_IDEO</th>\n",
       "      <th>INT_MISC</th>\n",
       "      <th>INT_ANY</th>\n",
       "      <th>related</th>\n",
       "    </tr>\n",
       "  </thead>\n",
       "  <tbody>\n",
       "    <tr>\n",
       "      <th>0</th>\n",
       "      <td>197000000001</td>\n",
       "      <td>1970</td>\n",
       "      <td>7</td>\n",
       "      <td>2</td>\n",
       "      <td>NaN</td>\n",
       "      <td>0</td>\n",
       "      <td>NaT</td>\n",
       "      <td>58</td>\n",
       "      <td>Dominican Republic</td>\n",
       "      <td>2</td>\n",
       "      <td>...</td>\n",
       "      <td>NaN</td>\n",
       "      <td>NaN</td>\n",
       "      <td>NaN</td>\n",
       "      <td>NaN</td>\n",
       "      <td>PGIS</td>\n",
       "      <td>0</td>\n",
       "      <td>0</td>\n",
       "      <td>0</td>\n",
       "      <td>0</td>\n",
       "      <td>NaN</td>\n",
       "    </tr>\n",
       "    <tr>\n",
       "      <th>1</th>\n",
       "      <td>197000000002</td>\n",
       "      <td>1970</td>\n",
       "      <td>0</td>\n",
       "      <td>0</td>\n",
       "      <td>NaN</td>\n",
       "      <td>0</td>\n",
       "      <td>NaT</td>\n",
       "      <td>130</td>\n",
       "      <td>Mexico</td>\n",
       "      <td>1</td>\n",
       "      <td>...</td>\n",
       "      <td>NaN</td>\n",
       "      <td>NaN</td>\n",
       "      <td>NaN</td>\n",
       "      <td>NaN</td>\n",
       "      <td>PGIS</td>\n",
       "      <td>0</td>\n",
       "      <td>1</td>\n",
       "      <td>1</td>\n",
       "      <td>1</td>\n",
       "      <td>NaN</td>\n",
       "    </tr>\n",
       "    <tr>\n",
       "      <th>2</th>\n",
       "      <td>197001000001</td>\n",
       "      <td>1970</td>\n",
       "      <td>1</td>\n",
       "      <td>0</td>\n",
       "      <td>NaN</td>\n",
       "      <td>0</td>\n",
       "      <td>NaT</td>\n",
       "      <td>160</td>\n",
       "      <td>Philippines</td>\n",
       "      <td>5</td>\n",
       "      <td>...</td>\n",
       "      <td>NaN</td>\n",
       "      <td>NaN</td>\n",
       "      <td>NaN</td>\n",
       "      <td>NaN</td>\n",
       "      <td>PGIS</td>\n",
       "      <td>-9</td>\n",
       "      <td>-9</td>\n",
       "      <td>1</td>\n",
       "      <td>1</td>\n",
       "      <td>NaN</td>\n",
       "    </tr>\n",
       "    <tr>\n",
       "      <th>3</th>\n",
       "      <td>197001000002</td>\n",
       "      <td>1970</td>\n",
       "      <td>1</td>\n",
       "      <td>0</td>\n",
       "      <td>NaN</td>\n",
       "      <td>0</td>\n",
       "      <td>NaT</td>\n",
       "      <td>78</td>\n",
       "      <td>Greece</td>\n",
       "      <td>8</td>\n",
       "      <td>...</td>\n",
       "      <td>NaN</td>\n",
       "      <td>NaN</td>\n",
       "      <td>NaN</td>\n",
       "      <td>NaN</td>\n",
       "      <td>PGIS</td>\n",
       "      <td>-9</td>\n",
       "      <td>-9</td>\n",
       "      <td>1</td>\n",
       "      <td>1</td>\n",
       "      <td>NaN</td>\n",
       "    </tr>\n",
       "    <tr>\n",
       "      <th>4</th>\n",
       "      <td>197001000003</td>\n",
       "      <td>1970</td>\n",
       "      <td>1</td>\n",
       "      <td>0</td>\n",
       "      <td>NaN</td>\n",
       "      <td>0</td>\n",
       "      <td>NaT</td>\n",
       "      <td>101</td>\n",
       "      <td>Japan</td>\n",
       "      <td>4</td>\n",
       "      <td>...</td>\n",
       "      <td>NaN</td>\n",
       "      <td>NaN</td>\n",
       "      <td>NaN</td>\n",
       "      <td>NaN</td>\n",
       "      <td>PGIS</td>\n",
       "      <td>-9</td>\n",
       "      <td>-9</td>\n",
       "      <td>1</td>\n",
       "      <td>1</td>\n",
       "      <td>NaN</td>\n",
       "    </tr>\n",
       "  </tbody>\n",
       "</table>\n",
       "<p>5 rows × 135 columns</p>\n",
       "</div>"
      ],
      "text/plain": [
       "        eventid  iyear  imonth  iday approxdate  extended resolution  country  \\\n",
       "0  197000000001   1970       7     2        NaN         0        NaT       58   \n",
       "1  197000000002   1970       0     0        NaN         0        NaT      130   \n",
       "2  197001000001   1970       1     0        NaN         0        NaT      160   \n",
       "3  197001000002   1970       1     0        NaN         0        NaT       78   \n",
       "4  197001000003   1970       1     0        NaN         0        NaT      101   \n",
       "\n",
       "          country_txt  region  ... addnotes scite1 scite2  scite3  dbsource  \\\n",
       "0  Dominican Republic       2  ...      NaN    NaN    NaN     NaN      PGIS   \n",
       "1              Mexico       1  ...      NaN    NaN    NaN     NaN      PGIS   \n",
       "2         Philippines       5  ...      NaN    NaN    NaN     NaN      PGIS   \n",
       "3              Greece       8  ...      NaN    NaN    NaN     NaN      PGIS   \n",
       "4               Japan       4  ...      NaN    NaN    NaN     NaN      PGIS   \n",
       "\n",
       "   INT_LOG  INT_IDEO INT_MISC INT_ANY  related  \n",
       "0        0         0        0       0      NaN  \n",
       "1        0         1        1       1      NaN  \n",
       "2       -9        -9        1       1      NaN  \n",
       "3       -9        -9        1       1      NaN  \n",
       "4       -9        -9        1       1      NaN  \n",
       "\n",
       "[5 rows x 135 columns]"
      ]
     },
     "execution_count": 26,
     "metadata": {},
     "output_type": "execute_result"
    }
   ],
   "source": [
    "df_gtd_2020.head()"
   ]
  },
  {
   "cell_type": "code",
   "execution_count": 28,
   "id": "21642cbf",
   "metadata": {},
   "outputs": [
    {
     "data": {
      "text/plain": [
       "array([1970, 1971, 1972, 1973, 1974, 1975, 1976, 1977, 1978, 1979, 1980,\n",
       "       1981, 1986, 1982, 1983, 1984, 1985, 1987, 1988, 1989, 1990, 1991,\n",
       "       1992, 1994, 1995, 1996, 1997, 1998, 1999, 2000, 2001, 2002, 2003,\n",
       "       2004, 2005, 2006, 2007, 2008, 2009, 2010, 2011, 2012, 2013, 2014,\n",
       "       2015, 2016, 2017, 2018, 2019, 2020], dtype=int64)"
      ]
     },
     "execution_count": 28,
     "metadata": {},
     "output_type": "execute_result"
    }
   ],
   "source": [
    "df_gtd_2020.iyear.unique()"
   ]
  },
  {
   "cell_type": "markdown",
   "id": "2caee386",
   "metadata": {},
   "source": [
    "This dataset contains 135 features comprising of 1 datetime feature, 54 floating point features, 23 integer features and 57 object features. It contains 209,706 events from 1970 to 2020. Although, this are all events which occured accross the globe.\n",
    "Hence, there is a need to filter the dataset to contain only incidences which occured in Nigeria"
   ]
  },
  {
   "cell_type": "code",
   "execution_count": 39,
   "id": "4e333c94",
   "metadata": {},
   "outputs": [
    {
     "data": {
      "text/plain": [
       "(5550, 135)"
      ]
     },
     "execution_count": 39,
     "metadata": {},
     "output_type": "execute_result"
    }
   ],
   "source": [
    "# filtering the dataset to contain only events which occured in Nigeria\n",
    "df_gtd_nig_2020 = df_gtd_2020[df_gtd_2020['country_txt'] == 'Nigeria']\n",
    "df_gtd_nig_2020.shape"
   ]
  },
  {
   "cell_type": "markdown",
   "id": "4296172b",
   "metadata": {},
   "source": [
    "There are 5550 insecurity incidences recorded in Nigeria within this time frame."
   ]
  },
  {
   "cell_type": "markdown",
   "id": "c8195246",
   "metadata": {},
   "source": [
    "#### 2.2.2 Dataset 2021"
   ]
  },
  {
   "cell_type": "markdown",
   "id": "a63a8467",
   "metadata": {},
   "source": [
    "This is similar to the GTD 2020 dataset. The difference is that this contains events occuring between jan 2021 to jun 2021."
   ]
  },
  {
   "cell_type": "code",
   "execution_count": 42,
   "id": "abd474ee",
   "metadata": {},
   "outputs": [
    {
     "data": {
      "text/plain": [
       "(448, 135)"
      ]
     },
     "execution_count": 42,
     "metadata": {},
     "output_type": "execute_result"
    }
   ],
   "source": [
    "# filtering the dataset to contain only events which occured in Nigeria\n",
    "df_gtd_nig_2021 = df_gtd_2021[df_gtd_2021['country_txt'] == 'Nigeria']\n",
    "df_gtd_nig_2021.shape"
   ]
  },
  {
   "cell_type": "markdown",
   "id": "dd1801e6",
   "metadata": {},
   "source": [
    "Within this time frame, there were 448 recorded incidences"
   ]
  },
  {
   "cell_type": "markdown",
   "id": "bd2d3072",
   "metadata": {},
   "source": [
    "#### 2.2.2 Merging both Datasets"
   ]
  },
  {
   "cell_type": "code",
   "execution_count": 44,
   "id": "fb254d67",
   "metadata": {},
   "outputs": [
    {
     "data": {
      "text/plain": [
       "(5998, 135)"
      ]
     },
     "execution_count": 44,
     "metadata": {},
     "output_type": "execute_result"
    }
   ],
   "source": [
    "df_gtd_nig = pd.concat([df_gtd_nig_2020, df_gtd_nig_2021])\n",
    "df_gtd_nig.shape"
   ]
  },
  {
   "cell_type": "markdown",
   "id": "c22c32b5",
   "metadata": {},
   "source": [
    "Therefore, the GTD dataset recorded from 1970 to 2021, a total of 5998 security incidences in Nigeria.  "
   ]
  },
  {
   "cell_type": "code",
   "execution_count": 48,
   "id": "ccbfb316",
   "metadata": {},
   "outputs": [],
   "source": [
    "# save dataset as a new csv file\n",
    "df_gtd_nig.to_csv('datasets/cleaned/df_gtd_nig.csv', index=False)"
   ]
  },
  {
   "cell_type": "markdown",
   "id": "76f17d00",
   "metadata": {},
   "source": [
    "### 2.3 ChatGPT API"
   ]
  },
  {
   "cell_type": "markdown",
   "id": "9fc68604",
   "metadata": {},
   "source": [
    "ChatGPT API is the Application interface through which the chatGPT model can be accessed. ChatGPT is an AI chatbot that was initially built on a family of large language models (LLMs) collectively known as GPT-3. This model has been trained on huge amount of data to understand and generate human like responses to text prompts. Although, it occassional provides incorrect responses, its ability to produce human-like, and frequently accurate, responses to a vast range of questions is why it is considered for this pproject.\n",
    "\n",
    "This API is used to curate a list of properties for each local government area in Nigeria. Alhough, it is worthy of note that whatever response the API is providing is based of its knowledge of 2021 which is the range of dataset it has been trained on."
   ]
  },
  {
   "cell_type": "markdown",
   "id": "2b936a15",
   "metadata": {},
   "source": [
    "#### 2.3.1 Collecting Dataset from Chat GPT API"
   ]
  },
  {
   "cell_type": "code",
   "execution_count": 5,
   "id": "854d504e",
   "metadata": {},
   "outputs": [],
   "source": [
    "#importing packages\n",
    "import openai\n",
    "import pandas as pd\n",
    "from csv import writer\n",
    "import re"
   ]
  },
  {
   "cell_type": "code",
   "execution_count": 2,
   "id": "452916ea",
   "metadata": {},
   "outputs": [],
   "source": [
    "openai.api_key = 'xxxxxxxxxxxxxxxxxxxxxxxxxxxxxxxxxxxxx'  # input the API key"
   ]
  },
  {
   "cell_type": "code",
   "execution_count": 4,
   "id": "2dc4247f",
   "metadata": {},
   "outputs": [],
   "source": [
    "df = pd.read_csv('datasets/cleaned/lgas.csv') # read csv file of all local government area in Nigeria"
   ]
  },
  {
   "cell_type": "code",
   "execution_count": null,
   "id": "e5b93206",
   "metadata": {},
   "outputs": [],
   "source": [
    "# seek details in batches of 100\n",
    "for i in range(0, 800, 100):\n",
    "    cur_lgas = df.iloc[i:i + 100]\n",
    "    lga = list(cur_lgas['name'])\n",
    "    \n",
    "    #loop through each local government name in each batch\n",
    "    for j in range(len(lga)):\n",
    "        prompt = '''In one word each, Provide actual values for the questions  \n",
    "                1. Percentage of Educated\n",
    "                2. Level of Isolation\n",
    "                3. Natural Barriers\n",
    "                4. Elevation\n",
    "                5. Population\n",
    "                6. Major Ocupation\n",
    "                7. Political stability\n",
    "                8. Economic Situation\n",
    "                9. Average Cost of living\n",
    "                10. Employment rate\n",
    "                11. Ethnic Marginalization\n",
    "                12. Transport infrastructure\n",
    "                13. Longitude \n",
    "                14. Latitude\n",
    "                15. Income Equality\n",
    "                16. Major ethnic group\n",
    "                17. Communication network\n",
    "                18. Infrastructure development\n",
    "                19. Dominant Age group\n",
    "                20. Average family size\n",
    "                21. Average education level\n",
    "                22. Average Income in Naira\n",
    "                of ${}. \n",
    "                Numper your reponse and put your answer in a single line '''.format(lga[j])\n",
    "\n",
    "        response = openai.ChatCompletion.create(\n",
    "              model=\"gpt-3.5-turbo\",\n",
    "              messages=[ \n",
    "                    {\"role\": \"user\", \"content\": prompt},     \n",
    "                ]\n",
    "        )\n",
    "        \n",
    "        data = (response['choices'][0]['message'].content).replace('\\n', ' ')\n",
    "\n",
    "        # append the response to a file\n",
    "        f_object = open('laga_dataset.txt', 'a', encoding=\"utf-8\")\n",
    "        f_object.write(\"*** 0\" + lga[j] + \" \"  + \" \" + data + \" \" + \"*** /n\")"
   ]
  },
  {
   "cell_type": "markdown",
   "id": "f95947ab",
   "metadata": {},
   "source": [
    "#### 2.3.2 Formating the dataset into CSV"
   ]
  },
  {
   "cell_type": "code",
   "execution_count": 67,
   "id": "88d40855",
   "metadata": {},
   "outputs": [],
   "source": [
    "#read the txt file\n",
    "with open('datasets/uncleaned/laga_dataset.txt', 'r') as f_handler:\n",
    "    features = f_handler.read()\n",
    "\n",
    "# split the dataset into each local goverment with the \"*** 0\" marker and ignore the first entry (It is empty)\n",
    "each_feature = features.split(\"*** 0\")[1:]\n",
    "\n",
    "# split each feature into a list and append it to another list to form a list of list\n",
    "features_list = []\n",
    "for feature in each_feature:\n",
    "    feature = feature.replace(\"*** /n\", \"\")\n",
    "    str_list = re.sub(r'\\d+\\. ', '<break>', feature).split('<break>')\n",
    "    str_list = [x.strip() for x in str_list if (len(x.strip()) > 1 or re.findall('\\d+', x))]\n",
    "    features_list.append(str_list)"
   ]
  },
  {
   "cell_type": "code",
   "execution_count": 68,
   "id": "fd828d42",
   "metadata": {},
   "outputs": [],
   "source": [
    "# define the pandas column header names\n",
    "columns = [\n",
    "            \"Lga Name\", \"percentage of educated\", \"Level of Isolation\", \"Natural Barriers\", \"Elevation\", \n",
    "            \"Population\", \"Major Ocupation\", \"Political stability\", \n",
    "            \"Economic Situation\", \"Average Cost of living\", \"Employment rate\", \n",
    "            \"Ethnic Marginalization\", \"Transport infrastructure\", \"Longitude\",  \n",
    "            \"Latitude\", \"Income Equality\", \"Major ethnic group\", \"Communication network\", \n",
    "            \"Infrastructure development\", \"Dominant Age group\", \"Average family size\",\n",
    "            \"Average education level\", \"Average Income in Naira\"\n",
    "]\n",
    "\n",
    "\n",
    "#create a dataframe with the dataset\n",
    "feature_df = pd.DataFrame(features_list, columns=columns)"
   ]
  },
  {
   "cell_type": "code",
   "execution_count": 69,
   "id": "edc2a98a",
   "metadata": {},
   "outputs": [
    {
     "data": {
      "text/html": [
       "<div>\n",
       "<style scoped>\n",
       "    .dataframe tbody tr th:only-of-type {\n",
       "        vertical-align: middle;\n",
       "    }\n",
       "\n",
       "    .dataframe tbody tr th {\n",
       "        vertical-align: top;\n",
       "    }\n",
       "\n",
       "    .dataframe thead th {\n",
       "        text-align: right;\n",
       "    }\n",
       "</style>\n",
       "<table border=\"1\" class=\"dataframe\">\n",
       "  <thead>\n",
       "    <tr style=\"text-align: right;\">\n",
       "      <th></th>\n",
       "      <th>Lga Name</th>\n",
       "      <th>percentage of educated</th>\n",
       "      <th>Level of Isolation</th>\n",
       "      <th>Natural Barriers</th>\n",
       "      <th>Elevation</th>\n",
       "      <th>Population</th>\n",
       "      <th>Major Ocupation</th>\n",
       "      <th>Political stability</th>\n",
       "      <th>Economic Situation</th>\n",
       "      <th>Average Cost of living</th>\n",
       "      <th>...</th>\n",
       "      <th>Longitude</th>\n",
       "      <th>Latitude</th>\n",
       "      <th>Income Equality</th>\n",
       "      <th>Major ethnic group</th>\n",
       "      <th>Communication network</th>\n",
       "      <th>Infrastructure development</th>\n",
       "      <th>Dominant Age group</th>\n",
       "      <th>Average family size</th>\n",
       "      <th>Average education level</th>\n",
       "      <th>Average Income in Naira</th>\n",
       "    </tr>\n",
       "  </thead>\n",
       "  <tbody>\n",
       "    <tr>\n",
       "      <th>0</th>\n",
       "      <td>Aba North</td>\n",
       "      <td>70%</td>\n",
       "      <td>Low</td>\n",
       "      <td>None</td>\n",
       "      <td>104m (341ft)</td>\n",
       "      <td>382,784</td>\n",
       "      <td>Trading and Commerce</td>\n",
       "      <td>Relatively Stable</td>\n",
       "      <td>Struggling</td>\n",
       "      <td>â‚¦120,000 ($312) per month</td>\n",
       "      <td>...</td>\n",
       "      <td>7.39Â° E</td>\n",
       "      <td>5.05Â° N</td>\n",
       "      <td>Low</td>\n",
       "      <td>Igbo</td>\n",
       "      <td>Good</td>\n",
       "      <td>Developing</td>\n",
       "      <td>25-44 years</td>\n",
       "      <td>4 people</td>\n",
       "      <td>High school diploma</td>\n",
       "      <td>â‚¦150,000 ($390) per month</td>\n",
       "    </tr>\n",
       "    <tr>\n",
       "      <th>1</th>\n",
       "      <td>Aba South</td>\n",
       "      <td>70%</td>\n",
       "      <td>Low</td>\n",
       "      <td>None</td>\n",
       "      <td>30m</td>\n",
       "      <td>1 million</td>\n",
       "      <td>Trading</td>\n",
       "      <td>Relatively stable</td>\n",
       "      <td>Struggling</td>\n",
       "      <td>â‚¦50,000</td>\n",
       "      <td>...</td>\n",
       "      <td>7.37 E</td>\n",
       "      <td>5.53 N</td>\n",
       "      <td>Low</td>\n",
       "      <td>Igbo</td>\n",
       "      <td>Well-established</td>\n",
       "      <td>Limited</td>\n",
       "      <td>25-44</td>\n",
       "      <td>4</td>\n",
       "      <td>High school</td>\n",
       "      <td>â‚¦40,000</td>\n",
       "    </tr>\n",
       "    <tr>\n",
       "      <th>2</th>\n",
       "      <td>Arochukwu</td>\n",
       "      <td>70%</td>\n",
       "      <td>Low</td>\n",
       "      <td>Hills and Rivers</td>\n",
       "      <td>1500ft</td>\n",
       "      <td>150,000</td>\n",
       "      <td>Agriculture</td>\n",
       "      <td>Relatively stable</td>\n",
       "      <td>Developing</td>\n",
       "      <td>â‚¦40,000</td>\n",
       "      <td>...</td>\n",
       "      <td>7.9 E</td>\n",
       "      <td>5.5 N</td>\n",
       "      <td>Low</td>\n",
       "      <td>Igbo</td>\n",
       "      <td>Limited</td>\n",
       "      <td>Slow</td>\n",
       "      <td>Youth</td>\n",
       "      <td>4</td>\n",
       "      <td>High school diploma</td>\n",
       "      <td>â‚¦50,000</td>\n",
       "    </tr>\n",
       "    <tr>\n",
       "      <th>3</th>\n",
       "      <td>Bende</td>\n",
       "      <td>90%</td>\n",
       "      <td>Low</td>\n",
       "      <td>Rivers</td>\n",
       "      <td>200 meters</td>\n",
       "      <td>100,000</td>\n",
       "      <td>Farming</td>\n",
       "      <td>Stable</td>\n",
       "      <td>Struggling</td>\n",
       "      <td>â‚¦50,000</td>\n",
       "      <td>...</td>\n",
       "      <td>7.5Â° E</td>\n",
       "      <td>5.6Â° N</td>\n",
       "      <td>Low</td>\n",
       "      <td>Igbo</td>\n",
       "      <td>Well established</td>\n",
       "      <td>Moderately developed</td>\n",
       "      <td>25-40 years</td>\n",
       "      <td>5</td>\n",
       "      <td>Secondary school</td>\n",
       "      <td>â‚¦80,000</td>\n",
       "    </tr>\n",
       "    <tr>\n",
       "      <th>4</th>\n",
       "      <td>Ikwuano</td>\n",
       "      <td>70%</td>\n",
       "      <td>Low</td>\n",
       "      <td>Hills and Rivers</td>\n",
       "      <td>190m</td>\n",
       "      <td>150,000</td>\n",
       "      <td>Farming</td>\n",
       "      <td>Relatively Stable</td>\n",
       "      <td>Struggling</td>\n",
       "      <td>â‚¦50,000 ($125)</td>\n",
       "      <td>...</td>\n",
       "      <td>7.5Â°E</td>\n",
       "      <td>5.4Â°N</td>\n",
       "      <td>Low</td>\n",
       "      <td>Ibo</td>\n",
       "      <td>Limited</td>\n",
       "      <td>Developing</td>\n",
       "      <td>Youth</td>\n",
       "      <td>4</td>\n",
       "      <td>High School</td>\n",
       "      <td>â‚¦60,000 ($150)</td>\n",
       "    </tr>\n",
       "  </tbody>\n",
       "</table>\n",
       "<p>5 rows × 23 columns</p>\n",
       "</div>"
      ],
      "text/plain": [
       "    Lga Name percentage of educated Level of Isolation  Natural Barriers  \\\n",
       "0  Aba North                    70%                Low              None   \n",
       "1  Aba South                    70%                Low              None   \n",
       "2  Arochukwu                    70%                Low  Hills and Rivers   \n",
       "3      Bende                    90%                Low            Rivers   \n",
       "4    Ikwuano                    70%                Low  Hills and Rivers   \n",
       "\n",
       "      Elevation Population       Major Ocupation Political stability  \\\n",
       "0  104m (341ft)    382,784  Trading and Commerce   Relatively Stable   \n",
       "1           30m  1 million               Trading   Relatively stable   \n",
       "2        1500ft    150,000           Agriculture   Relatively stable   \n",
       "3    200 meters    100,000               Farming              Stable   \n",
       "4          190m    150,000               Farming   Relatively Stable   \n",
       "\n",
       "  Economic Situation       Average Cost of living  ... Longitude  Latitude  \\\n",
       "0         Struggling  â‚¦120,000 ($312) per month  ...  7.39Â° E  5.05Â° N   \n",
       "1         Struggling                    â‚¦50,000  ...    7.37 E    5.53 N   \n",
       "2         Developing                    â‚¦40,000  ...     7.9 E     5.5 N   \n",
       "3         Struggling                    â‚¦50,000  ...   7.5Â° E   5.6Â° N   \n",
       "4         Struggling             â‚¦50,000 ($125)  ...    7.5Â°E    5.4Â°N   \n",
       "\n",
       "  Income Equality Major ethnic group Communication network  \\\n",
       "0             Low               Igbo                  Good   \n",
       "1             Low               Igbo      Well-established   \n",
       "2             Low               Igbo               Limited   \n",
       "3             Low               Igbo      Well established   \n",
       "4             Low                Ibo               Limited   \n",
       "\n",
       "  Infrastructure development Dominant Age group Average family size  \\\n",
       "0                 Developing        25-44 years            4 people   \n",
       "1                    Limited              25-44                   4   \n",
       "2                       Slow              Youth                   4   \n",
       "3       Moderately developed        25-40 years                   5   \n",
       "4                 Developing              Youth                   4   \n",
       "\n",
       "  Average education level      Average Income in Naira  \n",
       "0     High school diploma  â‚¦150,000 ($390) per month  \n",
       "1             High school                    â‚¦40,000  \n",
       "2     High school diploma                    â‚¦50,000  \n",
       "3        Secondary school                    â‚¦80,000  \n",
       "4             High School             â‚¦60,000 ($150)  \n",
       "\n",
       "[5 rows x 23 columns]"
      ]
     },
     "execution_count": 69,
     "metadata": {},
     "output_type": "execute_result"
    }
   ],
   "source": [
    "feature_df.head()"
   ]
  },
  {
   "cell_type": "code",
   "execution_count": 70,
   "id": "764ebc8d",
   "metadata": {},
   "outputs": [
    {
     "data": {
      "text/plain": [
       "(731, 23)"
      ]
     },
     "execution_count": 70,
     "metadata": {},
     "output_type": "execute_result"
    }
   ],
   "source": [
    "feature_df.shape"
   ]
  },
  {
   "cell_type": "code",
   "execution_count": 71,
   "id": "9172b531",
   "metadata": {},
   "outputs": [
    {
     "name": "stdout",
     "output_type": "stream",
     "text": [
      "<class 'pandas.core.frame.DataFrame'>\n",
      "RangeIndex: 731 entries, 0 to 730\n",
      "Data columns (total 23 columns):\n",
      " #   Column                      Non-Null Count  Dtype \n",
      "---  ------                      --------------  ----- \n",
      " 0   Lga Name                    731 non-null    object\n",
      " 1   percentage of educated      730 non-null    object\n",
      " 2   Level of Isolation          730 non-null    object\n",
      " 3   Natural Barriers            730 non-null    object\n",
      " 4   Elevation                   730 non-null    object\n",
      " 5   Population                  730 non-null    object\n",
      " 6   Major Ocupation             730 non-null    object\n",
      " 7   Political stability         730 non-null    object\n",
      " 8   Economic Situation          730 non-null    object\n",
      " 9   Average Cost of living      730 non-null    object\n",
      " 10  Employment rate             730 non-null    object\n",
      " 11  Ethnic Marginalization      730 non-null    object\n",
      " 12  Transport infrastructure    730 non-null    object\n",
      " 13  Longitude                   730 non-null    object\n",
      " 14  Latitude                    730 non-null    object\n",
      " 15  Income Equality             730 non-null    object\n",
      " 16  Major ethnic group          730 non-null    object\n",
      " 17  Communication network       730 non-null    object\n",
      " 18  Infrastructure development  730 non-null    object\n",
      " 19  Dominant Age group          730 non-null    object\n",
      " 20  Average family size         730 non-null    object\n",
      " 21  Average education level     730 non-null    object\n",
      " 22  Average Income in Naira     727 non-null    object\n",
      "dtypes: object(23)\n",
      "memory usage: 131.5+ KB\n"
     ]
    }
   ],
   "source": [
    "feature_df.info()"
   ]
  },
  {
   "cell_type": "markdown",
   "id": "e52d9be8",
   "metadata": {},
   "source": [
    "Although, there are 774 local government areas in Nigeria. We could only extract records for 731. There is no feature record for 43 local governments. All the features are returned as object types."
   ]
  },
  {
   "cell_type": "code",
   "execution_count": 72,
   "id": "92dde189",
   "metadata": {},
   "outputs": [],
   "source": [
    "# save this dataset into the cleaned folder\n",
    "feature_df.to_csv('datasets/cleaned/df_lga_features.csv', index=False)"
   ]
  },
  {
   "cell_type": "markdown",
   "id": "59c9de2d",
   "metadata": {},
   "source": [
    "### 2.4 GitHub"
   ]
  },
  {
   "cell_type": "markdown",
   "id": "0f4eac27",
   "metadata": {},
   "source": [
    "The local governments in Nigeria dataset was gotten from github. It contains all the 774 local government area in Nigeria. The Local goverment is the lowest level of governemnt in Nigeria. Hence, the reason why properties of places are collected in the group of local governments. The dataset was gotten from <a href='https://github.com/xosasx/nigerian-local-government-areas'> this </a> repository. "
   ]
  },
  {
   "cell_type": "code",
   "execution_count": 61,
   "id": "d770e111",
   "metadata": {},
   "outputs": [
    {
     "data": {
      "text/html": [
       "<div>\n",
       "<style scoped>\n",
       "    .dataframe tbody tr th:only-of-type {\n",
       "        vertical-align: middle;\n",
       "    }\n",
       "\n",
       "    .dataframe tbody tr th {\n",
       "        vertical-align: top;\n",
       "    }\n",
       "\n",
       "    .dataframe thead th {\n",
       "        text-align: right;\n",
       "    }\n",
       "</style>\n",
       "<table border=\"1\" class=\"dataframe\">\n",
       "  <thead>\n",
       "    <tr style=\"text-align: right;\">\n",
       "      <th></th>\n",
       "      <th>id</th>\n",
       "      <th>name</th>\n",
       "      <th>state_id</th>\n",
       "      <th>state_code</th>\n",
       "      <th>state_name</th>\n",
       "      <th>country_id</th>\n",
       "      <th>country_code</th>\n",
       "      <th>country_name</th>\n",
       "      <th>latitude</th>\n",
       "      <th>longitude</th>\n",
       "      <th>wikiDataId</th>\n",
       "    </tr>\n",
       "  </thead>\n",
       "  <tbody>\n",
       "    <tr>\n",
       "      <th>0</th>\n",
       "      <td>1</td>\n",
       "      <td>Aba North</td>\n",
       "      <td>303</td>\n",
       "      <td>AB</td>\n",
       "      <td>Abia</td>\n",
       "      <td>161</td>\n",
       "      <td>NG</td>\n",
       "      <td>Nigeria</td>\n",
       "      <td>5.333333</td>\n",
       "      <td>7.316667</td>\n",
       "      <td>Q4663114</td>\n",
       "    </tr>\n",
       "    <tr>\n",
       "      <th>1</th>\n",
       "      <td>2</td>\n",
       "      <td>Aba South</td>\n",
       "      <td>303</td>\n",
       "      <td>AB</td>\n",
       "      <td>Abia</td>\n",
       "      <td>161</td>\n",
       "      <td>NG</td>\n",
       "      <td>Nigeria</td>\n",
       "      <td>5.100000</td>\n",
       "      <td>7.350000</td>\n",
       "      <td>Q4663117</td>\n",
       "    </tr>\n",
       "    <tr>\n",
       "      <th>2</th>\n",
       "      <td>3</td>\n",
       "      <td>Arochukwu</td>\n",
       "      <td>303</td>\n",
       "      <td>AB</td>\n",
       "      <td>Abia</td>\n",
       "      <td>161</td>\n",
       "      <td>NG</td>\n",
       "      <td>Nigeria</td>\n",
       "      <td>5.383333</td>\n",
       "      <td>7.916667</td>\n",
       "      <td>Q965036</td>\n",
       "    </tr>\n",
       "    <tr>\n",
       "      <th>3</th>\n",
       "      <td>4</td>\n",
       "      <td>Bende</td>\n",
       "      <td>303</td>\n",
       "      <td>AB</td>\n",
       "      <td>Abia</td>\n",
       "      <td>161</td>\n",
       "      <td>NG</td>\n",
       "      <td>Nigeria</td>\n",
       "      <td>5.566667</td>\n",
       "      <td>7.633333</td>\n",
       "      <td>Q4887027</td>\n",
       "    </tr>\n",
       "    <tr>\n",
       "      <th>4</th>\n",
       "      <td>5</td>\n",
       "      <td>Ikwuano</td>\n",
       "      <td>303</td>\n",
       "      <td>AB</td>\n",
       "      <td>Abia</td>\n",
       "      <td>161</td>\n",
       "      <td>NG</td>\n",
       "      <td>Nigeria</td>\n",
       "      <td>5.433333</td>\n",
       "      <td>7.566667</td>\n",
       "      <td>Q5996447</td>\n",
       "    </tr>\n",
       "  </tbody>\n",
       "</table>\n",
       "</div>"
      ],
      "text/plain": [
       "   id       name  state_id state_code state_name  country_id country_code  \\\n",
       "0   1  Aba North       303         AB       Abia         161           NG   \n",
       "1   2  Aba South       303         AB       Abia         161           NG   \n",
       "2   3  Arochukwu       303         AB       Abia         161           NG   \n",
       "3   4      Bende       303         AB       Abia         161           NG   \n",
       "4   5    Ikwuano       303         AB       Abia         161           NG   \n",
       "\n",
       "  country_name  latitude  longitude wikiDataId  \n",
       "0      Nigeria  5.333333   7.316667   Q4663114  \n",
       "1      Nigeria  5.100000   7.350000   Q4663117  \n",
       "2      Nigeria  5.383333   7.916667    Q965036  \n",
       "3      Nigeria  5.566667   7.633333   Q4887027  \n",
       "4      Nigeria  5.433333   7.566667   Q5996447  "
      ]
     },
     "execution_count": 61,
     "metadata": {},
     "output_type": "execute_result"
    }
   ],
   "source": [
    "df_lga.head()"
   ]
  },
  {
   "cell_type": "code",
   "execution_count": 62,
   "id": "4cfe5db0",
   "metadata": {},
   "outputs": [
    {
     "data": {
      "text/plain": [
       "(774, 11)"
      ]
     },
     "execution_count": 62,
     "metadata": {},
     "output_type": "execute_result"
    }
   ],
   "source": [
    "df_lga.shape"
   ]
  },
  {
   "cell_type": "code",
   "execution_count": 64,
   "id": "2252f2bf",
   "metadata": {},
   "outputs": [
    {
     "name": "stdout",
     "output_type": "stream",
     "text": [
      "<class 'pandas.core.frame.DataFrame'>\n",
      "RangeIndex: 774 entries, 0 to 773\n",
      "Data columns (total 11 columns):\n",
      " #   Column        Non-Null Count  Dtype  \n",
      "---  ------        --------------  -----  \n",
      " 0   id            774 non-null    int64  \n",
      " 1   name          774 non-null    object \n",
      " 2   state_id      774 non-null    int64  \n",
      " 3   state_code    761 non-null    object \n",
      " 4   state_name    774 non-null    object \n",
      " 5   country_id    774 non-null    int64  \n",
      " 6   country_code  774 non-null    object \n",
      " 7   country_name  774 non-null    object \n",
      " 8   latitude      774 non-null    float64\n",
      " 9   longitude     774 non-null    float64\n",
      " 10  wikiDataId    774 non-null    object \n",
      "dtypes: float64(2), int64(3), object(6)\n",
      "memory usage: 66.6+ KB\n"
     ]
    }
   ],
   "source": [
    "df_lga.info()"
   ]
  },
  {
   "cell_type": "code",
   "execution_count": 65,
   "id": "67344b03",
   "metadata": {},
   "outputs": [],
   "source": [
    "# save this dataset into the cleaned folder\n",
    "df_lga.to_csv('datasets/cleaned/df_lga_nig.csv', index=False)"
   ]
  }
 ],
 "metadata": {
  "kernelspec": {
   "display_name": "Python 3 (ipykernel)",
   "language": "python",
   "name": "python3"
  },
  "language_info": {
   "codemirror_mode": {
    "name": "ipython",
    "version": 3
   },
   "file_extension": ".py",
   "mimetype": "text/x-python",
   "name": "python",
   "nbconvert_exporter": "python",
   "pygments_lexer": "ipython3",
   "version": "3.10.9"
  }
 },
 "nbformat": 4,
 "nbformat_minor": 5
}
