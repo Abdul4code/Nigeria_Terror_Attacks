{
 "cells": [
  {
   "cell_type": "markdown",
   "id": "3d84e13c",
   "metadata": {},
   "source": [
    "<h1 style=\"text-align: center; color: red; font-size: 25pt; padding: 5px; font-weight: bold; text-shadow: 1px 1px 1px rgb(50, 100, 100)\"> Terror Attacks In Nigeria .... </h1> \n",
    "<p style=\"font-size: 12pt; text-align: center\"> Abubakar Abdulkadir</p>"
   ]
  },
  {
   "cell_type": "markdown",
   "id": "5437c629",
   "metadata": {},
   "source": [
    "<img src=\"images/bg.jpg\" style=\"width: 100%; height:350px; display: inline-block\" />"
   ]
  },
  {
   "cell_type": "markdown",
   "id": "6028e459",
   "metadata": {},
   "source": [
    "# 1.0 Project Overview"
   ]
  },
  {
   "cell_type": "markdown",
   "id": "a6835e9c",
   "metadata": {},
   "source": [
    "```A Terror attack is the unlawful use of force or violence against persons or property to intimidate or coerce a government, the civilian population, or any segment thereof in furtherance of political or social objectives\"``` - - The Federal Bereau of Intelligence, US.\n",
    "\n",
    "Nigeria is one of such countries of the world where insecurity and terrorist activities has been on the rise. The West African nation is one of the most hazardous nations in the world, with the most frequent and deadly attacks. There have been 2470 terrorist incidents in the last five years, resulting in 17751 fatalities and 7345 injuries (WorldData.info). With the emergence of new dangerous groups like the Fulani extremists and herdsmen, these numbers continue to rise daily.\n",
    "\n",
    "Attacks in Nigeria have the notable characteristic that each terrorist group or sect's attacks can almost immediately be linked to them due to similarities in the attack's mode, target, duration, motive, and casualty toll, among other factors. It can be argued that patterns and intelligence can be extracted from datasets of these attacks. Even if these records are accessible in public places like Wikipedia, social media platforms like Facebook and Twitter, news websites, and newspapers, to name a few, they aren't offered in formats that are simple to use with tools for data manipulation and analysis. Consequently, limiting the utilizing of data-centric approach in combating terrorism in the nation.\n",
    "\n",
    "This furthers the project's motivation. To aid in the fight against insecurity, the project aims to collect data about attacks and security incidences in Nigeria, process the data into a widely used format, perform analysis on the dataset to identify trends and patterns, and provide answers to questions about the mode of operation, timing, motive, and other aspects of the attacks.\n",
    "\n",
    "Although the project's main focus is on insecurity in Nigeria, it has worldwide significance because terrorism has always been a problem on a global scale. While it is true that this threat's exposure differs from region to region and country to country, the necessity of taking effective action on a global scale cannot be overstated."
   ]
  },
  {
   "cell_type": "markdown",
   "id": "6c324a80",
   "metadata": {},
   "source": [
    "# 2. 0 Data Collection\n",
    "\n",
    "The datasets considered for this project are collected from four different sources including the Armed Conflict Location and Event Data project (ACLED), the global terrorism database (GTD), CHATGPT API and GITHUB "
   ]
  },
  {
   "cell_type": "markdown",
   "id": "1f0f037e",
   "metadata": {},
   "source": [
    "### 2.1 Armed Conflict Location & Event Data Project (ACLED)\n",
    "\n",
    "The dataset from this source includes All insecurity incidences in Nigeria from January 2009 to March 28 2023. It has 31 features which includes time and date related features, location features, event properties, casualties, information sources, and brief description of event.\n",
    "\n",
    "The insecurity incidences covered in this dataset involves Violence against civilians, Battles, Protests, Riots, Explosions/Remote violence and Strategic developments. The dataset comes in a CSV format and can be assessed on the ACLED data download <a href='https://acleddata.com/data-export-tool/'>portal</a> "
   ]
  },
  {
   "cell_type": "markdown",
   "id": "3c073311",
   "metadata": {},
   "source": [
    "### 2.2 Global Terrorism Database (GTD)\n",
    "\n",
    "The Global Terrorism Database (GTD) is an open-source database including information on terrorist events around the world from 1970 through 2020 (with annual updates planned for the future). Unlike many other event databases, the GTD includes systematic data on domestic as well as international terrorist incidents that have occurred during this time period and now includes more than 200,000 cases. Although, for this use case, the data collected from this database was filtered to contain only events which occured in Nigeria.\n",
    "\n",
    "The dataset collected from this source includes 135 features. Although, it was narrowed down to 16 for this project. The dataset can be downloaded from their website at <a href=\"https://www.start.umd.edu/gtd/\"> GTD portal</a> "
   ]
  },
  {
   "cell_type": "markdown",
   "id": "2496259f",
   "metadata": {},
   "source": [
    "### 2.3 ChatGPT API"
   ]
  },
  {
   "cell_type": "markdown",
   "id": "32fab0f3",
   "metadata": {},
   "source": [
    "ChatGPT API is the Application interface through which the chatGPT model can be accessed. ChatGPT is an AI chatbot that was initially built on a family of large language models (LLMs) collectively known as GPT-3. This model has been trained on huge amount of data to understand and generate human like responses to text prompts. Although, it occassional provides incorrect responses, its ability to produce human-like, and frequently accurate, responses to a vast range of questions is why it is considered for this pproject.\n",
    "\n",
    "This API is used to curate a list of properties for each local government area in Nigeria. Alhough, it is worthy of note that whatever response the API is providing is based of its knowledge of 2021 which is the range of dataset it has been trained on."
   ]
  },
  {
   "cell_type": "markdown",
   "id": "a63371ed",
   "metadata": {},
   "source": [
    "#### 2.3.1 Collecting Dataset from Chat GPT API"
   ]
  },
  {
   "cell_type": "code",
   "execution_count": 1,
   "id": "5ddb39aa",
   "metadata": {},
   "outputs": [],
   "source": [
    "#importing packages\n",
    "import openai\n",
    "import pandas as pd\n",
    "from csv import writer\n",
    "import re"
   ]
  },
  {
   "cell_type": "code",
   "execution_count": 2,
   "id": "54d81c59",
   "metadata": {},
   "outputs": [],
   "source": [
    "openai.api_key = 'xxxxxxxxxxxxxxxxxxxxxxxxxxxxxxxxxxxxx'  # input the API key"
   ]
  },
  {
   "cell_type": "code",
   "execution_count": 4,
   "id": "c5d221f8",
   "metadata": {},
   "outputs": [],
   "source": [
    "df = pd.read_csv('datasets/cleaned/lgas.csv') # read csv file of all local government area in Nigeria"
   ]
  },
  {
   "cell_type": "code",
   "execution_count": null,
   "id": "e6614baa",
   "metadata": {},
   "outputs": [],
   "source": [
    "# seek details in batches of 100\n",
    "for i in range(0, 800, 100):\n",
    "    cur_lgas = df.iloc[i:i + 100]\n",
    "    lga = list(cur_lgas['name'])\n",
    "    \n",
    "    #loop through each local government name in each batch\n",
    "    for j in range(len(lga)):\n",
    "        prompt = '''In one word each, Provide actual values for the questions  \n",
    "                1. Percentage of Educated\n",
    "                2. Level of Isolation\n",
    "                3. Natural Barriers\n",
    "                4. Elevation\n",
    "                5. Population\n",
    "                6. Major Ocupation\n",
    "                7. Political stability\n",
    "                8. Economic Situation\n",
    "                9. Average Cost of living\n",
    "                10. Employment rate\n",
    "                11. Ethnic Marginalization\n",
    "                12. Transport infrastructure\n",
    "                13. Longitude \n",
    "                14. Latitude\n",
    "                15. Income Equality\n",
    "                16. Major ethnic group\n",
    "                17. Communication network\n",
    "                18. Infrastructure development\n",
    "                19. Dominant Age group\n",
    "                20. Average family size\n",
    "                21. Average education level\n",
    "                22. Average Income in Naira\n",
    "                of ${}. \n",
    "                Numper your reponse and put your answer in a single line '''.format(lga[j])\n",
    "\n",
    "        response = openai.ChatCompletion.create(\n",
    "              model=\"gpt-3.5-turbo\",\n",
    "              messages=[ \n",
    "                    {\"role\": \"user\", \"content\": prompt},     \n",
    "                ]\n",
    "        )\n",
    "        \n",
    "        data = (response['choices'][0]['message'].content).replace('\\n', ' ')\n",
    "\n",
    "        # append the response to a file\n",
    "        f_object = open('laga_dataset.txt', 'a', encoding=\"utf-8\")\n",
    "        f_object.write(\"*** 0\" + lga[j] + \" \"  + \" \" + data + \" \" + \"*** /n\")"
   ]
  },
  {
   "cell_type": "markdown",
   "id": "34aa36b0",
   "metadata": {},
   "source": [
    "#### 2.3.2 Formating the dataset into CSV"
   ]
  },
  {
   "cell_type": "code",
   "execution_count": null,
   "id": "8b5715ea",
   "metadata": {},
   "outputs": [],
   "source": [
    "#read the txt file\n",
    "with open('laga_dataset.txt', 'r') as f_handler:\n",
    "    features = f_handler.read()\n",
    "\n",
    "# split the dataset into each local goverment with the \"*** 0\" marker and ignore the first entry (It is empty)\n",
    "each_feature = features.split(\"*** 0\")[1:]\n",
    "\n",
    "# split each feature into a list and append it to another list to form a list of list\n",
    "features_list = []\n",
    "for feature in each_feature:\n",
    "    feature = feature.replace(\"*** /n\", \"\")\n",
    "    str_list = re.sub(r'\\d+\\. ', '<break>', feature).split('<break>')\n",
    "    str_list = [x.strip() for x in str_list if (len(x.strip()) > 1 or re.findall('\\d+', x))]\n",
    "    features_list.append(str_list)"
   ]
  },
  {
   "cell_type": "code",
   "execution_count": null,
   "id": "84aeeaf1",
   "metadata": {},
   "outputs": [],
   "source": [
    "# define the pandas column header names\n",
    "columns = [\n",
    "            \"Lga Name\", \"percentage of educated\", \"Level of Isolation\", \"Natural Barriers\", \"Elevation\", \n",
    "            \"Population\", \"Major Ocupation\", \"Political stability\", \n",
    "            \"Economic Situation\", \"Average Cost of living\", \"Employment rate\", \n",
    "            \"Ethnic Marginalization\", \"Transport infrastructure\", \"Longitude\",  \n",
    "            \"Latitude\", \"Income Equality\", \"Major ethnic group\", \"Communication network\", \n",
    "            \"Infrastructure development\", \"Dominant Age group\", \"Average family size\",\n",
    "            \"Average education level\", \"Average Income in Naira\"\n",
    "]\n",
    "\n",
    "\n",
    "#create a dataframe with the dataset\n",
    "feature_df = pd.DataFrame(features_list, columns=columns)"
   ]
  },
  {
   "cell_type": "markdown",
   "id": "c2bd5927",
   "metadata": {},
   "source": [
    "### 2.4 GitHub"
   ]
  },
  {
   "cell_type": "markdown",
   "id": "71bef05d",
   "metadata": {},
   "source": [
    "The local governments in Nigeria dataset was gotten from github. It contains all the 774 local government area in Nigeria. The Local goverment is the lowest level of governemnt in Nigeria. Hence, the reason why properties of places are collected in the group of local governments. The dataset was gotten from <a href='https://github.com/xosasx/nigerian-local-government-areas'> this </a> repository. "
   ]
  },
  {
   "cell_type": "code",
   "execution_count": null,
   "id": "966514c3",
   "metadata": {},
   "outputs": [],
   "source": []
  }
 ],
 "metadata": {
  "kernelspec": {
   "display_name": "Python 3 (ipykernel)",
   "language": "python",
   "name": "python3"
  },
  "language_info": {
   "codemirror_mode": {
    "name": "ipython",
    "version": 3
   },
   "file_extension": ".py",
   "mimetype": "text/x-python",
   "name": "python",
   "nbconvert_exporter": "python",
   "pygments_lexer": "ipython3",
   "version": "3.10.9"
  }
 },
 "nbformat": 4,
 "nbformat_minor": 5
}
