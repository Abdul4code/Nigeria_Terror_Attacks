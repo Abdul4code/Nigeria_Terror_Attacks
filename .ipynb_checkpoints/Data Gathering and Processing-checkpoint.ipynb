{
 "cells": [
  {
   "attachments": {},
   "cell_type": "markdown",
   "id": "391464ff",
   "metadata": {},
   "source": [
    "<img src=\"https://th.bing.com/th/id/R.62a8d2279ebbe1bb4ea9bedb0096fbbd?rik=uO7vY%2fzlyNUQbg&pid=ImgRaw&r=0\" style=\"width: 100%; height:300px; display: inline-block\" />\n",
    "\n",
    "<h1 style=\"position: absolute; top: 20%; text-align: center; color: red; font-size: 30pt; padding: 40px; color: red\"> Terror Attacks In Nigeria </h1>"
   ]
  },
  {
   "cell_type": "code",
   "execution_count": null,
   "id": "4a90732a",
   "metadata": {},
   "outputs": [],
   "source": []
  }
 ],
 "metadata": {
  "kernelspec": {
   "display_name": "Python 3 (ipykernel)",
   "language": "python",
   "name": "python3"
  },
  "language_info": {
   "codemirror_mode": {
    "name": "ipython",
    "version": 3
   },
   "file_extension": ".py",
   "mimetype": "text/x-python",
   "name": "python",
   "nbconvert_exporter": "python",
   "pygments_lexer": "ipython3",
   "version": "3.7.6"
  }
 },
 "nbformat": 4,
 "nbformat_minor": 5
}
