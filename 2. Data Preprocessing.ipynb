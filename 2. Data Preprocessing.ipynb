{
 "cells": [
  {
   "cell_type": "markdown",
   "id": "d3fb1a7d",
   "metadata": {},
   "source": [
    "<h1 style=\"text-align: center; color: red; font-size: 25pt; font-weight: bold; text-shadow: 1px 1px 1px rgb(50, 100, 100)\"> Terror Attacks In Nigeria .... </h1> \n",
    "<p style=\"font-size: 12pt; text-align: center\"> Abubakar Abdulkadir</p>"
   ]
  },
  {
   "cell_type": "markdown",
   "id": "a88a1ebe",
   "metadata": {},
   "source": [
    "<img src=\"images/bg.jpg\" style=\"width: 100%; height:350px; display: inline-block\" />"
   ]
  },
  {
   "cell_type": "markdown",
   "id": "d87a8c27",
   "metadata": {},
   "source": [
    "<h1 style='background-color: red; padding: 10px; color: white'> 1.0 Data Preprocessing </h1>"
   ]
  },
  {
   "cell_type": "markdown",
   "id": "03ab3a18",
   "metadata": {},
   "source": [
    "Data preprocessing is the process of preparing raw data for analysis by cleaning, transforming, and integrating it into a suitable format. The goal of data preprocessing phase is to improve the quality and efficiency of data analysis by removing irrelevant data, filling missing values, and converting data into a more appropriate format.\n",
    "\n",
    "The process typically involves several steps, including \n",
    "- data cleaning \n",
    "- data integration \n",
    "- data transformation\n",
    "- and data reduction.\n",
    "\n",
    "Effective data preprocessing is essential for accurate and efficient data mining. By improving the quality and consistency of the data, data preprocessing can help data analysts to identify patterns and trends, make better decisions, and gain deeper insights into the underlying data."
   ]
  },
  {
   "cell_type": "code",
   "execution_count": 47,
   "id": "115224ee",
   "metadata": {},
   "outputs": [],
   "source": [
    "# import libraries\n",
    "import pandas as pd\n",
    "import numpy as np\n",
    "import re\n",
    "import warnings\n",
    "\n",
    "\n",
    "# Suppress warning messages from Pandas\n",
    "warnings.filterwarnings('ignore')\n",
    "\n",
    "\n",
    "# importing the dataset\n",
    "df_acled = pd.read_csv('datasets/cleaned/df_acled_nig.csv') # ACLED dataset \n",
    "df_gtd = pd.read_csv('datasets/cleaned/df_gtd_nig.csv') # GTD dataset 1970 to 2020\n",
    "df_lga = pd.read_csv('datasets/cleaned/df_lga_nig.csv') # LGA datasets\n",
    "df_lga_features = pd.read_csv('datasets/cleaned/df_lga_features.csv') # LGA datasets"
   ]
  },
  {
   "cell_type": "markdown",
   "id": "2c6b1356",
   "metadata": {},
   "source": [
    "## 1.0 All functions used for data cleaning\n",
    "\n",
    "All the functions used for this stage of the project is defined in this section. Most of the function are used for the cleaning of the LGA features dataset because they contain the most level of dirt."
   ]
  },
  {
   "cell_type": "code",
   "execution_count": 153,
   "id": "c35c17de",
   "metadata": {},
   "outputs": [],
   "source": [
    "# This function extracts numbers from a dirty string. It will match numbers like '1', '20', '01', '10,10', '10,20.00' etc\n",
    "def get_numbers_without_units(row, column, no_match_value='default'):\n",
    "    perc = row[column]\n",
    "    try:\n",
    "        perc = re.findall('\\d+(?:,?\\d*)*\\.*\\d*', perc)[0]\n",
    "        perc = perc.replace(',', '')\n",
    "    except:\n",
    "        if no_match_value == 'default':\n",
    "            return perc\n",
    "        else:\n",
    "            return no_match_value\n",
    "    return perc\n",
    "\n",
    "\n",
    "# This function returns only sequential alphabets in a string. It matches only strings strating with aphabets\n",
    "def retrieve_alphabets(row, column_name):\n",
    "    res = row[column_name]\n",
    "    try:\n",
    "        res = ' '.join(re.findall('[a-zA-Z]+', res))\n",
    "    except:\n",
    "        return ''\n",
    "    return res.lower()\n",
    "\n",
    "\n",
    "def replace_word(row, word, repl_word, column):\n",
    "    '''\n",
    "        searches for word in column. If it exists, it replaces the column with repl_word\n",
    "    '''\n",
    "    try:\n",
    "        if word.lower() in row[column].lower(): \n",
    "            return  repl_word.lower()\n",
    "\n",
    "        return row[column].lower()\n",
    "    except:\n",
    "        return ''\n",
    "    \n",
    "    return ''\n",
    " \n",
    "\n",
    "def replace_words(dataframe, repls, column):\n",
    "    '''\n",
    "        Searches for a string B in A. If B is in A it replaces A with another string C.\n",
    "        \n",
    "        Arguments:\n",
    "        -----------------------------\n",
    "        row - single row in a dataframe\n",
    "        column - Name of column in the row which contains string A\n",
    "        repls - list of tupples i.e [('B', 'C'), ('B', 'C')]\n",
    "    '''\n",
    "    for repl in repls:\n",
    "        dataframe[column] = dataframe.apply(replace_word, word=repl[0], repl_word=repl[1], column=column, axis=1)\n",
    "        \n",
    "    return dataframe[column]\n",
    "\n",
    "\n",
    "def binarize(row, word, column):\n",
    "    '''\n",
    "        Searches for a word in a string. If found, it replaces the entire string with 1 else it replaces it with 0\n",
    "    '''\n",
    "    row_word = row[column]\n",
    "    try:\n",
    "        if word.lower() in row_word.lower():\n",
    "            return 1\n",
    "        else:\n",
    "            return 0\n",
    "    except:\n",
    "        return 0\n",
    "    \n",
    "    \n",
    "def extract_numbers_units(row, values, column, find_all=False):\n",
    "    '''\n",
    "        Extracts values and their units from a string.\n",
    "    '''\n",
    "    cur_val = row[column]\n",
    "\n",
    "    try:\n",
    "        for value in values:\n",
    "            res = re.findall('\\d+(?:,?\\d*)*\\.*\\s*{}'.format(value), cur_val)\n",
    "            if res:\n",
    "                break\n",
    "\n",
    "        if res:\n",
    "            return res[0]\n",
    "        else:\n",
    "            return cur_val\n",
    "    except:\n",
    "        return ''\n",
    "    \n",
    "\n",
    "def convert_values(row, values, column):\n",
    "    '''\n",
    "        converts values with different units to a single unit\n",
    "        \n",
    "        parameters:\n",
    "        ---------------------------\n",
    "        values - list of tupples - first entry in the tupple is the unit and the second entry is the convertion rate. \n",
    "                i.e [('m', 0.75), ('hrs', 60)]\n",
    "        \n",
    "    '''\n",
    "    cur_val = row[column]\n",
    "    for value in values:\n",
    "        if value[0] in cur_val:\n",
    "            res = re.search(r'\\d+(?:,?\\d*)*\\.*', cur_val)\n",
    "            if res:\n",
    "                res = res.group().replace(',', '')\n",
    "                res = float(res) * value[1]\n",
    "                return res\n",
    "    return cur_val.replace(',', '')\n",
    "\n",
    "\n",
    "def extract_convert_curr(row, column, currencies):\n",
    "    '''\n",
    "        extracting amount with the currency sign in a string, then converts the amount with the value\n",
    "        of the currency attached\n",
    "    '''\n",
    "    cur_val = row[column]\n",
    "    try:\n",
    "        for currency in currencies:\n",
    "            pattern = fr'{re.escape(currency[0])}\\s?\\d+(,\\d+)*(\\.\\d+)?\\d*'\n",
    "            res = re.search(pattern, cur_val)\n",
    "\n",
    "            if res:\n",
    "                res = res.group()\n",
    "                res = re.search(r'\\d+(,\\d+)?(\\.\\d+)?\\d?', res).group()\n",
    "                res = res.replace(',', '')\n",
    "                return float(res) * currency[1]\n",
    "\n",
    "\n",
    "        res = re.search(r'\\d+(,\\d+)?(\\.\\d+)?\\d?', cur_val)\n",
    "        if res:\n",
    "            res =  res.group().replace(',', '')\n",
    "            return float(res)\n",
    "    except:\n",
    "        return ''\n",
    "\n",
    "    return ''\n",
    "    \n",
    "def extract_age_range(row, column):\n",
    "    cur_val = row[column]\n",
    "    try:\n",
    "        res = re.search(r'\\d+\\-?(\\d+)?', cur_val)\n",
    "\n",
    "        if res:\n",
    "            res = res.group()\n",
    "            return res\n",
    "        if 'youth' in cur_val.lower():\n",
    "            return '15-35'\n",
    "        elif 'young adult' in cur_val.lower():\n",
    "            return '18-35'\n",
    "        elif 'middle' in cur_val.lower():\n",
    "            return '65-40'\n",
    "    except:\n",
    "        return ''\n",
    "    return ''"
   ]
  },
  {
   "cell_type": "markdown",
   "id": "cbf9485f",
   "metadata": {},
   "source": [
    "## 1.1 Data Cleaning"
   ]
  },
  {
   "cell_type": "markdown",
   "id": "6a99d674",
   "metadata": {},
   "source": [
    "Data cleaning involves removing noise, errors, and inconsistencies from the data. "
   ]
  },
  {
   "cell_type": "markdown",
   "id": "e2653116",
   "metadata": {},
   "source": [
    "### 1.1.1 Cleaning the ACLED Dataset"
   ]
  },
  {
   "cell_type": "markdown",
   "id": "d81ee46e",
   "metadata": {},
   "source": [
    "#### Handling Null values"
   ]
  },
  {
   "cell_type": "code",
   "execution_count": 48,
   "id": "7c76d255",
   "metadata": {},
   "outputs": [
    {
     "data": {
      "text/plain": [
       "event_id_cnty             0\n",
       "event_date                0\n",
       "year                      0\n",
       "time_precision            0\n",
       "disorder_type             0\n",
       "event_type                0\n",
       "sub_event_type            0\n",
       "actor1                    0\n",
       "assoc_actor_1         20021\n",
       "inter1                    0\n",
       "actor2                 6854\n",
       "assoc_actor_2         21632\n",
       "inter2                    0\n",
       "interaction               0\n",
       "civilian_targeting    17231\n",
       "iso                       0\n",
       "region                    0\n",
       "country                   0\n",
       "admin1                    1\n",
       "admin2                    1\n",
       "admin3                28160\n",
       "location                  0\n",
       "latitude                  0\n",
       "longitude                 0\n",
       "geo_precision             0\n",
       "source                    0\n",
       "source_scale              0\n",
       "notes                     0\n",
       "fatalities                0\n",
       "tags                  23316\n",
       "timestamp                 0\n",
       "dtype: int64"
      ]
     },
     "execution_count": 48,
     "metadata": {},
     "output_type": "execute_result"
    }
   ],
   "source": [
    "df_acled.isnull().sum()"
   ]
  },
  {
   "cell_type": "code",
   "execution_count": 49,
   "id": "72301964",
   "metadata": {},
   "outputs": [
    {
     "data": {
      "text/plain": [
       "assoc_actor_1          71.097301\n",
       "actor2                 24.339489\n",
       "assoc_actor_2          76.818182\n",
       "civilian_targeting     61.189631\n",
       "admin1                  0.003551\n",
       "admin2                  0.003551\n",
       "admin3                100.000000\n",
       "tags                   82.798295\n",
       "dtype: float64"
      ]
     },
     "execution_count": 49,
     "metadata": {},
     "output_type": "execute_result"
    }
   ],
   "source": [
    "# Percentage of null values in fields containing nulls\n",
    "null_pct = df_acled.isnull().mean() * 100\n",
    "null_pct = null_pct[null_pct.values > 0]\n",
    "null_pct"
   ]
  },
  {
   "cell_type": "markdown",
   "id": "a7d9c7f1",
   "metadata": {},
   "source": [
    "8 out of the available 32 features contain null values. Of these eight, their percentages show that majority of them have above 70% null entries. For features with percentages above the 50% benchmark, dropping of the features are considered. Hence, we will consider inputation for actor2, admin1 and admin2. \n",
    "\n",
    "- The actor2 feature represents the secondary actor involved in the event, which can be another armed group, an international organization, a civilian group, or other types of actors. Null values in this field could mean that there is no record for this actor. For the purpose of this project, imputation by mode will undesirable because it could lead to misinformation or a potential unreliability of information derived from this field. Hence, null values in this field are replaced with a constant keyword 'unknown'. \n",
    "\n",
    "- The admin1 feature represents the highest level of administrative division in the location, such as a state, province, or region, depending on the country. The admin2 feature represents the second-highest level of administrative division, such as a district, county, or municipality. Hence, like the actor2, implacing nulls with constant keyword \"unkown\" is prefered."
   ]
  },
  {
   "cell_type": "code",
   "execution_count": 50,
   "id": "8ba53e59",
   "metadata": {},
   "outputs": [],
   "source": [
    "# drop all columns where percentage of nulls are greater than 50%\n",
    "drop_cols = null_pct[null_pct > 50].index.tolist()\n",
    "df_acled = df_acled.drop(columns=drop_cols)\n",
    "\n",
    "# input 'unknown' keyword for actor2, admin1, admin2 features\n",
    "df_acled[['actor2', 'admin1', 'admin2']] = df_acled[['actor2', 'admin1', 'admin2']].fillna('unknown')"
   ]
  },
  {
   "cell_type": "code",
   "execution_count": 51,
   "id": "b243e65d",
   "metadata": {},
   "outputs": [
    {
     "data": {
      "text/plain": [
       "event_id_cnty     0\n",
       "event_date        0\n",
       "year              0\n",
       "time_precision    0\n",
       "disorder_type     0\n",
       "event_type        0\n",
       "sub_event_type    0\n",
       "actor1            0\n",
       "inter1            0\n",
       "actor2            0\n",
       "inter2            0\n",
       "interaction       0\n",
       "iso               0\n",
       "region            0\n",
       "country           0\n",
       "admin1            0\n",
       "admin2            0\n",
       "location          0\n",
       "latitude          0\n",
       "longitude         0\n",
       "geo_precision     0\n",
       "source            0\n",
       "source_scale      0\n",
       "notes             0\n",
       "fatalities        0\n",
       "timestamp         0\n",
       "dtype: int64"
      ]
     },
     "execution_count": 51,
     "metadata": {},
     "output_type": "execute_result"
    }
   ],
   "source": [
    "df_acled.isnull().sum()"
   ]
  },
  {
   "cell_type": "markdown",
   "id": "531128f7",
   "metadata": {},
   "source": [
    "#### Handling Inconsistencies"
   ]
  },
  {
   "cell_type": "code",
   "execution_count": 52,
   "id": "744df49b",
   "metadata": {},
   "outputs": [
    {
     "data": {
      "text/html": [
       "<div>\n",
       "<style scoped>\n",
       "    .dataframe tbody tr th:only-of-type {\n",
       "        vertical-align: middle;\n",
       "    }\n",
       "\n",
       "    .dataframe tbody tr th {\n",
       "        vertical-align: top;\n",
       "    }\n",
       "\n",
       "    .dataframe thead th {\n",
       "        text-align: right;\n",
       "    }\n",
       "</style>\n",
       "<table border=\"1\" class=\"dataframe\">\n",
       "  <thead>\n",
       "    <tr style=\"text-align: right;\">\n",
       "      <th></th>\n",
       "      <th>event_id_cnty</th>\n",
       "      <th>event_date</th>\n",
       "      <th>disorder_type</th>\n",
       "      <th>event_type</th>\n",
       "      <th>sub_event_type</th>\n",
       "      <th>actor1</th>\n",
       "      <th>actor2</th>\n",
       "      <th>region</th>\n",
       "      <th>country</th>\n",
       "      <th>admin1</th>\n",
       "      <th>admin2</th>\n",
       "      <th>location</th>\n",
       "      <th>source</th>\n",
       "      <th>source_scale</th>\n",
       "      <th>notes</th>\n",
       "    </tr>\n",
       "  </thead>\n",
       "  <tbody>\n",
       "    <tr>\n",
       "      <th>count</th>\n",
       "      <td>28160</td>\n",
       "      <td>28160</td>\n",
       "      <td>28160</td>\n",
       "      <td>28160</td>\n",
       "      <td>28160</td>\n",
       "      <td>28160</td>\n",
       "      <td>28160</td>\n",
       "      <td>28160</td>\n",
       "      <td>28160</td>\n",
       "      <td>28160</td>\n",
       "      <td>28160</td>\n",
       "      <td>28160</td>\n",
       "      <td>28160</td>\n",
       "      <td>28160</td>\n",
       "      <td>28160</td>\n",
       "    </tr>\n",
       "    <tr>\n",
       "      <th>unique</th>\n",
       "      <td>28160</td>\n",
       "      <td>4489</td>\n",
       "      <td>4</td>\n",
       "      <td>6</td>\n",
       "      <td>24</td>\n",
       "      <td>667</td>\n",
       "      <td>684</td>\n",
       "      <td>1</td>\n",
       "      <td>1</td>\n",
       "      <td>38</td>\n",
       "      <td>745</td>\n",
       "      <td>4261</td>\n",
       "      <td>3119</td>\n",
       "      <td>21</td>\n",
       "      <td>26640</td>\n",
       "    </tr>\n",
       "    <tr>\n",
       "      <th>top</th>\n",
       "      <td>NIG30571</td>\n",
       "      <td>18 March 2023</td>\n",
       "      <td>Political violence</td>\n",
       "      <td>Violence against civilians</td>\n",
       "      <td>Attack</td>\n",
       "      <td>Protesters (Nigeria)</td>\n",
       "      <td>Civilians (Nigeria)</td>\n",
       "      <td>Western Africa</td>\n",
       "      <td>Nigeria</td>\n",
       "      <td>Borno</td>\n",
       "      <td>Abuja Municipal</td>\n",
       "      <td>Abuja</td>\n",
       "      <td>Vanguard (Nigeria)</td>\n",
       "      <td>National</td>\n",
       "      <td>Organised labour, including the NLC and its ci...</td>\n",
       "    </tr>\n",
       "    <tr>\n",
       "      <th>freq</th>\n",
       "      <td>1</td>\n",
       "      <td>64</td>\n",
       "      <td>19523</td>\n",
       "      <td>9473</td>\n",
       "      <td>7522</td>\n",
       "      <td>6162</td>\n",
       "      <td>11290</td>\n",
       "      <td>28160</td>\n",
       "      <td>28160</td>\n",
       "      <td>4527</td>\n",
       "      <td>1223</td>\n",
       "      <td>1055</td>\n",
       "      <td>3237</td>\n",
       "      <td>19514</td>\n",
       "      <td>24</td>\n",
       "    </tr>\n",
       "  </tbody>\n",
       "</table>\n",
       "</div>"
      ],
      "text/plain": [
       "       event_id_cnty     event_date       disorder_type  \\\n",
       "count          28160          28160               28160   \n",
       "unique         28160           4489                   4   \n",
       "top         NIG30571  18 March 2023  Political violence   \n",
       "freq               1             64               19523   \n",
       "\n",
       "                        event_type sub_event_type                actor1  \\\n",
       "count                        28160          28160                 28160   \n",
       "unique                           6             24                   667   \n",
       "top     Violence against civilians         Attack  Protesters (Nigeria)   \n",
       "freq                          9473           7522                  6162   \n",
       "\n",
       "                     actor2          region  country admin1           admin2  \\\n",
       "count                 28160           28160    28160  28160            28160   \n",
       "unique                  684               1        1     38              745   \n",
       "top     Civilians (Nigeria)  Western Africa  Nigeria  Borno  Abuja Municipal   \n",
       "freq                  11290           28160    28160   4527             1223   \n",
       "\n",
       "       location              source source_scale  \\\n",
       "count     28160               28160        28160   \n",
       "unique     4261                3119           21   \n",
       "top       Abuja  Vanguard (Nigeria)     National   \n",
       "freq       1055                3237        19514   \n",
       "\n",
       "                                                    notes  \n",
       "count                                               28160  \n",
       "unique                                              26640  \n",
       "top     Organised labour, including the NLC and its ci...  \n",
       "freq                                                   24  "
      ]
     },
     "execution_count": 52,
     "metadata": {},
     "output_type": "execute_result"
    }
   ],
   "source": [
    "# select all the categorical features and describing them\n",
    "df_acled.select_dtypes(include=['object']).describe()"
   ]
  },
  {
   "cell_type": "code",
   "execution_count": 53,
   "id": "8de8242f",
   "metadata": {},
   "outputs": [
    {
     "name": "stdout",
     "output_type": "stream",
     "text": [
      "<class 'pandas.core.frame.DataFrame'>\n",
      "RangeIndex: 28160 entries, 0 to 28159\n",
      "Data columns (total 15 columns):\n",
      " #   Column          Non-Null Count  Dtype \n",
      "---  ------          --------------  ----- \n",
      " 0   event_id_cnty   28160 non-null  object\n",
      " 1   event_date      28160 non-null  object\n",
      " 2   disorder_type   28160 non-null  object\n",
      " 3   event_type      28160 non-null  object\n",
      " 4   sub_event_type  28160 non-null  object\n",
      " 5   actor1          28160 non-null  object\n",
      " 6   actor2          28160 non-null  object\n",
      " 7   region          28160 non-null  object\n",
      " 8   country         28160 non-null  object\n",
      " 9   admin1          28160 non-null  object\n",
      " 10  admin2          28160 non-null  object\n",
      " 11  location        28160 non-null  object\n",
      " 12  source          28160 non-null  object\n",
      " 13  source_scale    28160 non-null  object\n",
      " 14  notes           28160 non-null  object\n",
      "dtypes: object(15)\n",
      "memory usage: 3.2+ MB\n"
     ]
    }
   ],
   "source": [
    "df_acled.select_dtypes(include=['object']).info()"
   ]
  },
  {
   "cell_type": "markdown",
   "id": "7ef05b29",
   "metadata": {},
   "source": [
    "The only inconsistency in the categorical subset of the dataset in terms of datatype is the event_date which is an object datatype instaed of datetime. Although, region and country have just one unique value each; western africa and Nigeria. There is no much information to be gained from those features hence, we can do away with them."
   ]
  },
  {
   "cell_type": "code",
   "execution_count": 54,
   "id": "979cbc6a",
   "metadata": {},
   "outputs": [],
   "source": [
    "# drop the region and country feature\n",
    "df_acled = df_acled.drop(columns=['region', 'country'])"
   ]
  },
  {
   "cell_type": "code",
   "execution_count": 55,
   "id": "cf7b2df2",
   "metadata": {},
   "outputs": [],
   "source": [
    "# convert the event_date to datetime feature\n",
    "df_acled['event_date'] = pd.to_datetime(df_acled['event_date'], format='%d %B %Y')"
   ]
  },
  {
   "cell_type": "code",
   "execution_count": 56,
   "id": "ca6c029f",
   "metadata": {},
   "outputs": [
    {
     "data": {
      "text/html": [
       "<div>\n",
       "<style scoped>\n",
       "    .dataframe tbody tr th:only-of-type {\n",
       "        vertical-align: middle;\n",
       "    }\n",
       "\n",
       "    .dataframe tbody tr th {\n",
       "        vertical-align: top;\n",
       "    }\n",
       "\n",
       "    .dataframe thead th {\n",
       "        text-align: right;\n",
       "    }\n",
       "</style>\n",
       "<table border=\"1\" class=\"dataframe\">\n",
       "  <thead>\n",
       "    <tr style=\"text-align: right;\">\n",
       "      <th></th>\n",
       "      <th>year</th>\n",
       "      <th>time_precision</th>\n",
       "      <th>inter1</th>\n",
       "      <th>inter2</th>\n",
       "      <th>interaction</th>\n",
       "      <th>iso</th>\n",
       "      <th>latitude</th>\n",
       "      <th>longitude</th>\n",
       "      <th>geo_precision</th>\n",
       "      <th>fatalities</th>\n",
       "      <th>timestamp</th>\n",
       "    </tr>\n",
       "  </thead>\n",
       "  <tbody>\n",
       "    <tr>\n",
       "      <th>count</th>\n",
       "      <td>28160.000000</td>\n",
       "      <td>28160.000000</td>\n",
       "      <td>28160.000000</td>\n",
       "      <td>28160.000000</td>\n",
       "      <td>28160.000000</td>\n",
       "      <td>28160.0</td>\n",
       "      <td>28160.000000</td>\n",
       "      <td>28160.000000</td>\n",
       "      <td>28160.000000</td>\n",
       "      <td>28160.000000</td>\n",
       "      <td>2.816000e+04</td>\n",
       "    </tr>\n",
       "    <tr>\n",
       "      <th>mean</th>\n",
       "      <td>2018.499219</td>\n",
       "      <td>1.112109</td>\n",
       "      <td>3.613033</td>\n",
       "      <td>3.681214</td>\n",
       "      <td>36.898366</td>\n",
       "      <td>566.0</td>\n",
       "      <td>8.797115</td>\n",
       "      <td>8.038439</td>\n",
       "      <td>1.362393</td>\n",
       "      <td>3.230256</td>\n",
       "      <td>1.620157e+09</td>\n",
       "    </tr>\n",
       "    <tr>\n",
       "      <th>std</th>\n",
       "      <td>3.410668</td>\n",
       "      <td>0.329815</td>\n",
       "      <td>1.747718</td>\n",
       "      <td>2.995227</td>\n",
       "      <td>17.798928</td>\n",
       "      <td>0.0</td>\n",
       "      <td>2.570994</td>\n",
       "      <td>3.022455</td>\n",
       "      <td>0.515148</td>\n",
       "      <td>13.304044</td>\n",
       "      <td>3.676026e+07</td>\n",
       "    </tr>\n",
       "    <tr>\n",
       "      <th>min</th>\n",
       "      <td>2009.000000</td>\n",
       "      <td>1.000000</td>\n",
       "      <td>1.000000</td>\n",
       "      <td>0.000000</td>\n",
       "      <td>10.000000</td>\n",
       "      <td>566.0</td>\n",
       "      <td>2.855900</td>\n",
       "      <td>1.328200</td>\n",
       "      <td>1.000000</td>\n",
       "      <td>0.000000</td>\n",
       "      <td>1.552576e+09</td>\n",
       "    </tr>\n",
       "    <tr>\n",
       "      <th>25%</th>\n",
       "      <td>2016.000000</td>\n",
       "      <td>1.000000</td>\n",
       "      <td>2.000000</td>\n",
       "      <td>1.000000</td>\n",
       "      <td>16.000000</td>\n",
       "      <td>566.0</td>\n",
       "      <td>6.453100</td>\n",
       "      <td>6.199800</td>\n",
       "      <td>1.000000</td>\n",
       "      <td>0.000000</td>\n",
       "      <td>1.591052e+09</td>\n",
       "    </tr>\n",
       "    <tr>\n",
       "      <th>50%</th>\n",
       "      <td>2020.000000</td>\n",
       "      <td>1.000000</td>\n",
       "      <td>4.000000</td>\n",
       "      <td>3.000000</td>\n",
       "      <td>37.000000</td>\n",
       "      <td>566.0</td>\n",
       "      <td>8.883300</td>\n",
       "      <td>7.424300</td>\n",
       "      <td>1.000000</td>\n",
       "      <td>0.000000</td>\n",
       "      <td>1.618566e+09</td>\n",
       "    </tr>\n",
       "    <tr>\n",
       "      <th>75%</th>\n",
       "      <td>2021.000000</td>\n",
       "      <td>1.000000</td>\n",
       "      <td>5.000000</td>\n",
       "      <td>7.000000</td>\n",
       "      <td>55.000000</td>\n",
       "      <td>566.0</td>\n",
       "      <td>11.176700</td>\n",
       "      <td>9.284600</td>\n",
       "      <td>2.000000</td>\n",
       "      <td>2.000000</td>\n",
       "      <td>1.652117e+09</td>\n",
       "    </tr>\n",
       "    <tr>\n",
       "      <th>max</th>\n",
       "      <td>2023.000000</td>\n",
       "      <td>3.000000</td>\n",
       "      <td>8.000000</td>\n",
       "      <td>8.000000</td>\n",
       "      <td>78.000000</td>\n",
       "      <td>566.0</td>\n",
       "      <td>13.784400</td>\n",
       "      <td>14.650000</td>\n",
       "      <td>3.000000</td>\n",
       "      <td>600.000000</td>\n",
       "      <td>1.679960e+09</td>\n",
       "    </tr>\n",
       "  </tbody>\n",
       "</table>\n",
       "</div>"
      ],
      "text/plain": [
       "               year  time_precision        inter1        inter2   interaction  \\\n",
       "count  28160.000000    28160.000000  28160.000000  28160.000000  28160.000000   \n",
       "mean    2018.499219        1.112109      3.613033      3.681214     36.898366   \n",
       "std        3.410668        0.329815      1.747718      2.995227     17.798928   \n",
       "min     2009.000000        1.000000      1.000000      0.000000     10.000000   \n",
       "25%     2016.000000        1.000000      2.000000      1.000000     16.000000   \n",
       "50%     2020.000000        1.000000      4.000000      3.000000     37.000000   \n",
       "75%     2021.000000        1.000000      5.000000      7.000000     55.000000   \n",
       "max     2023.000000        3.000000      8.000000      8.000000     78.000000   \n",
       "\n",
       "           iso      latitude     longitude  geo_precision    fatalities  \\\n",
       "count  28160.0  28160.000000  28160.000000   28160.000000  28160.000000   \n",
       "mean     566.0      8.797115      8.038439       1.362393      3.230256   \n",
       "std        0.0      2.570994      3.022455       0.515148     13.304044   \n",
       "min      566.0      2.855900      1.328200       1.000000      0.000000   \n",
       "25%      566.0      6.453100      6.199800       1.000000      0.000000   \n",
       "50%      566.0      8.883300      7.424300       1.000000      0.000000   \n",
       "75%      566.0     11.176700      9.284600       2.000000      2.000000   \n",
       "max      566.0     13.784400     14.650000       3.000000    600.000000   \n",
       "\n",
       "          timestamp  \n",
       "count  2.816000e+04  \n",
       "mean   1.620157e+09  \n",
       "std    3.676026e+07  \n",
       "min    1.552576e+09  \n",
       "25%    1.591052e+09  \n",
       "50%    1.618566e+09  \n",
       "75%    1.652117e+09  \n",
       "max    1.679960e+09  "
      ]
     },
     "execution_count": 56,
     "metadata": {},
     "output_type": "execute_result"
    }
   ],
   "source": [
    "\n",
    "df_acled.select_dtypes(include=['float64', 'int64', 'float32', 'int32']).describe()"
   ]
  },
  {
   "cell_type": "markdown",
   "id": "c82f168c",
   "metadata": {},
   "source": [
    "There is no so much inconsistency in the numerical data. Aside that iso contain a single unique value. Although, we cannot drop such column because they might be useful in making converions"
   ]
  },
  {
   "cell_type": "markdown",
   "id": "dfef318f",
   "metadata": {},
   "source": [
    "### 1.1.2 Cleaning the GTD Dataset"
   ]
  },
  {
   "cell_type": "markdown",
   "id": "c624a83c",
   "metadata": {},
   "source": [
    "#### Handling Null values "
   ]
  },
  {
   "cell_type": "code",
   "execution_count": 57,
   "id": "6768dfca",
   "metadata": {},
   "outputs": [
    {
     "data": {
      "text/plain": [
       "approxdate    94.764922\n",
       "resolution    96.165388\n",
       "latitude       0.800267\n",
       "longitude      0.800267\n",
       "location      53.384461\n",
       "                ...    \n",
       "addnotes      63.837946\n",
       "scite1         1.000333\n",
       "scite2        24.524842\n",
       "scite3        46.498833\n",
       "related       66.305435\n",
       "Length: 99, dtype: float64"
      ]
     },
     "execution_count": 57,
     "metadata": {},
     "output_type": "execute_result"
    }
   ],
   "source": [
    "# Percentage of null values in fields containing nulls\n",
    "null_pct = df_gtd.isnull().mean() * 100\n",
    "null_pct = null_pct[null_pct.values > 0]\n",
    "null_pct"
   ]
  },
  {
   "cell_type": "code",
   "execution_count": 58,
   "id": "9c8b8d62",
   "metadata": {},
   "outputs": [
    {
     "data": {
      "text/plain": [
       "approxdate            94.764922\n",
       "resolution            96.165388\n",
       "alternative           87.862621\n",
       "alternative_txt       87.862621\n",
       "attacktype2           74.774925\n",
       "                        ...    \n",
       "hostkidoutcome        85.111704\n",
       "hostkidoutcome_txt    85.111704\n",
       "nreleased             85.495165\n",
       "addnotes              63.837946\n",
       "related               66.305435\n",
       "Length: 71, dtype: float64"
      ]
     },
     "execution_count": 58,
     "metadata": {},
     "output_type": "execute_result"
    }
   ],
   "source": [
    "null_pct[null_pct.values > 60]"
   ]
  },
  {
   "cell_type": "markdown",
   "id": "d314e77f",
   "metadata": {},
   "source": [
    "Out of the 135 features of the dataset, 99 of them contain null values. 71 out of the 99 contain null values above 60% of the total values. To reduce the features of this dataset, we consider droping features with nulls above 60% as imputation will lead to so much artificiality in the dataset. Hence, there is a need to decide on means to handle the missing values is the remaing 18 features."
   ]
  },
  {
   "cell_type": "code",
   "execution_count": 59,
   "id": "1b1bb618",
   "metadata": {},
   "outputs": [
    {
     "data": {
      "text/plain": [
       "latitude             0.800267\n",
       "longitude            0.800267\n",
       "location            53.384461\n",
       "summary              1.000333\n",
       "targsubtype1         2.784261\n",
       "targsubtype1_txt     2.784261\n",
       "corp1                2.834278\n",
       "target1              0.083361\n",
       "natlty1              0.166722\n",
       "natlty1_txt          0.166722\n",
       "nperps               3.251084\n",
       "nperpcap             1.733911\n",
       "claimed              1.000333\n",
       "weapsubtype1         7.819273\n",
       "weapsubtype1_txt     7.819273\n",
       "nkill                9.286429\n",
       "nkillus              1.067022\n",
       "nkillter             5.701901\n",
       "nwound              28.292764\n",
       "nwoundus             1.117039\n",
       "nwoundte             9.153051\n",
       "propextent          52.867623\n",
       "propextent_txt      52.867623\n",
       "propvalue           56.202067\n",
       "propcomment         47.765922\n",
       "scite1               1.000333\n",
       "scite2              24.524842\n",
       "scite3              46.498833\n",
       "dtype: float64"
      ]
     },
     "execution_count": 59,
     "metadata": {},
     "output_type": "execute_result"
    }
   ],
   "source": [
    "null_pct[null_pct.values < 60]"
   ]
  },
  {
   "cell_type": "markdown",
   "id": "c39915fd",
   "metadata": {},
   "source": [
    "For these fields where the null percentage are less than 60%, we will consider replacing null values with the keyword 'unkown' for consistency with the acled dataset."
   ]
  },
  {
   "cell_type": "code",
   "execution_count": 60,
   "id": "5be1cbf9",
   "metadata": {},
   "outputs": [],
   "source": [
    "# drop all columns where percentage of nulls are greater than 60%\n",
    "drop_cols = null_pct[null_pct > 60].index.tolist()\n",
    "df_gtd.drop(columns=drop_cols, inplace=True)\n",
    "\n",
    "# input 'unknown' keyword for actor2, admin1, admin2 features\n",
    "repl_cols = null_pct[null_pct < 60].index.tolist()\n",
    "df_gtd[repl_cols] = df_gtd[repl_cols].fillna('unknown')"
   ]
  },
  {
   "cell_type": "code",
   "execution_count": 61,
   "id": "509c5be4",
   "metadata": {},
   "outputs": [
    {
     "data": {
      "text/plain": [
       "eventid     0\n",
       "iyear       0\n",
       "imonth      0\n",
       "iday        0\n",
       "extended    0\n",
       "           ..\n",
       "dbsource    0\n",
       "INT_LOG     0\n",
       "INT_IDEO    0\n",
       "INT_MISC    0\n",
       "INT_ANY     0\n",
       "Length: 64, dtype: int64"
      ]
     },
     "execution_count": 61,
     "metadata": {},
     "output_type": "execute_result"
    }
   ],
   "source": [
    "df_gtd.isnull().sum()"
   ]
  },
  {
   "cell_type": "markdown",
   "id": "84fe32a1",
   "metadata": {},
   "source": [
    "#### Handling inconsistencies"
   ]
  },
  {
   "cell_type": "code",
   "execution_count": 62,
   "id": "53988fd6",
   "metadata": {},
   "outputs": [
    {
     "name": "stdout",
     "output_type": "stream",
     "text": [
      "<class 'pandas.core.frame.DataFrame'>\n",
      "RangeIndex: 5998 entries, 0 to 5997\n",
      "Data columns (total 64 columns):\n",
      " #   Column            Non-Null Count  Dtype  \n",
      "---  ------            --------------  -----  \n",
      " 0   eventid           5998 non-null   int64  \n",
      " 1   iyear             5998 non-null   int64  \n",
      " 2   imonth            5998 non-null   int64  \n",
      " 3   iday              5998 non-null   int64  \n",
      " 4   extended          5998 non-null   int64  \n",
      " 5   country           5998 non-null   int64  \n",
      " 6   country_txt       5998 non-null   object \n",
      " 7   region            5998 non-null   int64  \n",
      " 8   region_txt        5998 non-null   object \n",
      " 9   provstate         5998 non-null   object \n",
      " 10  city              5998 non-null   object \n",
      " 11  latitude          5998 non-null   object \n",
      " 12  longitude         5998 non-null   object \n",
      " 13  specificity       5998 non-null   float64\n",
      " 14  vicinity          5998 non-null   int64  \n",
      " 15  location          5998 non-null   object \n",
      " 16  summary           5998 non-null   object \n",
      " 17  crit1             5998 non-null   int64  \n",
      " 18  crit2             5998 non-null   int64  \n",
      " 19  crit3             5998 non-null   int64  \n",
      " 20  doubtterr         5998 non-null   int64  \n",
      " 21  multiple          5998 non-null   float64\n",
      " 22  success           5998 non-null   int64  \n",
      " 23  suicide           5998 non-null   int64  \n",
      " 24  attacktype1       5998 non-null   int64  \n",
      " 25  attacktype1_txt   5998 non-null   object \n",
      " 26  targtype1         5998 non-null   int64  \n",
      " 27  targtype1_txt     5998 non-null   object \n",
      " 28  targsubtype1      5998 non-null   object \n",
      " 29  targsubtype1_txt  5998 non-null   object \n",
      " 30  corp1             5998 non-null   object \n",
      " 31  target1           5998 non-null   object \n",
      " 32  natlty1           5998 non-null   object \n",
      " 33  natlty1_txt       5998 non-null   object \n",
      " 34  gname             5998 non-null   object \n",
      " 35  guncertain1       5998 non-null   float64\n",
      " 36  individual        5998 non-null   int64  \n",
      " 37  nperps            5998 non-null   object \n",
      " 38  nperpcap          5998 non-null   object \n",
      " 39  claimed           5998 non-null   object \n",
      " 40  weaptype1         5998 non-null   int64  \n",
      " 41  weaptype1_txt     5998 non-null   object \n",
      " 42  weapsubtype1      5998 non-null   object \n",
      " 43  weapsubtype1_txt  5998 non-null   object \n",
      " 44  nkill             5998 non-null   object \n",
      " 45  nkillus           5998 non-null   object \n",
      " 46  nkillter          5998 non-null   object \n",
      " 47  nwound            5998 non-null   object \n",
      " 48  nwoundus          5998 non-null   object \n",
      " 49  nwoundte          5998 non-null   object \n",
      " 50  property          5998 non-null   int64  \n",
      " 51  propextent        5998 non-null   object \n",
      " 52  propextent_txt    5998 non-null   object \n",
      " 53  propvalue         5998 non-null   object \n",
      " 54  propcomment       5998 non-null   object \n",
      " 55  ishostkid         5998 non-null   float64\n",
      " 56  scite1            5998 non-null   object \n",
      " 57  scite2            5998 non-null   object \n",
      " 58  scite3            5998 non-null   object \n",
      " 59  dbsource          5998 non-null   object \n",
      " 60  INT_LOG           5998 non-null   int64  \n",
      " 61  INT_IDEO          5998 non-null   int64  \n",
      " 62  INT_MISC          5998 non-null   int64  \n",
      " 63  INT_ANY           5998 non-null   int64  \n",
      "dtypes: float64(4), int64(23), object(37)\n",
      "memory usage: 2.9+ MB\n"
     ]
    }
   ],
   "source": [
    "df_gtd.info()"
   ]
  },
  {
   "cell_type": "code",
   "execution_count": 63,
   "id": "567d5283",
   "metadata": {},
   "outputs": [
    {
     "data": {
      "text/html": [
       "<div>\n",
       "<style scoped>\n",
       "    .dataframe tbody tr th:only-of-type {\n",
       "        vertical-align: middle;\n",
       "    }\n",
       "\n",
       "    .dataframe tbody tr th {\n",
       "        vertical-align: top;\n",
       "    }\n",
       "\n",
       "    .dataframe thead th {\n",
       "        text-align: right;\n",
       "    }\n",
       "</style>\n",
       "<table border=\"1\" class=\"dataframe\">\n",
       "  <thead>\n",
       "    <tr style=\"text-align: right;\">\n",
       "      <th></th>\n",
       "      <th>country_txt</th>\n",
       "      <th>region_txt</th>\n",
       "      <th>provstate</th>\n",
       "      <th>city</th>\n",
       "      <th>latitude</th>\n",
       "      <th>longitude</th>\n",
       "      <th>location</th>\n",
       "      <th>summary</th>\n",
       "      <th>attacktype1_txt</th>\n",
       "      <th>targtype1_txt</th>\n",
       "      <th>targsubtype1</th>\n",
       "      <th>targsubtype1_txt</th>\n",
       "    </tr>\n",
       "  </thead>\n",
       "  <tbody>\n",
       "    <tr>\n",
       "      <th>count</th>\n",
       "      <td>5998</td>\n",
       "      <td>5998</td>\n",
       "      <td>5998</td>\n",
       "      <td>5998</td>\n",
       "      <td>5998.000000</td>\n",
       "      <td>5998.000000</td>\n",
       "      <td>5998</td>\n",
       "      <td>5998</td>\n",
       "      <td>5998</td>\n",
       "      <td>5998</td>\n",
       "      <td>5998.0</td>\n",
       "      <td>5998</td>\n",
       "    </tr>\n",
       "    <tr>\n",
       "      <th>unique</th>\n",
       "      <td>1</td>\n",
       "      <td>1</td>\n",
       "      <td>38</td>\n",
       "      <td>2615</td>\n",
       "      <td>3409.000000</td>\n",
       "      <td>3384.000000</td>\n",
       "      <td>1897</td>\n",
       "      <td>5809</td>\n",
       "      <td>9</td>\n",
       "      <td>19</td>\n",
       "      <td>92.0</td>\n",
       "      <td>92</td>\n",
       "    </tr>\n",
       "    <tr>\n",
       "      <th>top</th>\n",
       "      <td>Nigeria</td>\n",
       "      <td>Sub-Saharan Africa</td>\n",
       "      <td>Borno</td>\n",
       "      <td>Maiduguri</td>\n",
       "      <td>11.840793</td>\n",
       "      <td>13.141391</td>\n",
       "      <td>unknown</td>\n",
       "      <td>unknown</td>\n",
       "      <td>Armed Assault</td>\n",
       "      <td>Private Citizens &amp; Property</td>\n",
       "      <td>75.0</td>\n",
       "      <td>Village/City/Town/Suburb</td>\n",
       "    </tr>\n",
       "    <tr>\n",
       "      <th>freq</th>\n",
       "      <td>5998</td>\n",
       "      <td>5998</td>\n",
       "      <td>2113</td>\n",
       "      <td>494</td>\n",
       "      <td>387.000000</td>\n",
       "      <td>387.000000</td>\n",
       "      <td>3202</td>\n",
       "      <td>60</td>\n",
       "      <td>2821</td>\n",
       "      <td>2914</td>\n",
       "      <td>1564.0</td>\n",
       "      <td>1564</td>\n",
       "    </tr>\n",
       "  </tbody>\n",
       "</table>\n",
       "</div>"
      ],
      "text/plain": [
       "       country_txt          region_txt provstate       city     latitude  \\\n",
       "count         5998                5998      5998       5998  5998.000000   \n",
       "unique           1                   1        38       2615  3409.000000   \n",
       "top        Nigeria  Sub-Saharan Africa     Borno  Maiduguri    11.840793   \n",
       "freq          5998                5998      2113        494   387.000000   \n",
       "\n",
       "          longitude location  summary attacktype1_txt  \\\n",
       "count   5998.000000     5998     5998            5998   \n",
       "unique  3384.000000     1897     5809               9   \n",
       "top       13.141391  unknown  unknown   Armed Assault   \n",
       "freq     387.000000     3202       60            2821   \n",
       "\n",
       "                      targtype1_txt  targsubtype1          targsubtype1_txt  \n",
       "count                          5998        5998.0                      5998  \n",
       "unique                           19          92.0                        92  \n",
       "top     Private Citizens & Property          75.0  Village/City/Town/Suburb  \n",
       "freq                           2914        1564.0                      1564  "
      ]
     },
     "execution_count": 63,
     "metadata": {},
     "output_type": "execute_result"
    }
   ],
   "source": [
    "# describe the first ten features\n",
    "df_gtd.select_dtypes(include=['object']).iloc[0:, 0:12].describe()"
   ]
  },
  {
   "cell_type": "code",
   "execution_count": 64,
   "id": "5fc357fb",
   "metadata": {},
   "outputs": [
    {
     "data": {
      "text/html": [
       "<div>\n",
       "<style scoped>\n",
       "    .dataframe tbody tr th:only-of-type {\n",
       "        vertical-align: middle;\n",
       "    }\n",
       "\n",
       "    .dataframe tbody tr th {\n",
       "        vertical-align: top;\n",
       "    }\n",
       "\n",
       "    .dataframe thead th {\n",
       "        text-align: right;\n",
       "    }\n",
       "</style>\n",
       "<table border=\"1\" class=\"dataframe\">\n",
       "  <thead>\n",
       "    <tr style=\"text-align: right;\">\n",
       "      <th></th>\n",
       "      <th>corp1</th>\n",
       "      <th>target1</th>\n",
       "      <th>natlty1</th>\n",
       "      <th>natlty1_txt</th>\n",
       "      <th>gname</th>\n",
       "      <th>nperps</th>\n",
       "      <th>nperpcap</th>\n",
       "      <th>claimed</th>\n",
       "      <th>weaptype1_txt</th>\n",
       "      <th>weapsubtype1</th>\n",
       "      <th>weapsubtype1_txt</th>\n",
       "      <th>nkill</th>\n",
       "    </tr>\n",
       "  </thead>\n",
       "  <tbody>\n",
       "    <tr>\n",
       "      <th>count</th>\n",
       "      <td>5998</td>\n",
       "      <td>5998</td>\n",
       "      <td>5998.0</td>\n",
       "      <td>5998</td>\n",
       "      <td>5998</td>\n",
       "      <td>5998.0</td>\n",
       "      <td>5998.0</td>\n",
       "      <td>5998.0</td>\n",
       "      <td>5998</td>\n",
       "      <td>5998.0</td>\n",
       "      <td>5998</td>\n",
       "      <td>5998.0</td>\n",
       "    </tr>\n",
       "    <tr>\n",
       "      <th>unique</th>\n",
       "      <td>2279</td>\n",
       "      <td>1947</td>\n",
       "      <td>37.0</td>\n",
       "      <td>37</td>\n",
       "      <td>75</td>\n",
       "      <td>50.0</td>\n",
       "      <td>24.0</td>\n",
       "      <td>4.0</td>\n",
       "      <td>7</td>\n",
       "      <td>27.0</td>\n",
       "      <td>27</td>\n",
       "      <td>91.0</td>\n",
       "    </tr>\n",
       "    <tr>\n",
       "      <th>top</th>\n",
       "      <td>Not Applicable</td>\n",
       "      <td>Village</td>\n",
       "      <td>147.0</td>\n",
       "      <td>Nigeria</td>\n",
       "      <td>Boko Haram</td>\n",
       "      <td>-99.0</td>\n",
       "      <td>0.0</td>\n",
       "      <td>0.0</td>\n",
       "      <td>Firearms</td>\n",
       "      <td>5.0</td>\n",
       "      <td>Unknown Gun Type</td>\n",
       "      <td>0.0</td>\n",
       "    </tr>\n",
       "    <tr>\n",
       "      <th>freq</th>\n",
       "      <td>939</td>\n",
       "      <td>1284</td>\n",
       "      <td>5789.0</td>\n",
       "      <td>5789</td>\n",
       "      <td>2901</td>\n",
       "      <td>4655.0</td>\n",
       "      <td>5687.0</td>\n",
       "      <td>5297.0</td>\n",
       "      <td>3449</td>\n",
       "      <td>3034.0</td>\n",
       "      <td>3034</td>\n",
       "      <td>1421.0</td>\n",
       "    </tr>\n",
       "  </tbody>\n",
       "</table>\n",
       "</div>"
      ],
      "text/plain": [
       "                 corp1  target1  natlty1 natlty1_txt       gname  nperps  \\\n",
       "count             5998     5998   5998.0        5998        5998  5998.0   \n",
       "unique            2279     1947     37.0          37          75    50.0   \n",
       "top     Not Applicable  Village    147.0     Nigeria  Boko Haram   -99.0   \n",
       "freq               939     1284   5789.0        5789        2901  4655.0   \n",
       "\n",
       "        nperpcap  claimed weaptype1_txt  weapsubtype1  weapsubtype1_txt  \\\n",
       "count     5998.0   5998.0          5998        5998.0              5998   \n",
       "unique      24.0      4.0             7          27.0                27   \n",
       "top          0.0      0.0      Firearms           5.0  Unknown Gun Type   \n",
       "freq      5687.0   5297.0          3449        3034.0              3034   \n",
       "\n",
       "         nkill  \n",
       "count   5998.0  \n",
       "unique    91.0  \n",
       "top        0.0  \n",
       "freq    1421.0  "
      ]
     },
     "execution_count": 64,
     "metadata": {},
     "output_type": "execute_result"
    }
   ],
   "source": [
    "# describe the next ten features\n",
    "df_gtd.select_dtypes(include=['object']).iloc[0:,12:24].describe()"
   ]
  },
  {
   "cell_type": "code",
   "execution_count": 65,
   "id": "f8d7db1f",
   "metadata": {},
   "outputs": [
    {
     "data": {
      "text/html": [
       "<div>\n",
       "<style scoped>\n",
       "    .dataframe tbody tr th:only-of-type {\n",
       "        vertical-align: middle;\n",
       "    }\n",
       "\n",
       "    .dataframe tbody tr th {\n",
       "        vertical-align: top;\n",
       "    }\n",
       "\n",
       "    .dataframe thead th {\n",
       "        text-align: right;\n",
       "    }\n",
       "</style>\n",
       "<table border=\"1\" class=\"dataframe\">\n",
       "  <thead>\n",
       "    <tr style=\"text-align: right;\">\n",
       "      <th></th>\n",
       "      <th>nkillus</th>\n",
       "      <th>nkillter</th>\n",
       "      <th>nwound</th>\n",
       "      <th>nwoundus</th>\n",
       "      <th>nwoundte</th>\n",
       "      <th>propextent</th>\n",
       "      <th>propextent_txt</th>\n",
       "      <th>propvalue</th>\n",
       "      <th>propcomment</th>\n",
       "      <th>scite1</th>\n",
       "      <th>scite2</th>\n",
       "      <th>scite3</th>\n",
       "      <th>dbsource</th>\n",
       "    </tr>\n",
       "  </thead>\n",
       "  <tbody>\n",
       "    <tr>\n",
       "      <th>count</th>\n",
       "      <td>5998.0</td>\n",
       "      <td>5998.0</td>\n",
       "      <td>5998.0</td>\n",
       "      <td>5998.0</td>\n",
       "      <td>5998.0</td>\n",
       "      <td>5998</td>\n",
       "      <td>5998</td>\n",
       "      <td>5998</td>\n",
       "      <td>5998</td>\n",
       "      <td>5998</td>\n",
       "      <td>5998</td>\n",
       "      <td>5998</td>\n",
       "      <td>5998</td>\n",
       "    </tr>\n",
       "    <tr>\n",
       "      <th>unique</th>\n",
       "      <td>3.0</td>\n",
       "      <td>53.0</td>\n",
       "      <td>73.0</td>\n",
       "      <td>4.0</td>\n",
       "      <td>9.0</td>\n",
       "      <td>5</td>\n",
       "      <td>5</td>\n",
       "      <td>14</td>\n",
       "      <td>1301</td>\n",
       "      <td>4181</td>\n",
       "      <td>3422</td>\n",
       "      <td>2470</td>\n",
       "      <td>7</td>\n",
       "    </tr>\n",
       "    <tr>\n",
       "      <th>top</th>\n",
       "      <td>0.0</td>\n",
       "      <td>0.0</td>\n",
       "      <td>0.0</td>\n",
       "      <td>0.0</td>\n",
       "      <td>0.0</td>\n",
       "      <td>unknown</td>\n",
       "      <td>unknown</td>\n",
       "      <td>unknown</td>\n",
       "      <td>unknown</td>\n",
       "      <td>unknown</td>\n",
       "      <td>unknown</td>\n",
       "      <td>unknown</td>\n",
       "      <td>START Primary Collection</td>\n",
       "    </tr>\n",
       "    <tr>\n",
       "      <th>freq</th>\n",
       "      <td>5933.0</td>\n",
       "      <td>4772.0</td>\n",
       "      <td>2745.0</td>\n",
       "      <td>5929.0</td>\n",
       "      <td>5415.0</td>\n",
       "      <td>3171</td>\n",
       "      <td>3171</td>\n",
       "      <td>3371</td>\n",
       "      <td>2865</td>\n",
       "      <td>60</td>\n",
       "      <td>1471</td>\n",
       "      <td>2789</td>\n",
       "      <td>5472</td>\n",
       "    </tr>\n",
       "  </tbody>\n",
       "</table>\n",
       "</div>"
      ],
      "text/plain": [
       "        nkillus  nkillter  nwound  nwoundus  nwoundte propextent  \\\n",
       "count    5998.0    5998.0  5998.0    5998.0    5998.0       5998   \n",
       "unique      3.0      53.0    73.0       4.0       9.0          5   \n",
       "top         0.0       0.0     0.0       0.0       0.0    unknown   \n",
       "freq     5933.0    4772.0  2745.0    5929.0    5415.0       3171   \n",
       "\n",
       "       propextent_txt propvalue propcomment   scite1   scite2   scite3  \\\n",
       "count            5998      5998        5998     5998     5998     5998   \n",
       "unique              5        14        1301     4181     3422     2470   \n",
       "top           unknown   unknown     unknown  unknown  unknown  unknown   \n",
       "freq             3171      3371        2865       60     1471     2789   \n",
       "\n",
       "                        dbsource  \n",
       "count                       5998  \n",
       "unique                         7  \n",
       "top     START Primary Collection  \n",
       "freq                        5472  "
      ]
     },
     "execution_count": 65,
     "metadata": {},
     "output_type": "execute_result"
    }
   ],
   "source": [
    "# describe the last features\n",
    "df_gtd.select_dtypes(include=['object']).iloc[0:,24:].describe()"
   ]
  },
  {
   "cell_type": "markdown",
   "id": "7a2a9455",
   "metadata": {},
   "source": [
    "A look at the description of the dataset indicates that with the _txt surfix are categorical feature. For each of these features, there is a corresponding feature containing numerical values. Both the fields with categorical and numerical values convey same information, only that they have been handled differently. Hence, to reduce the cumbersomess of the dataset, we drop such numerical features which has corresponding categorical feature. This will allow the database categorical features to be used in different ways without data repetition.\n",
    "\n",
    "List of these numerical features having corresponding categorical features\n",
    "- natlty1\n",
    "- propextent\n",
    "- targsubtype1\n",
    "- weapsubtype1"
   ]
  },
  {
   "cell_type": "code",
   "execution_count": 66,
   "id": "ff184c14",
   "metadata": {},
   "outputs": [
    {
     "data": {
      "text/plain": [
       "(5998, 60)"
      ]
     },
     "execution_count": 66,
     "metadata": {},
     "output_type": "execute_result"
    }
   ],
   "source": [
    "df_gtd.drop(['natlty1', 'propextent', 'targsubtype1', 'weapsubtype1'], inplace=True, axis=1)\n",
    "df_gtd.shape"
   ]
  },
  {
   "cell_type": "code",
   "execution_count": 67,
   "id": "d2e0cebd",
   "metadata": {},
   "outputs": [
    {
     "data": {
      "text/html": [
       "<div>\n",
       "<style scoped>\n",
       "    .dataframe tbody tr th:only-of-type {\n",
       "        vertical-align: middle;\n",
       "    }\n",
       "\n",
       "    .dataframe tbody tr th {\n",
       "        vertical-align: top;\n",
       "    }\n",
       "\n",
       "    .dataframe thead th {\n",
       "        text-align: right;\n",
       "    }\n",
       "</style>\n",
       "<table border=\"1\" class=\"dataframe\">\n",
       "  <thead>\n",
       "    <tr style=\"text-align: right;\">\n",
       "      <th></th>\n",
       "      <th>eventid</th>\n",
       "      <th>iyear</th>\n",
       "      <th>imonth</th>\n",
       "      <th>iday</th>\n",
       "      <th>extended</th>\n",
       "      <th>country</th>\n",
       "      <th>region</th>\n",
       "      <th>specificity</th>\n",
       "      <th>vicinity</th>\n",
       "      <th>crit1</th>\n",
       "      <th>crit2</th>\n",
       "      <th>crit3</th>\n",
       "    </tr>\n",
       "  </thead>\n",
       "  <tbody>\n",
       "    <tr>\n",
       "      <th>count</th>\n",
       "      <td>5.998000e+03</td>\n",
       "      <td>5998.000000</td>\n",
       "      <td>5998.000000</td>\n",
       "      <td>5998.000000</td>\n",
       "      <td>5998.000000</td>\n",
       "      <td>5998.0</td>\n",
       "      <td>5998.0</td>\n",
       "      <td>5998.000000</td>\n",
       "      <td>5998.000000</td>\n",
       "      <td>5998.000000</td>\n",
       "      <td>5998.000000</td>\n",
       "      <td>5998.000000</td>\n",
       "    </tr>\n",
       "    <tr>\n",
       "      <th>mean</th>\n",
       "      <td>2.015489e+11</td>\n",
       "      <td>2015.427643</td>\n",
       "      <td>5.981327</td>\n",
       "      <td>15.623374</td>\n",
       "      <td>0.151884</td>\n",
       "      <td>147.0</td>\n",
       "      <td>11.0</td>\n",
       "      <td>1.536345</td>\n",
       "      <td>0.059687</td>\n",
       "      <td>0.977993</td>\n",
       "      <td>0.997833</td>\n",
       "      <td>0.915805</td>\n",
       "    </tr>\n",
       "    <tr>\n",
       "      <th>std</th>\n",
       "      <td>4.245149e+08</td>\n",
       "      <td>4.248259</td>\n",
       "      <td>3.418210</td>\n",
       "      <td>8.840217</td>\n",
       "      <td>0.358938</td>\n",
       "      <td>0.0</td>\n",
       "      <td>0.0</td>\n",
       "      <td>0.859825</td>\n",
       "      <td>0.236925</td>\n",
       "      <td>0.146719</td>\n",
       "      <td>0.046509</td>\n",
       "      <td>0.277703</td>\n",
       "    </tr>\n",
       "    <tr>\n",
       "      <th>min</th>\n",
       "      <td>1.976021e+11</td>\n",
       "      <td>1976.000000</td>\n",
       "      <td>1.000000</td>\n",
       "      <td>1.000000</td>\n",
       "      <td>0.000000</td>\n",
       "      <td>147.0</td>\n",
       "      <td>11.0</td>\n",
       "      <td>1.000000</td>\n",
       "      <td>0.000000</td>\n",
       "      <td>0.000000</td>\n",
       "      <td>0.000000</td>\n",
       "      <td>0.000000</td>\n",
       "    </tr>\n",
       "    <tr>\n",
       "      <th>25%</th>\n",
       "      <td>2.013112e+11</td>\n",
       "      <td>2013.000000</td>\n",
       "      <td>3.000000</td>\n",
       "      <td>8.000000</td>\n",
       "      <td>0.000000</td>\n",
       "      <td>147.0</td>\n",
       "      <td>11.0</td>\n",
       "      <td>1.000000</td>\n",
       "      <td>0.000000</td>\n",
       "      <td>1.000000</td>\n",
       "      <td>1.000000</td>\n",
       "      <td>1.000000</td>\n",
       "    </tr>\n",
       "    <tr>\n",
       "      <th>50%</th>\n",
       "      <td>2.016031e+11</td>\n",
       "      <td>2016.000000</td>\n",
       "      <td>6.000000</td>\n",
       "      <td>15.000000</td>\n",
       "      <td>0.000000</td>\n",
       "      <td>147.0</td>\n",
       "      <td>11.0</td>\n",
       "      <td>1.000000</td>\n",
       "      <td>0.000000</td>\n",
       "      <td>1.000000</td>\n",
       "      <td>1.000000</td>\n",
       "      <td>1.000000</td>\n",
       "    </tr>\n",
       "    <tr>\n",
       "      <th>75%</th>\n",
       "      <td>2.018120e+11</td>\n",
       "      <td>2018.000000</td>\n",
       "      <td>9.000000</td>\n",
       "      <td>23.000000</td>\n",
       "      <td>0.000000</td>\n",
       "      <td>147.0</td>\n",
       "      <td>11.0</td>\n",
       "      <td>2.000000</td>\n",
       "      <td>0.000000</td>\n",
       "      <td>1.000000</td>\n",
       "      <td>1.000000</td>\n",
       "      <td>1.000000</td>\n",
       "    </tr>\n",
       "    <tr>\n",
       "      <th>max</th>\n",
       "      <td>2.021063e+11</td>\n",
       "      <td>2021.000000</td>\n",
       "      <td>12.000000</td>\n",
       "      <td>31.000000</td>\n",
       "      <td>1.000000</td>\n",
       "      <td>147.0</td>\n",
       "      <td>11.0</td>\n",
       "      <td>5.000000</td>\n",
       "      <td>1.000000</td>\n",
       "      <td>1.000000</td>\n",
       "      <td>1.000000</td>\n",
       "      <td>1.000000</td>\n",
       "    </tr>\n",
       "  </tbody>\n",
       "</table>\n",
       "</div>"
      ],
      "text/plain": [
       "            eventid        iyear       imonth         iday     extended  \\\n",
       "count  5.998000e+03  5998.000000  5998.000000  5998.000000  5998.000000   \n",
       "mean   2.015489e+11  2015.427643     5.981327    15.623374     0.151884   \n",
       "std    4.245149e+08     4.248259     3.418210     8.840217     0.358938   \n",
       "min    1.976021e+11  1976.000000     1.000000     1.000000     0.000000   \n",
       "25%    2.013112e+11  2013.000000     3.000000     8.000000     0.000000   \n",
       "50%    2.016031e+11  2016.000000     6.000000    15.000000     0.000000   \n",
       "75%    2.018120e+11  2018.000000     9.000000    23.000000     0.000000   \n",
       "max    2.021063e+11  2021.000000    12.000000    31.000000     1.000000   \n",
       "\n",
       "       country  region  specificity     vicinity        crit1        crit2  \\\n",
       "count   5998.0  5998.0  5998.000000  5998.000000  5998.000000  5998.000000   \n",
       "mean     147.0    11.0     1.536345     0.059687     0.977993     0.997833   \n",
       "std        0.0     0.0     0.859825     0.236925     0.146719     0.046509   \n",
       "min      147.0    11.0     1.000000     0.000000     0.000000     0.000000   \n",
       "25%      147.0    11.0     1.000000     0.000000     1.000000     1.000000   \n",
       "50%      147.0    11.0     1.000000     0.000000     1.000000     1.000000   \n",
       "75%      147.0    11.0     2.000000     0.000000     1.000000     1.000000   \n",
       "max      147.0    11.0     5.000000     1.000000     1.000000     1.000000   \n",
       "\n",
       "             crit3  \n",
       "count  5998.000000  \n",
       "mean      0.915805  \n",
       "std       0.277703  \n",
       "min       0.000000  \n",
       "25%       1.000000  \n",
       "50%       1.000000  \n",
       "75%       1.000000  \n",
       "max       1.000000  "
      ]
     },
     "execution_count": 67,
     "metadata": {},
     "output_type": "execute_result"
    }
   ],
   "source": [
    "# select the first 12 numerical features from the gtd dataset and describe \n",
    "df_gtd.select_dtypes(include=['float64', 'int64', 'float32', 'int32']).iloc[0:, 0:12].describe()"
   ]
  },
  {
   "cell_type": "code",
   "execution_count": 68,
   "id": "ea38d75d",
   "metadata": {},
   "outputs": [
    {
     "data": {
      "text/html": [
       "<div>\n",
       "<style scoped>\n",
       "    .dataframe tbody tr th:only-of-type {\n",
       "        vertical-align: middle;\n",
       "    }\n",
       "\n",
       "    .dataframe tbody tr th {\n",
       "        vertical-align: top;\n",
       "    }\n",
       "\n",
       "    .dataframe thead th {\n",
       "        text-align: right;\n",
       "    }\n",
       "</style>\n",
       "<table border=\"1\" class=\"dataframe\">\n",
       "  <thead>\n",
       "    <tr style=\"text-align: right;\">\n",
       "      <th></th>\n",
       "      <th>doubtterr</th>\n",
       "      <th>multiple</th>\n",
       "      <th>success</th>\n",
       "      <th>suicide</th>\n",
       "      <th>attacktype1</th>\n",
       "      <th>targtype1</th>\n",
       "      <th>guncertain1</th>\n",
       "      <th>individual</th>\n",
       "      <th>weaptype1</th>\n",
       "      <th>property</th>\n",
       "      <th>ishostkid</th>\n",
       "      <th>INT_LOG</th>\n",
       "      <th>INT_IDEO</th>\n",
       "      <th>INT_MISC</th>\n",
       "      <th>INT_ANY</th>\n",
       "    </tr>\n",
       "  </thead>\n",
       "  <tbody>\n",
       "    <tr>\n",
       "      <th>count</th>\n",
       "      <td>5998.000000</td>\n",
       "      <td>5998.000000</td>\n",
       "      <td>5998.000000</td>\n",
       "      <td>5998.000000</td>\n",
       "      <td>5998.000000</td>\n",
       "      <td>5998.000000</td>\n",
       "      <td>5998.000000</td>\n",
       "      <td>5998.0</td>\n",
       "      <td>5998.000000</td>\n",
       "      <td>5998.000000</td>\n",
       "      <td>5998.000000</td>\n",
       "      <td>5998.000000</td>\n",
       "      <td>5998.000000</td>\n",
       "      <td>5998.000000</td>\n",
       "      <td>5998.000000</td>\n",
       "    </tr>\n",
       "    <tr>\n",
       "      <th>mean</th>\n",
       "      <td>0.106369</td>\n",
       "      <td>0.336946</td>\n",
       "      <td>0.915972</td>\n",
       "      <td>0.080360</td>\n",
       "      <td>3.376292</td>\n",
       "      <td>10.536512</td>\n",
       "      <td>0.168223</td>\n",
       "      <td>0.0</td>\n",
       "      <td>6.125208</td>\n",
       "      <td>-0.819940</td>\n",
       "      <td>-0.154051</td>\n",
       "      <td>-4.049350</td>\n",
       "      <td>-4.029343</td>\n",
       "      <td>0.033011</td>\n",
       "      <td>-3.855952</td>\n",
       "    </tr>\n",
       "    <tr>\n",
       "      <th>std</th>\n",
       "      <td>0.495122</td>\n",
       "      <td>0.472706</td>\n",
       "      <td>0.277453</td>\n",
       "      <td>0.271873</td>\n",
       "      <td>2.111835</td>\n",
       "      <td>5.940474</td>\n",
       "      <td>0.374095</td>\n",
       "      <td>0.0</td>\n",
       "      <td>2.164526</td>\n",
       "      <td>3.385112</td>\n",
       "      <td>1.689291</td>\n",
       "      <td>4.479985</td>\n",
       "      <td>4.500215</td>\n",
       "      <td>0.277397</td>\n",
       "      <td>4.498004</td>\n",
       "    </tr>\n",
       "    <tr>\n",
       "      <th>min</th>\n",
       "      <td>-9.000000</td>\n",
       "      <td>0.000000</td>\n",
       "      <td>0.000000</td>\n",
       "      <td>0.000000</td>\n",
       "      <td>1.000000</td>\n",
       "      <td>1.000000</td>\n",
       "      <td>0.000000</td>\n",
       "      <td>0.0</td>\n",
       "      <td>2.000000</td>\n",
       "      <td>-9.000000</td>\n",
       "      <td>-9.000000</td>\n",
       "      <td>-9.000000</td>\n",
       "      <td>-9.000000</td>\n",
       "      <td>-9.000000</td>\n",
       "      <td>-9.000000</td>\n",
       "    </tr>\n",
       "    <tr>\n",
       "      <th>25%</th>\n",
       "      <td>0.000000</td>\n",
       "      <td>0.000000</td>\n",
       "      <td>1.000000</td>\n",
       "      <td>0.000000</td>\n",
       "      <td>2.000000</td>\n",
       "      <td>4.000000</td>\n",
       "      <td>0.000000</td>\n",
       "      <td>0.0</td>\n",
       "      <td>5.000000</td>\n",
       "      <td>0.000000</td>\n",
       "      <td>0.000000</td>\n",
       "      <td>-9.000000</td>\n",
       "      <td>-9.000000</td>\n",
       "      <td>0.000000</td>\n",
       "      <td>-9.000000</td>\n",
       "    </tr>\n",
       "    <tr>\n",
       "      <th>50%</th>\n",
       "      <td>0.000000</td>\n",
       "      <td>0.000000</td>\n",
       "      <td>1.000000</td>\n",
       "      <td>0.000000</td>\n",
       "      <td>2.000000</td>\n",
       "      <td>14.000000</td>\n",
       "      <td>0.000000</td>\n",
       "      <td>0.0</td>\n",
       "      <td>5.000000</td>\n",
       "      <td>0.000000</td>\n",
       "      <td>0.000000</td>\n",
       "      <td>0.000000</td>\n",
       "      <td>0.000000</td>\n",
       "      <td>0.000000</td>\n",
       "      <td>0.000000</td>\n",
       "    </tr>\n",
       "    <tr>\n",
       "      <th>75%</th>\n",
       "      <td>0.000000</td>\n",
       "      <td>1.000000</td>\n",
       "      <td>1.000000</td>\n",
       "      <td>0.000000</td>\n",
       "      <td>5.000000</td>\n",
       "      <td>14.000000</td>\n",
       "      <td>0.000000</td>\n",
       "      <td>0.0</td>\n",
       "      <td>6.000000</td>\n",
       "      <td>1.000000</td>\n",
       "      <td>0.000000</td>\n",
       "      <td>0.000000</td>\n",
       "      <td>0.000000</td>\n",
       "      <td>0.000000</td>\n",
       "      <td>0.000000</td>\n",
       "    </tr>\n",
       "    <tr>\n",
       "      <th>max</th>\n",
       "      <td>1.000000</td>\n",
       "      <td>1.000000</td>\n",
       "      <td>1.000000</td>\n",
       "      <td>1.000000</td>\n",
       "      <td>9.000000</td>\n",
       "      <td>22.000000</td>\n",
       "      <td>1.000000</td>\n",
       "      <td>0.0</td>\n",
       "      <td>13.000000</td>\n",
       "      <td>1.000000</td>\n",
       "      <td>1.000000</td>\n",
       "      <td>1.000000</td>\n",
       "      <td>1.000000</td>\n",
       "      <td>1.000000</td>\n",
       "      <td>1.000000</td>\n",
       "    </tr>\n",
       "  </tbody>\n",
       "</table>\n",
       "</div>"
      ],
      "text/plain": [
       "         doubtterr     multiple      success      suicide  attacktype1  \\\n",
       "count  5998.000000  5998.000000  5998.000000  5998.000000  5998.000000   \n",
       "mean      0.106369     0.336946     0.915972     0.080360     3.376292   \n",
       "std       0.495122     0.472706     0.277453     0.271873     2.111835   \n",
       "min      -9.000000     0.000000     0.000000     0.000000     1.000000   \n",
       "25%       0.000000     0.000000     1.000000     0.000000     2.000000   \n",
       "50%       0.000000     0.000000     1.000000     0.000000     2.000000   \n",
       "75%       0.000000     1.000000     1.000000     0.000000     5.000000   \n",
       "max       1.000000     1.000000     1.000000     1.000000     9.000000   \n",
       "\n",
       "         targtype1  guncertain1  individual    weaptype1     property  \\\n",
       "count  5998.000000  5998.000000      5998.0  5998.000000  5998.000000   \n",
       "mean     10.536512     0.168223         0.0     6.125208    -0.819940   \n",
       "std       5.940474     0.374095         0.0     2.164526     3.385112   \n",
       "min       1.000000     0.000000         0.0     2.000000    -9.000000   \n",
       "25%       4.000000     0.000000         0.0     5.000000     0.000000   \n",
       "50%      14.000000     0.000000         0.0     5.000000     0.000000   \n",
       "75%      14.000000     0.000000         0.0     6.000000     1.000000   \n",
       "max      22.000000     1.000000         0.0    13.000000     1.000000   \n",
       "\n",
       "         ishostkid      INT_LOG     INT_IDEO     INT_MISC      INT_ANY  \n",
       "count  5998.000000  5998.000000  5998.000000  5998.000000  5998.000000  \n",
       "mean     -0.154051    -4.049350    -4.029343     0.033011    -3.855952  \n",
       "std       1.689291     4.479985     4.500215     0.277397     4.498004  \n",
       "min      -9.000000    -9.000000    -9.000000    -9.000000    -9.000000  \n",
       "25%       0.000000    -9.000000    -9.000000     0.000000    -9.000000  \n",
       "50%       0.000000     0.000000     0.000000     0.000000     0.000000  \n",
       "75%       0.000000     0.000000     0.000000     0.000000     0.000000  \n",
       "max       1.000000     1.000000     1.000000     1.000000     1.000000  "
      ]
     },
     "execution_count": 68,
     "metadata": {},
     "output_type": "execute_result"
    }
   ],
   "source": [
    "# select the first last set of numerical features from the gtd dataset and describe \n",
    "df_gtd.select_dtypes(include=['float64', 'int64', 'float32', 'int32']).iloc[0:, 12:].describe()"
   ]
  },
  {
   "cell_type": "markdown",
   "id": "a046ffbe",
   "metadata": {},
   "source": [
    "There are no observable inconsistency from this pheriperal outlook on the dataset. Hence we will pass the numerical features as they are. "
   ]
  },
  {
   "cell_type": "markdown",
   "id": "1687eea3",
   "metadata": {},
   "source": [
    "### 1.1.3 Cleaning the LGA Dataset"
   ]
  },
  {
   "cell_type": "markdown",
   "id": "d51ca905",
   "metadata": {},
   "source": [
    "#### Handling Nulls"
   ]
  },
  {
   "cell_type": "code",
   "execution_count": 69,
   "id": "743dd162",
   "metadata": {},
   "outputs": [
    {
     "data": {
      "text/plain": [
       "state_code    1.679587\n",
       "dtype: float64"
      ]
     },
     "execution_count": 69,
     "metadata": {},
     "output_type": "execute_result"
    }
   ],
   "source": [
    "# Percentage of null values in fields containing nulls\n",
    "null_pct = df_lga.isnull().mean() * 100\n",
    "null_pct = null_pct[null_pct.values > 0]\n",
    "null_pct"
   ]
  },
  {
   "cell_type": "markdown",
   "id": "b57644fb",
   "metadata": {},
   "source": [
    "Only the statecode feature is containing null. That feature is supposed tobe distinct. Hence, we can not input them with a measure of central tendency. We retain the tradition for this project and replace null with 'unknown'.  "
   ]
  },
  {
   "cell_type": "code",
   "execution_count": 70,
   "id": "f16c3229",
   "metadata": {},
   "outputs": [],
   "source": [
    "# input 'unknown' for null values\n",
    "df_lga.fillna('unknown', inplace=True)"
   ]
  },
  {
   "cell_type": "code",
   "execution_count": 71,
   "id": "02acb339",
   "metadata": {},
   "outputs": [
    {
     "data": {
      "text/plain": [
       "id              0\n",
       "name            0\n",
       "state_id        0\n",
       "state_code      0\n",
       "state_name      0\n",
       "country_id      0\n",
       "country_code    0\n",
       "country_name    0\n",
       "latitude        0\n",
       "longitude       0\n",
       "wikiDataId      0\n",
       "dtype: int64"
      ]
     },
     "execution_count": 71,
     "metadata": {},
     "output_type": "execute_result"
    }
   ],
   "source": [
    "df_lga.isnull().sum()"
   ]
  },
  {
   "cell_type": "markdown",
   "id": "d164d6b5",
   "metadata": {},
   "source": [
    "#### Checking for inconsistencies"
   ]
  },
  {
   "cell_type": "code",
   "execution_count": 72,
   "id": "097099ca",
   "metadata": {},
   "outputs": [
    {
     "name": "stdout",
     "output_type": "stream",
     "text": [
      "<class 'pandas.core.frame.DataFrame'>\n",
      "RangeIndex: 774 entries, 0 to 773\n",
      "Data columns (total 11 columns):\n",
      " #   Column        Non-Null Count  Dtype  \n",
      "---  ------        --------------  -----  \n",
      " 0   id            774 non-null    int64  \n",
      " 1   name          774 non-null    object \n",
      " 2   state_id      774 non-null    int64  \n",
      " 3   state_code    774 non-null    object \n",
      " 4   state_name    774 non-null    object \n",
      " 5   country_id    774 non-null    int64  \n",
      " 6   country_code  774 non-null    object \n",
      " 7   country_name  774 non-null    object \n",
      " 8   latitude      774 non-null    float64\n",
      " 9   longitude     774 non-null    float64\n",
      " 10  wikiDataId    774 non-null    object \n",
      "dtypes: float64(2), int64(3), object(6)\n",
      "memory usage: 66.6+ KB\n"
     ]
    }
   ],
   "source": [
    "df_lga.info()"
   ]
  },
  {
   "cell_type": "markdown",
   "id": "bc19a6cd",
   "metadata": {},
   "source": [
    "### 1.1.4 Cleaning the LGA Feature Dataset"
   ]
  },
  {
   "cell_type": "markdown",
   "id": "63fc6798",
   "metadata": {},
   "source": [
    "Because this dataset was collected from ChatGPT API's unstructured response, it contains the most dirt and inonsistencies. Unlike the other datasets, which must have been precleaned by their custodians, this dataset is converted into pandas dataframe from chatGPT API's raw responses. Sometimes, for categorical variables, it uses different synonymns which means almost same thing to quantify or qualify different local government. Hence, this dataset is needing preprocessing for each of the feature collected and careful observation of the values in each feature.\n",
    "\n",
    "<b><i>NB: Functions used for the cleaning of this dataset are organised at the bottom of this notebook under the cleaning functions subheading</i></b>"
   ]
  },
  {
   "cell_type": "code",
   "execution_count": 73,
   "id": "02d97f54",
   "metadata": {},
   "outputs": [
    {
     "data": {
      "text/html": [
       "<div>\n",
       "<style scoped>\n",
       "    .dataframe tbody tr th:only-of-type {\n",
       "        vertical-align: middle;\n",
       "    }\n",
       "\n",
       "    .dataframe tbody tr th {\n",
       "        vertical-align: top;\n",
       "    }\n",
       "\n",
       "    .dataframe thead th {\n",
       "        text-align: right;\n",
       "    }\n",
       "</style>\n",
       "<table border=\"1\" class=\"dataframe\">\n",
       "  <thead>\n",
       "    <tr style=\"text-align: right;\">\n",
       "      <th></th>\n",
       "      <th>Lga Name</th>\n",
       "      <th>percentage of educated</th>\n",
       "      <th>Level of Isolation</th>\n",
       "      <th>Natural Barriers</th>\n",
       "      <th>Elevation</th>\n",
       "      <th>Population</th>\n",
       "      <th>Major Ocupation</th>\n",
       "      <th>Political stability</th>\n",
       "      <th>Economic Situation</th>\n",
       "      <th>Average Cost of living</th>\n",
       "      <th>Employment rate</th>\n",
       "    </tr>\n",
       "  </thead>\n",
       "  <tbody>\n",
       "    <tr>\n",
       "      <th>0</th>\n",
       "      <td>Aba North</td>\n",
       "      <td>70%</td>\n",
       "      <td>Low</td>\n",
       "      <td>None</td>\n",
       "      <td>104m (341ft)</td>\n",
       "      <td>382,784</td>\n",
       "      <td>Trading and Commerce</td>\n",
       "      <td>Relatively Stable</td>\n",
       "      <td>Struggling</td>\n",
       "      <td>â‚¦120,000 ($312) per month</td>\n",
       "      <td>65%</td>\n",
       "    </tr>\n",
       "    <tr>\n",
       "      <th>1</th>\n",
       "      <td>Aba South</td>\n",
       "      <td>70%</td>\n",
       "      <td>Low</td>\n",
       "      <td>None</td>\n",
       "      <td>30m</td>\n",
       "      <td>1 million</td>\n",
       "      <td>Trading</td>\n",
       "      <td>Relatively stable</td>\n",
       "      <td>Struggling</td>\n",
       "      <td>â‚¦50,000</td>\n",
       "      <td>45%</td>\n",
       "    </tr>\n",
       "    <tr>\n",
       "      <th>2</th>\n",
       "      <td>Arochukwu</td>\n",
       "      <td>70%</td>\n",
       "      <td>Low</td>\n",
       "      <td>Hills and Rivers</td>\n",
       "      <td>1500ft</td>\n",
       "      <td>150,000</td>\n",
       "      <td>Agriculture</td>\n",
       "      <td>Relatively stable</td>\n",
       "      <td>Developing</td>\n",
       "      <td>â‚¦40,000</td>\n",
       "      <td>60%</td>\n",
       "    </tr>\n",
       "    <tr>\n",
       "      <th>3</th>\n",
       "      <td>Bende</td>\n",
       "      <td>90%</td>\n",
       "      <td>Low</td>\n",
       "      <td>Rivers</td>\n",
       "      <td>200 meters</td>\n",
       "      <td>100,000</td>\n",
       "      <td>Farming</td>\n",
       "      <td>Stable</td>\n",
       "      <td>Struggling</td>\n",
       "      <td>â‚¦50,000</td>\n",
       "      <td>70%</td>\n",
       "    </tr>\n",
       "    <tr>\n",
       "      <th>4</th>\n",
       "      <td>Ikwuano</td>\n",
       "      <td>70%</td>\n",
       "      <td>Low</td>\n",
       "      <td>Hills and Rivers</td>\n",
       "      <td>190m</td>\n",
       "      <td>150,000</td>\n",
       "      <td>Farming</td>\n",
       "      <td>Relatively Stable</td>\n",
       "      <td>Struggling</td>\n",
       "      <td>â‚¦50,000 ($125)</td>\n",
       "      <td>40%</td>\n",
       "    </tr>\n",
       "  </tbody>\n",
       "</table>\n",
       "</div>"
      ],
      "text/plain": [
       "    Lga Name percentage of educated Level of Isolation  Natural Barriers  \\\n",
       "0  Aba North                    70%                Low              None   \n",
       "1  Aba South                    70%                Low              None   \n",
       "2  Arochukwu                    70%                Low  Hills and Rivers   \n",
       "3      Bende                    90%                Low            Rivers   \n",
       "4    Ikwuano                    70%                Low  Hills and Rivers   \n",
       "\n",
       "      Elevation Population       Major Ocupation Political stability  \\\n",
       "0  104m (341ft)    382,784  Trading and Commerce   Relatively Stable   \n",
       "1           30m  1 million               Trading   Relatively stable   \n",
       "2        1500ft    150,000           Agriculture   Relatively stable   \n",
       "3    200 meters    100,000               Farming              Stable   \n",
       "4          190m    150,000               Farming   Relatively Stable   \n",
       "\n",
       "  Economic Situation       Average Cost of living Employment rate  \n",
       "0         Struggling  â‚¦120,000 ($312) per month             65%  \n",
       "1         Struggling                    â‚¦50,000             45%  \n",
       "2         Developing                    â‚¦40,000             60%  \n",
       "3         Struggling                    â‚¦50,000             70%  \n",
       "4         Struggling             â‚¦50,000 ($125)             40%  "
      ]
     },
     "execution_count": 73,
     "metadata": {},
     "output_type": "execute_result"
    }
   ],
   "source": [
    "df_lga_features.iloc[0:, 0:11].head()"
   ]
  },
  {
   "cell_type": "markdown",
   "id": "d3f66cde",
   "metadata": {},
   "source": [
    "A look at the first 10 columns of this dataset affirms the previous conviction that almost all the features of this dataset will be needing cleaning. Most of the features contain different units and weird characters."
   ]
  },
  {
   "cell_type": "markdown",
   "id": "c12d71c3",
   "metadata": {},
   "source": [
    "#### 1.1.4.1 Cleaning the Percentage Educated features"
   ]
  },
  {
   "cell_type": "code",
   "execution_count": 74,
   "id": "c4d419b8",
   "metadata": {},
   "outputs": [
    {
     "data": {
      "text/plain": [
       "array(['70%', '90%', '65%', '60%;', '85%', '65%,', '75%,', '75%', '72%',\n",
       "       '67%', '80%', '30%', '70%,', '50%', '60%', '68%', '64%', '58%',\n",
       "       '85%,', '78%', '68%,', '85%;', '74%', '51%', '73%', '84%', '47%',\n",
       "       '72%,', '60%,', '95%', '70', '62%', '63%', '80%,', '69%', '75%;',\n",
       "       '81%', '57%', '80', '70%;', '40%', '42%', '76%', '45%', '55%',\n",
       "       '75% |', '80%;', '54%', nan, '82%,', '71%', '65%;', '40%,', '83%',\n",
       "       '79%,', '75', '56%', '50%,', '82%', '65%.', '87%', '90%,', '81%,',\n",
       "       '40%.'], dtype=object)"
      ]
     },
     "execution_count": 74,
     "metadata": {},
     "output_type": "execute_result"
    }
   ],
   "source": [
    "# checking the distinct values in the dataset\n",
    "df_lga_features['percentage of educated'].unique()"
   ]
  },
  {
   "cell_type": "code",
   "execution_count": 75,
   "id": "a79dd750",
   "metadata": {},
   "outputs": [
    {
     "data": {
      "text/plain": [
       "array([70.0, 90.0, 65.0, 60.0, 85.0, 75.0, 72.0, 67.0, 80.0, 30.0, 50.0,\n",
       "       68.0, 64.0, 58.0, 78.0, 74.0, 51.0, 73.0, 84.0, 47.0, 95.0, 62.0,\n",
       "       63.0, 69.0, 81.0, 57.0, 40.0, 42.0, 76.0, 45.0, 55.0, 54.0, '',\n",
       "       82.0, 71.0, 83.0, 79.0, 56.0, 87.0], dtype=object)"
      ]
     },
     "execution_count": 75,
     "metadata": {},
     "output_type": "execute_result"
    }
   ],
   "source": [
    "# apply function to extract only the digits in the value as float\n",
    "df_lga_features['percentage of educated'] = df_lga_features.apply(get_numbers_without_units\n",
    "                                                                , column='percentage of educated'\n",
    "                                                                , no_match_value=''\n",
    "                                                                , axis=1)\n",
    "df_lga_features['percentage of educated'].unique()"
   ]
  },
  {
   "cell_type": "markdown",
   "id": "642f89f8",
   "metadata": {},
   "source": [
    "#### 1.1.4.2 Cleaning the Level of Isolation features"
   ]
  },
  {
   "cell_type": "code",
   "execution_count": 76,
   "id": "5d563562",
   "metadata": {},
   "outputs": [
    {
     "data": {
      "text/plain": [
       "array(['Low', 'Low;', 'Low,', 'Moderate', 'low', 'High', 'Medium',\n",
       "       'Minimal', 'Moderate,', 'low;', 'Low |', nan, 'moderate;', 'High,',\n",
       "       'Moderate.', 'Moderate;', 'Low.', 'Medium,'], dtype=object)"
      ]
     },
     "execution_count": 76,
     "metadata": {},
     "output_type": "execute_result"
    }
   ],
   "source": [
    "# check values in level of isolation\n",
    "df_lga_features['Level of Isolation'].unique()"
   ]
  },
  {
   "cell_type": "code",
   "execution_count": 77,
   "id": "1896544e",
   "metadata": {},
   "outputs": [
    {
     "data": {
      "text/plain": [
       "array(['low', 'moderate', 'high', 'medium', 'minimal', ''], dtype=object)"
      ]
     },
     "execution_count": 77,
     "metadata": {},
     "output_type": "execute_result"
    }
   ],
   "source": [
    "# We need only the sequential alphabets from this feature and they should be lower case\n",
    "df_lga_features['Level of Isolation'] = df_lga_features.apply(retrieve_alphabets, column_name=\"Level of Isolation\", axis=1)\n",
    "df_lga_features['Level of Isolation'].unique() "
   ]
  },
  {
   "cell_type": "code",
   "execution_count": 78,
   "id": "1d28b6da",
   "metadata": {},
   "outputs": [
    {
     "data": {
      "text/plain": [
       "array(['low', 'moderate', 'high', ''], dtype=object)"
      ]
     },
     "execution_count": 78,
     "metadata": {},
     "output_type": "execute_result"
    }
   ],
   "source": [
    "# replace medium and minimal with moderate\n",
    "words_list = [('medium', 'moderate'), ('minimal', 'moderate')]\n",
    "df_lga_features['Level of Isolation'] = replace_words(df_lga_features, repls=words_list, column='Level of Isolation') \n",
    "df_lga_features['Level of Isolation'].unique() "
   ]
  },
  {
   "cell_type": "markdown",
   "id": "13f07f77",
   "metadata": {},
   "source": [
    "#### 1.1.4.3 Cleaning the Natural Barriers features"
   ]
  },
  {
   "cell_type": "code",
   "execution_count": 79,
   "id": "37ac56df",
   "metadata": {},
   "outputs": [
    {
     "data": {
      "text/plain": [
       "array(['None', 'Hills and Rivers', 'Rivers', 'Rivers, Hills', 'Hills',\n",
       "       'Hills;', 'Hills and Forests', 'Rivers,', 'River',\n",
       "       'Hills and Plateaus', 'Mountainous', 'Mountains, Rivers',\n",
       "       'Mountains,', 'Mountains', 'mountains', 'Mountains and Rivers',\n",
       "       'None,', 'Rivers and Hills', 'High', 'Rivers, mountains',\n",
       "       'Rivers and Mountains', 'River Niger', 'Few', 'The Niger River',\n",
       "       'Rivers and creeks', 'Mountainous terrain', 'Hills/mountains,',\n",
       "       'Rivers, Swamps', 'Rivers and Creeks', 'Rivers, hills',\n",
       "       'Coastline, Rivers', 'Rivers and swamps', 'rivers and swamps;',\n",
       "       'Mountains;', 'Mountains, Rivers, Forests', 'Hills and forests',\n",
       "       'Yes', 'Hills, Rivers', 'Rivers |', 'Rivers and mountains',\n",
       "       'Riverine;', 'Rivers and creeks,', 'Rivers and hills', 'Rivers;',\n",
       "       'Deltaic plain', 'Hills and mountains', nan, 'Hills and rivers',\n",
       "       'Rivers and hills;', 'Hills and Mountains',\n",
       "       'Mountains, Forests, Rivers', 'Hilly', 'Hilly terrain',\n",
       "       'Hills and Valleys,', 'Hills and streams', 'Few,',\n",
       "       'Hills, Valleys', 'few;', 'Hills and Rivers,',\n",
       "       'Rivers, hills, and forests', 'Mountains, rivers, forests',\n",
       "       'Mountains, rivers', 'Mountainous;', 'Hilly terrain,',\n",
       "       'Mountains, Rivers, and Valleys', 'Rivers and Valleys',\n",
       "       'Hills, Mountains', 'Yes (mountain ranges)', 'Mountains, Rivers.',\n",
       "       'Atlantic Ocean and Lagos Lagoon', 'Ocean', 'Rocky terrain',\n",
       "       'Hills,', 'None.', 'Rivers, dense forest', 'River Ogun',\n",
       "       'Rivers and Forests', 'Two Rivers', 'Forests and rivers',\n",
       "       'Hills, Forests, Rivers', 'Forest cover', 'Sea', 'Mountainous,',\n",
       "       'River,', 'Minimal', 'Nil', 'Mountains, forests',\n",
       "       'Rivers and valleys', 'Hills and Plateaus;', 'Plateau,',\n",
       "       'Plateau State', 'Rivers, hills;', 'Rivers and Swamps',\n",
       "       'Mountains and Hills', 'Limited', 'Mountainous Terrain', 'Desert',\n",
       "       'Hills and Valleys', 'Mountains, Rivers, Deserts'], dtype=object)"
      ]
     },
     "execution_count": 79,
     "metadata": {},
     "output_type": "execute_result"
    }
   ],
   "source": [
    "# check values in Natural Barriers\n",
    "df_lga_features['Natural Barriers'].unique()"
   ]
  },
  {
   "cell_type": "markdown",
   "id": "58bf5193",
   "metadata": {},
   "source": [
    "This feature has so much different different values. But a look at the values indicate that many of the values can be classed into one. For an instance, we can have rivereine, rivers, river, etc. The field is not atomic too. We could consider replacing all similar values with a representative value. Although, for this purpose we will create new features for each distinct value.\n",
    "\n",
    "Hence, we will classify this values into \n",
    "- River - Swamp  - Hill - Forest  - Mountain - ocean - valley - desert - rock - plateau - creeks - none"
   ]
  },
  {
   "cell_type": "code",
   "execution_count": 80,
   "id": "a7bd0959",
   "metadata": {},
   "outputs": [
    {
     "data": {
      "text/html": [
       "<div>\n",
       "<style scoped>\n",
       "    .dataframe tbody tr th:only-of-type {\n",
       "        vertical-align: middle;\n",
       "    }\n",
       "\n",
       "    .dataframe tbody tr th {\n",
       "        vertical-align: top;\n",
       "    }\n",
       "\n",
       "    .dataframe thead th {\n",
       "        text-align: right;\n",
       "    }\n",
       "</style>\n",
       "<table border=\"1\" class=\"dataframe\">\n",
       "  <thead>\n",
       "    <tr style=\"text-align: right;\">\n",
       "      <th></th>\n",
       "      <th>Lga Name</th>\n",
       "      <th>percentage of educated</th>\n",
       "      <th>Level of Isolation</th>\n",
       "      <th>Elevation</th>\n",
       "      <th>Population</th>\n",
       "      <th>Major Ocupation</th>\n",
       "      <th>Political stability</th>\n",
       "      <th>Economic Situation</th>\n",
       "      <th>Average Cost of living</th>\n",
       "      <th>Employment rate</th>\n",
       "      <th>...</th>\n",
       "      <th>Has Hill</th>\n",
       "      <th>Has Forest</th>\n",
       "      <th>Has Mountain</th>\n",
       "      <th>Has ocean</th>\n",
       "      <th>Has valley</th>\n",
       "      <th>Has desert</th>\n",
       "      <th>Has rock</th>\n",
       "      <th>Has plateau</th>\n",
       "      <th>Has creeks</th>\n",
       "      <th>Has none</th>\n",
       "    </tr>\n",
       "  </thead>\n",
       "  <tbody>\n",
       "    <tr>\n",
       "      <th>0</th>\n",
       "      <td>Aba North</td>\n",
       "      <td>70.0</td>\n",
       "      <td>low</td>\n",
       "      <td>104m (341ft)</td>\n",
       "      <td>382,784</td>\n",
       "      <td>Trading and Commerce</td>\n",
       "      <td>Relatively Stable</td>\n",
       "      <td>Struggling</td>\n",
       "      <td>â‚¦120,000 ($312) per month</td>\n",
       "      <td>65%</td>\n",
       "      <td>...</td>\n",
       "      <td>0</td>\n",
       "      <td>0</td>\n",
       "      <td>0</td>\n",
       "      <td>0</td>\n",
       "      <td>0</td>\n",
       "      <td>0</td>\n",
       "      <td>0</td>\n",
       "      <td>0</td>\n",
       "      <td>0</td>\n",
       "      <td>1</td>\n",
       "    </tr>\n",
       "    <tr>\n",
       "      <th>1</th>\n",
       "      <td>Aba South</td>\n",
       "      <td>70.0</td>\n",
       "      <td>low</td>\n",
       "      <td>30m</td>\n",
       "      <td>1 million</td>\n",
       "      <td>Trading</td>\n",
       "      <td>Relatively stable</td>\n",
       "      <td>Struggling</td>\n",
       "      <td>â‚¦50,000</td>\n",
       "      <td>45%</td>\n",
       "      <td>...</td>\n",
       "      <td>0</td>\n",
       "      <td>0</td>\n",
       "      <td>0</td>\n",
       "      <td>0</td>\n",
       "      <td>0</td>\n",
       "      <td>0</td>\n",
       "      <td>0</td>\n",
       "      <td>0</td>\n",
       "      <td>0</td>\n",
       "      <td>1</td>\n",
       "    </tr>\n",
       "    <tr>\n",
       "      <th>2</th>\n",
       "      <td>Arochukwu</td>\n",
       "      <td>70.0</td>\n",
       "      <td>low</td>\n",
       "      <td>1500ft</td>\n",
       "      <td>150,000</td>\n",
       "      <td>Agriculture</td>\n",
       "      <td>Relatively stable</td>\n",
       "      <td>Developing</td>\n",
       "      <td>â‚¦40,000</td>\n",
       "      <td>60%</td>\n",
       "      <td>...</td>\n",
       "      <td>1</td>\n",
       "      <td>0</td>\n",
       "      <td>0</td>\n",
       "      <td>0</td>\n",
       "      <td>0</td>\n",
       "      <td>0</td>\n",
       "      <td>0</td>\n",
       "      <td>0</td>\n",
       "      <td>0</td>\n",
       "      <td>0</td>\n",
       "    </tr>\n",
       "    <tr>\n",
       "      <th>3</th>\n",
       "      <td>Bende</td>\n",
       "      <td>90.0</td>\n",
       "      <td>low</td>\n",
       "      <td>200 meters</td>\n",
       "      <td>100,000</td>\n",
       "      <td>Farming</td>\n",
       "      <td>Stable</td>\n",
       "      <td>Struggling</td>\n",
       "      <td>â‚¦50,000</td>\n",
       "      <td>70%</td>\n",
       "      <td>...</td>\n",
       "      <td>0</td>\n",
       "      <td>0</td>\n",
       "      <td>0</td>\n",
       "      <td>0</td>\n",
       "      <td>0</td>\n",
       "      <td>0</td>\n",
       "      <td>0</td>\n",
       "      <td>0</td>\n",
       "      <td>0</td>\n",
       "      <td>0</td>\n",
       "    </tr>\n",
       "    <tr>\n",
       "      <th>4</th>\n",
       "      <td>Ikwuano</td>\n",
       "      <td>70.0</td>\n",
       "      <td>low</td>\n",
       "      <td>190m</td>\n",
       "      <td>150,000</td>\n",
       "      <td>Farming</td>\n",
       "      <td>Relatively Stable</td>\n",
       "      <td>Struggling</td>\n",
       "      <td>â‚¦50,000 ($125)</td>\n",
       "      <td>40%</td>\n",
       "      <td>...</td>\n",
       "      <td>1</td>\n",
       "      <td>0</td>\n",
       "      <td>0</td>\n",
       "      <td>0</td>\n",
       "      <td>0</td>\n",
       "      <td>0</td>\n",
       "      <td>0</td>\n",
       "      <td>0</td>\n",
       "      <td>0</td>\n",
       "      <td>0</td>\n",
       "    </tr>\n",
       "  </tbody>\n",
       "</table>\n",
       "<p>5 rows × 34 columns</p>\n",
       "</div>"
      ],
      "text/plain": [
       "    Lga Name percentage of educated Level of Isolation     Elevation  \\\n",
       "0  Aba North                   70.0                low  104m (341ft)   \n",
       "1  Aba South                   70.0                low           30m   \n",
       "2  Arochukwu                   70.0                low        1500ft   \n",
       "3      Bende                   90.0                low    200 meters   \n",
       "4    Ikwuano                   70.0                low          190m   \n",
       "\n",
       "  Population       Major Ocupation Political stability Economic Situation  \\\n",
       "0    382,784  Trading and Commerce   Relatively Stable         Struggling   \n",
       "1  1 million               Trading   Relatively stable         Struggling   \n",
       "2    150,000           Agriculture   Relatively stable         Developing   \n",
       "3    100,000               Farming              Stable         Struggling   \n",
       "4    150,000               Farming   Relatively Stable         Struggling   \n",
       "\n",
       "        Average Cost of living Employment rate  ... Has Hill Has Forest  \\\n",
       "0  â‚¦120,000 ($312) per month             65%  ...        0          0   \n",
       "1                    â‚¦50,000             45%  ...        0          0   \n",
       "2                    â‚¦40,000             60%  ...        1          0   \n",
       "3                    â‚¦50,000             70%  ...        0          0   \n",
       "4             â‚¦50,000 ($125)             40%  ...        1          0   \n",
       "\n",
       "  Has Mountain Has ocean Has valley Has desert Has rock Has plateau  \\\n",
       "0            0         0          0          0        0           0   \n",
       "1            0         0          0          0        0           0   \n",
       "2            0         0          0          0        0           0   \n",
       "3            0         0          0          0        0           0   \n",
       "4            0         0          0          0        0           0   \n",
       "\n",
       "  Has creeks Has none  \n",
       "0          0        1  \n",
       "1          0        1  \n",
       "2          0        0  \n",
       "3          0        0  \n",
       "4          0        0  \n",
       "\n",
       "[5 rows x 34 columns]"
      ]
     },
     "execution_count": 80,
     "metadata": {},
     "output_type": "execute_result"
    }
   ],
   "source": [
    "# define the categories for the different kinds of bareers\n",
    "categories = ['River', 'Swamp', 'Hill', 'Forest', 'Mountain', \n",
    "              'ocean', 'valley', 'desert', 'rock', 'plateau', \n",
    "              'creeks', 'none']\n",
    "\n",
    "# create features for each of the unique categories \n",
    "for category in categories:\n",
    "    column_head = \"Has \" + category\n",
    "    df_lga_features[column_head] = df_lga_features.apply(binarize, word=category, column='Natural Barriers', axis= 1)\n",
    "\n",
    "#drop the natural barriers feature\n",
    "df_lga_features.drop(columns='Natural Barriers', inplace=True)\n",
    "\n",
    "df_lga_features.head()"
   ]
  },
  {
   "cell_type": "markdown",
   "id": "30f43ae1",
   "metadata": {},
   "source": [
    "#### 1.1.4.4 Cleaning the Elevation features"
   ]
  },
  {
   "cell_type": "code",
   "execution_count": 81,
   "id": "5f23dc7d",
   "metadata": {},
   "outputs": [
    {
     "data": {
      "text/plain": [
       "array(['104m (341ft)', '30m', '1500ft', '200 meters', '190m', '140m',\n",
       "       '250m', '500 meters;', '1500m', '200 meters above sea level',\n",
       "       '100 meters', '40m', '50m,', '100m', '400m,', '123 m (404 ft)',\n",
       "       '117m', '152 meters', '167 meters', '1092m', '350m', '625 meters',\n",
       "       '223m', '900m', '446m', '700m', '300m', '500m,', '143m',\n",
       "       '500 meters', '500m', '625m', '160 meters', '1400m', '305m',\n",
       "       '207m,', '300 meters', '40 meters', 'Sea level', '32 meters',\n",
       "       '41m', '23m', '36 meters', '100 meters,',\n",
       "       '3 meters above sea level', '92m', '50m', '50m above sea level',\n",
       "       '200m above sea level', '20m above sea level', '50 meters', '54m',\n",
       "       '10m', '92 meters', '1000m', '600m', '24 meters', '45m,', '50m;',\n",
       "       '30 meteres', 'Below 100m', '200 meters,', '130m', '67m', '132m',\n",
       "       '120m', '150 meters', '84m', '65m', '150m', '210m',\n",
       "       '100-200 meters above sea level', '211m', '20 meters',\n",
       "       '45m (148ft) above sea level', '332m', '543m', '616m (2021ft)',\n",
       "       '350 meters', '450m', '600m,', '800m', '1,200 meters',\n",
       "       '900 meters,', '423m', '800m,', '1,268 meters', '600 meters',\n",
       "       '200m', '1,200m', '20m', '2500 meters', '80m', '987m',\n",
       "       '366m (1201ft)', '116 meters', '147m', '161-300m', '1200m',\n",
       "       '82 m (269 ft)', '1,500m', '1546m', '144 meters', '200m,',\n",
       "       '90 meters', '124 meters', '1010m', '408 meters', '1,181m', '75m',\n",
       "       'Sea Level', '27m', '650m', '12 meters', '25m', '115 m (377 ft)',\n",
       "       '10 meters', '78m', '30m;', '110 meters', '72 meters', '100m,',\n",
       "       '250 meters', '123m', '30 meters', '82m', '55 meters',\n",
       "       '130 meters', '616m', '214m', '450 meters,', '562 meters', '630m',\n",
       "       '500m;', '750 meters', '450m,', '460m', '461m', '462m', '1300m',\n",
       "       '458 meters', '1539 metres', '343m', '280m', '230m',\n",
       "       '314m above sea level', '150 m', '220m', '357m', '390 meters',\n",
       "       '215m', '173m', '320m', '400m', '29m', '2500ft', '500m |', '273m',\n",
       "       '1,577 meters', '230 meters,', '135m', '150-500m', '100m (328ft)',\n",
       "       '50 meters;', '39 meters,', '135 meters', '1500ft,', '100m;',\n",
       "       '151m', '2 meters', '6 meters', '532m', '512m', '125m', '192m',\n",
       "       '456 meters', nan, '56m', '15 meters', '200-300 meters;',\n",
       "       '121m (397ft)', '156 meters', '70-80 meters above sea level',\n",
       "       '50-150m', '60-200m', '150 - 500m', '506 meters',\n",
       "       '100-200m above sea level', '800 meters', '150m above sea level',\n",
       "       '850 meters', '55m', '1,000 meters', '400 meters', 'Elevated',\n",
       "       '246m', '1,200m,', '250m above sea level', '500-1500m', '425m,',\n",
       "       '1000m,', '400m above sea level', '234m', '622 meters',\n",
       "       '535 meters', '400 meters,', '560m', '532 meters', '410 meters',\n",
       "       '510 meters', '538m', '200m;', '100m above sea level,',\n",
       "       '346 meters', '120 meters', '121 meters', '249m',\n",
       "       '100 meters above sea level', '22m', '50 meters,',\n",
       "       '59 meters (194 feet)', '75 meters', '70m', '450 meters',\n",
       "       '445 meters', '470m', '524 meters', '300m,', '309m',\n",
       "       '1,060 meters', '520m', '420m', '300m;', '573m,', '586m',\n",
       "       '1,160 meters', '630 meters', '1,227 meters', '1,080 meters',\n",
       "       '741 meters', '1,219m (4,000 ft)', '670m', '555 meters', '530m',\n",
       "       '425m', '515-694 m,', '1500 meters', '489 meters', '481m', '174m',\n",
       "       '920 meters', '208m', '500m above sea level', '508m', '471m',\n",
       "       '498m', '509 meters', '180m', '444m', '160m,', '19m', 'Sea level,',\n",
       "       '8 meters above sea level', '2000m', '56m (184ft)', '11m (36ft)',\n",
       "       '22 meters,', '20m;', '540 meters', '345m', '286 m',\n",
       "       '1050 meters,', '356 meters,', '1070m', '1,300 meters', '315m',\n",
       "       '1,250 meters', '196m', '235m', '680m', '980m,', '151m (495ft)',\n",
       "       '480m', '330 meters.', '87m', '60m,', '60m above sea level',\n",
       "       '100m above sea level', '50 m', '102 m,', '42m', '300-900 meters',\n",
       "       '500-800 meters above sea level', '331 m (1,086 ft)',\n",
       "       '250-500 meters', '60m', '28m', '153m', '67 meters,',\n",
       "       '1,500 meters', '200-500m', '240m', '235 meters', '105m',\n",
       "       '180 m (590 ft)', '68m', '170 meters', '223 meters',\n",
       "       '1,500 meters,', '225m', '200-300m', '539m', '73m', '365m,',\n",
       "       '700m above sea level', '175m', '564m', '350m,',\n",
       "       '300m above sea level', '100-240m', '1,410m;', '1,400m', '1200m,',\n",
       "       '1,238 meters', '1,217 metres', '1,500m;', '1,077 meters',\n",
       "       '1,245 meters (4,084 feet)', '1,400 meters', '1,240 meters',\n",
       "       '1,220m,', '1,049 meters', '80 meters', '26 meters', '367 meters',\n",
       "       '154 meters', '280 meters.', '270m', '1,048 ft', '358 meters',\n",
       "       '1,300m', '480 meters', '375 meters', '408 meters (1,339 feet)',\n",
       "       '404m', '384m', '898m', '875 meters', '429m',\n",
       "       '163 meters (535 feet)'], dtype=object)"
      ]
     },
     "execution_count": 81,
     "metadata": {},
     "output_type": "execute_result"
    }
   ],
   "source": [
    "df_lga_features['Elevation'].unique()"
   ]
  },
  {
   "cell_type": "code",
   "execution_count": 82,
   "id": "7862901b",
   "metadata": {},
   "outputs": [
    {
     "data": {
      "text/plain": [
       "array([104.0, 30.0, 457.20000000000005, 200.0, 190.0, 140.0, 250.0, 500.0,\n",
       "       1500.0, 100.0, 40.0, 50.0, 400.0, 123.0, 117.0, 152.0, 167.0,\n",
       "       1092.0, 350.0, 625.0, 223.0, 900.0, 446.0, 700.0, 300.0, 143.0,\n",
       "       160.0, 1400.0, 305.0, 207.0, 0.0, 32.0, 41.0, 23.0, 36.0, 3.0,\n",
       "       92.0, 20.0, 54.0, 10.0, 1000.0, 600.0, 24.0, 45.0, 130.0, 67.0,\n",
       "       132.0, 120.0, 150.0, 84.0, 65.0, 210.0, 211.0, 332.0, 543.0, 616.0,\n",
       "       450.0, 800.0, 1200.0, 423.0, 1268.0, 2500.0, 80.0, 987.0, 366.0,\n",
       "       116.0, 147.0, 82.0, 1546.0, 144.0, 90.0, 124.0, 1010.0, 408.0,\n",
       "       1181.0, 75.0, 27.0, 650.0, 12.0, 25.0, 115.0, 78.0, 110.0, 72.0,\n",
       "       55.0, 214.0, 562.0, 630.0, 750.0, 460.0, 461.0, 462.0, 1300.0,\n",
       "       458.0, 1539.0, 343.0, 280.0, 230.0, 314.0, 220.0, 357.0, 390.0,\n",
       "       215.0, 173.0, 320.0, 29.0, 762.0, 273.0, 1577.0, 135.0, 39.0,\n",
       "       151.0, 2.0, 6.0, 532.0, 512.0, 125.0, 192.0, 456.0, '', 56.0, 15.0,\n",
       "       121.0, 156.0, 506.0, 850.0, 246.0, 425.0, 234.0, 622.0, 535.0,\n",
       "       560.0, 410.0, 510.0, 538.0, 346.0, 249.0, 22.0, 59.0, 70.0, 445.0,\n",
       "       470.0, 524.0, 309.0, 1060.0, 520.0, 420.0, 573.0, 586.0, 1160.0,\n",
       "       1227.0, 1080.0, 741.0, 1219.0, 670.0, 555.0, 530.0, 694.0, 489.0,\n",
       "       481.0, 174.0, 920.0, 208.0, 508.0, 471.0, 498.0, 509.0, 180.0,\n",
       "       444.0, 19.0, 8.0, 2000.0, 11.0, 540.0, 345.0, 286.0, 1050.0, 356.0,\n",
       "       1070.0, 315.0, 1250.0, 196.0, 235.0, 680.0, 980.0, 480.0, 330.0,\n",
       "       87.0, 60.0, 102.0, 42.0, 331.0, 28.0, 153.0, 240.0, 105.0, 68.0,\n",
       "       170.0, 225.0, 539.0, 73.0, 365.0, 175.0, 564.0, 1410.0, 1238.0,\n",
       "       1217.0, 1077.0, 1245.0, 1240.0, 1220.0, 1049.0, 26.0, 367.0, 154.0,\n",
       "       270.0, 319.4304, 358.0, 375.0, 404.0, 384.0, 898.0, 875.0, 429.0,\n",
       "       163.0], dtype=object)"
      ]
     },
     "execution_count": 82,
     "metadata": {},
     "output_type": "execute_result"
    }
   ],
   "source": [
    "# extracting height and thier units\n",
    "df_lga_features['Elevation'] = df_lga_features.apply(extract_numbers_units, values=['m', 'ft'], column='Elevation', axis=1)\n",
    "\n",
    "# replace the values of Sea level, Sea Level with 0.25m and Elevated with null\n",
    "value_list =[('Sea level', '0.25m'), ('Sea Level', '0.25m'), ('Elevated', '')]\n",
    "df_lga_features['Elevation'] = replace_words(df_lga_features, repls= value_list, column='Elevation')\n",
    "\n",
    "# convert all heights to meters\n",
    "df_lga_features['Elevation'] = df_lga_features.apply(convert_values, \n",
    "                     values=[('m', 1), ('ft', 0.3048)], \n",
    "                     column='Elevation', axis=1)\n",
    "\n",
    "df_lga_features['Elevation'].unique()"
   ]
  },
  {
   "cell_type": "markdown",
   "id": "b23f8bca",
   "metadata": {},
   "source": [
    "#### 1.1.4.5 Cleaning the Population features"
   ]
  },
  {
   "cell_type": "code",
   "execution_count": 83,
   "id": "6947df15",
   "metadata": {},
   "outputs": [
    {
     "data": {
      "text/plain": [
       "array(['382,784', '1 million', '150,000', '100,000', '140,498', '79,231',\n",
       "       '50,000;', '500,000', '200,000', '50,000', '150,000,', '120,000',\n",
       "       '100,000,', '259,259', '142,478', '127,167', '125,000', '20,000',\n",
       "       '160,000', '24,000', '95,000', '400,000', '156,235', '48,739',\n",
       "       '254,000,', '250,000', '83,000', '450,000', '214,225', '114,000',\n",
       "       '334,382', '50,000,', '142,300', '1,000', '370,000', '226,564',\n",
       "       '25,000;', '551,000', '111,200', '149,630', '234,460', '85,000',\n",
       "       '230,000', '187,096', '105,000', '152,000', '300,000', '214,273',\n",
       "       '153,000', '6.3 Million', '80,000', '102,000,', '200,000,',\n",
       "       '30,000,', '5000', '10,000', '214,000', '260,000', '140,000',\n",
       "       '119,077', '3.5 million', '267,859', '1,000,000', '181,000',\n",
       "       '25,000', '340,000', '170,000', '78,000', '60,000', '256,000',\n",
       "       '156,555', '128,611;', '202,725', '234,117', '158,642', '218,000',\n",
       "       '478,000', '126,000', '6.4 million', '100,000;', '1.2 million',\n",
       "       '14,000,', '90,000', '74,000', '276,000', '45,000', '234,567',\n",
       "       '23,000', '82,000', '257,000', '75,000', '394,041', '50,000 |',\n",
       "       '120,000,', '156,000', '185,000', '176,000', '183,555', '150,000;',\n",
       "       '183,049,', '183,000', '204,000', '210,000', '132,241', '158,593',\n",
       "       '2.2 million', nan, '320,000', '130,000', '98,768', '387,876',\n",
       "       '203,606', '135,800', '139,829', '469,540', '232,849', '75,000,',\n",
       "       '111,245', '127,000', '214,871', '98,000', '2 million', '274,000',\n",
       "       '77,000', '14,560', '250,000;', '250,000,', '251,824', '211,864',\n",
       "       '309,187', '104,748', '131,669', '500,000,', '112,000', '62,401',\n",
       "       '122,000', '1.8 million', '350,000', '192,000', '345,000',\n",
       "       '800,000', '87,000', '244,000', '102,453', '3 million',\n",
       "       '2.25 million', '85,000,', '2.4 million', '241,093', '460,000',\n",
       "       '535,619', '600,000', '1.4 million', '1,178,000,', '500,000;',\n",
       "       '330,712', '2 million,', '80,000,', '70,000', '10,000,', '110,000',\n",
       "       '1,200,000', '179,', '388,776', '850,000', '193,000', '356,767',\n",
       "       '142,312', '156,532', '123,000', '92,622', '387,000', '135,000',\n",
       "       '240,000', '251,522,', '156,674', '259,036', '32,000', '96,000',\n",
       "       '200,000;', '1.6 million', '608,319,', '306,795,', '284,000',\n",
       "       '1000', '152,852;', '537,000', '259,870', '121,076', '124,549',\n",
       "       '245,000', '58,020', '452,000', '170,', '220,000', '198,314',\n",
       "       '1.5 million', '89,763', '98,765', '59,968', '72,000', '185,874'],\n",
       "      dtype=object)"
      ]
     },
     "execution_count": 83,
     "metadata": {},
     "output_type": "execute_result"
    }
   ],
   "source": [
    "df_lga_features['Population'].unique()"
   ]
  },
  {
   "cell_type": "code",
   "execution_count": 84,
   "id": "503c8f40",
   "metadata": {},
   "outputs": [
    {
     "data": {
      "text/plain": [
       "array(['382784', 1000000.0, '150000', '100000', '140498', '79231',\n",
       "       '50000', '500000', '200000', '120000', '259259', '142478',\n",
       "       '127167', '125000', '20000', '160000', '24000', '95000', '400000',\n",
       "       '156235', '48739', '254000', '250000', '83000', '450000', '214225',\n",
       "       '114000', '334382', '142300', '1000', '370000', '226564', '25000',\n",
       "       '551000', '111200', '149630', '234460', '85000', '230000',\n",
       "       '187096', '105000', '152000', '300000', '214273', '153000', '6.',\n",
       "       '80000', '102000', '30000', '5000', '10000', '214000', '260000',\n",
       "       '140000', '119077', 5000000.0, '267859', '1000000', '181000',\n",
       "       '340000', '170000', '78000', '60000', '256000', '156555', '128611',\n",
       "       '202725', '234117', '158642', '218000', '478000', '126000',\n",
       "       4000000.0, 2000000.0, '14000', '90000', '74000', '276000', '45000',\n",
       "       '234567', '23000', '82000', '257000', '75000', '394041', '50000 ',\n",
       "       '156000', '185000', '176000', '183555', '183049', '183000',\n",
       "       '204000', '210000', '132241', '158593', '', '320000', '130000',\n",
       "       '98768', '387876', '203606', '135800', '139829', '469540',\n",
       "       '232849', '111245', '127000', '214871', '98000', '274000', '77000',\n",
       "       '14560', '251824', '211864', '309187', '104748', '131669',\n",
       "       '112000', '62401', '122000', 8000000.0, '350000', '192000',\n",
       "       '345000', '800000', '87000', '244000', '102453', 3000000.0,\n",
       "       25000000.0, '241093', '460000', '535619', '600000', '1178000',\n",
       "       '330712', '70000', '110000', '1200000', '179', '388776', '850000',\n",
       "       '193000', '356767', '142312', '156532', '123000', '92622',\n",
       "       '387000', '135000', '240000', '251522', '156674', '259036',\n",
       "       '32000', '96000', 6000000.0, '608319', '306795', '284000',\n",
       "       '152852', '537000', '259870', '121076', '124549', '245000',\n",
       "       '58020', '452000', '170', '220000', '198314', '89763', '98765',\n",
       "       '59968', '72000', '185874'], dtype=object)"
      ]
     },
     "execution_count": 84,
     "metadata": {},
     "output_type": "execute_result"
    }
   ],
   "source": [
    "# extracting population and thier units\n",
    "df_lga_features['Population'] = df_lga_features.apply(extract_numbers_units, \n",
    "                                                      values=['million', ''], \n",
    "                                                      column='Population', axis=1)\n",
    "\n",
    "# converting all popuplation to values in thousands\n",
    "df_lga_features['Population'] = df_lga_features.apply(convert_values, \n",
    "                     values=[('million', 1000000)], \n",
    "                     column='Population', axis=1)\n",
    "\n",
    "df_lga_features['Population'].unique()"
   ]
  },
  {
   "cell_type": "markdown",
   "id": "7c16a53f",
   "metadata": {},
   "source": [
    "#### 1.1.4.6 Cleaning the Major Occupation features"
   ]
  },
  {
   "cell_type": "code",
   "execution_count": 85,
   "id": "2bbcf7eb",
   "metadata": {},
   "outputs": [
    {
     "data": {
      "text/plain": [
       "array(['Trading and Commerce', 'Trading', 'Agriculture', 'Farming',\n",
       "       'Farming;', 'Farming,', 'Agriculture,', 'farming', 'Trading,',\n",
       "       'Fishing', 'Trading and Service', 'Trading and Farming',\n",
       "       'Trading and Manufacturing', 'Trading and Agriculture',\n",
       "       'Commercial trading', 'Fishing,', 'farming;', 'Manufacturing',\n",
       "       'Agriculture;', 'Commerce', 'Agriculture |',\n",
       "       'Fishing and Oil and Gas Industry', nan, 'Government',\n",
       "       'Farming/Agriculture', 'Trade and Services', 'Trade', 'Agriculure',\n",
       "       'Fishing and tourism', 'White-collar jobs', 'Service industries',\n",
       "       'Service industry', 'Trading and Business,', 'Retail;',\n",
       "       'Agricultural', 'Agriculture.', 'Cement production',\n",
       "       'Farming/Fishing', 'Farming and Mining;', 'Trading and commerce',\n",
       "       'Oil and gas industry', 'Farming.'], dtype=object)"
      ]
     },
     "execution_count": 85,
     "metadata": {},
     "output_type": "execute_result"
    }
   ],
   "source": [
    "df_lga_features['Major Ocupation'].unique()"
   ]
  },
  {
   "cell_type": "code",
   "execution_count": 86,
   "id": "8c2add4b",
   "metadata": {},
   "outputs": [
    {
     "data": {
      "text/plain": [
       "array(['trading', 'agriculture', 'farming', 'fishery', 'manufacturing',\n",
       "       'commercial', '', 'civil servant', 'white collar',\n",
       "       'cement manufacturing', 'oil and gas'], dtype=object)"
      ]
     },
     "execution_count": 86,
     "metadata": {},
     "output_type": "execute_result"
    }
   ],
   "source": [
    "# lets replace some values with more generic values to reduce the number of categories\n",
    "words_list = [\n",
    "                ('Trad', 'Trading'), ('Commerc', 'Commercial'), ('Agric', 'Agriculture'),\n",
    "                 ('Farm', 'Farming'), ('Fish', 'Fishery'), ('service', 'Commercial'),\n",
    "                 ('Manufactur', 'Manufacturing'), ('Oil', 'Oil and Gas'), ('Government', 'Civil servant'),\n",
    "                 ('Touris', 'Tourism'), ('white', 'White Collar'), ('business', 'Commercial'),\n",
    "                 ('retail', 'Trading'), ('cement', 'Cement Manufacturing'), ('Mining', 'Minning')\n",
    "            ]\n",
    "\n",
    "df_lga_features['Major Occupation'] = replace_words(df_lga_features, repls=words_list, column='Major Ocupation') \n",
    "df_lga_features['Major Occupation'].unique() "
   ]
  },
  {
   "cell_type": "markdown",
   "id": "a74afd4b",
   "metadata": {},
   "source": [
    "#### 1.1.4.7 Cleaning the Political stability features"
   ]
  },
  {
   "cell_type": "code",
   "execution_count": 87,
   "id": "771c9eed",
   "metadata": {},
   "outputs": [
    {
     "data": {
      "text/plain": [
       "array(['Relatively Stable', 'Relatively stable', 'Stable',\n",
       "       'Relatively Stable;', 'Stable,', 'Fairly stable', 'Unstable',\n",
       "       'relatively stable', 'Relatively Stable,', 'Stable;',\n",
       "       'Fairly Stable', 'Relatively stable,', 'Moderately stable',\n",
       "       'Somewhat stable', 'Fairly Stable,', 'stable;', 'Unstable,',\n",
       "       'Moderate', 'Stable |', 'Relatively stable;', 'Generally Stable',\n",
       "       nan, 'High', 'Generally stable', 'Stable.', 'Moderately Stable',\n",
       "       'Strong', 'Fairly stable,', 'Very stable'], dtype=object)"
      ]
     },
     "execution_count": 87,
     "metadata": {},
     "output_type": "execute_result"
    }
   ],
   "source": [
    "df_lga_features['Political stability'].unique()"
   ]
  },
  {
   "cell_type": "code",
   "execution_count": 88,
   "id": "1cdfc48f",
   "metadata": {},
   "outputs": [
    {
     "data": {
      "text/plain": [
       "array(['relatively stable', 'stable', 'relatively stable;', 'stable,',\n",
       "       'fairly stable', 'unstable', 'relatively stable,', 'stable;',\n",
       "       'moderate', 'fairly stable,', 'unstable,', 'stable |', '',\n",
       "       'very stable', 'stable.'], dtype=object)"
      ]
     },
     "execution_count": 88,
     "metadata": {},
     "output_type": "execute_result"
    }
   ],
   "source": [
    "# lets replace some values with more generic values to reduce the number of categories\n",
    "words_list = [('generally stable', 'stable'), ('high', 'very stable'), ('strong', 'very stable'),\n",
    "                   ('moderately stable', 'moderate'), ('somewhat stable', 'fairly stable')]\n",
    "\n",
    "df_lga_features['Political stability'] = replace_words(df_lga_features, repls=words_list, column='Political stability') \n",
    "df_lga_features['Political stability'].unique() "
   ]
  },
  {
   "cell_type": "markdown",
   "id": "3dd742d8",
   "metadata": {},
   "source": [
    "#### 1.1.4.8 Cleaning the Economical Situation features"
   ]
  },
  {
   "cell_type": "code",
   "execution_count": 89,
   "id": "2d438d33",
   "metadata": {},
   "outputs": [
    {
     "data": {
      "text/plain": [
       "Developing                           380\n",
       "Poor                                 110\n",
       "Developing,                           59\n",
       "Struggling                            47\n",
       "Growing                               17\n",
       "Underdeveloped                        12\n",
       "Average                               11\n",
       "Developing;                            9\n",
       "Weak                                   9\n",
       "Low                                    8\n",
       "Poor,                                  7\n",
       "Struggling,                            5\n",
       "Growing,                               5\n",
       "Slowly developing                      3\n",
       "Moderate                               3\n",
       "Improving                              3\n",
       "Booming                                2\n",
       "Good                                   2\n",
       "Low income                             2\n",
       "Strong                                 2\n",
       "Below Average                          2\n",
       "Relatively poor                        2\n",
       "Underdeveloped,                        2\n",
       "Struggling;                            2\n",
       "Mostly Agricultural-based              1\n",
       "Challenging                            1\n",
       "Average,                               1\n",
       "Developing.                            1\n",
       "Below average                          1\n",
       "Fairly stable but fluctuating          1\n",
       "Growing but still developing           1\n",
       "Deteriorating                          1\n",
       "Struggling Economy                     1\n",
       "Relatively Poor                        1\n",
       "Satisfactory                           1\n",
       "Underdeveloped.                        1\n",
       "Declining                              1\n",
       "Growing;                               1\n",
       "Weak,                                  1\n",
       "developing;                            1\n",
       "struggling;                            1\n",
       "poor                                   1\n",
       "Slow-growing                           1\n",
       "Dependent on Oil and Gas Industry      1\n",
       "Agriculture-based economy              1\n",
       "Poor;                                  1\n",
       "Underdeveloped;                        1\n",
       "Developing |                           1\n",
       "Low income economy                     1\n",
       "Struggling economy                     1\n",
       "Name: Economic Situation, dtype: int64"
      ]
     },
     "execution_count": 89,
     "metadata": {},
     "output_type": "execute_result"
    }
   ],
   "source": [
    "df_lga_features['Economic Situation'].value_counts()"
   ]
  },
  {
   "cell_type": "code",
   "execution_count": 90,
   "id": "0c0162bb",
   "metadata": {},
   "outputs": [
    {
     "data": {
      "text/plain": [
       "array(['underdeveloped', 'developing', 'developing,', 'average',\n",
       "       'underdeveloped;', 'underdeveloped,', '', 'developing;',\n",
       "       'developed', 'developing |', 'average,', 'developing.',\n",
       "       'underdeveloped.'], dtype=object)"
      ]
     },
     "execution_count": 90,
     "metadata": {},
     "output_type": "execute_result"
    }
   ],
   "source": [
    "# lets replace some values with more generic values to reduce the number of categories\n",
    "words_list = [('growing', 'developing'), ('struggling', 'underdeveloped'), ('weak', 'underdeveloped'),\n",
    "                   ('low', 'underdeveloped'), ('poor', 'underdeveloped'), ('slow', 'developing'), \n",
    "                   ('below average', 'underdeveloped'), ('moderate', 'average'), ('improving', 'developing'),\n",
    "                   ('booming', 'developed'), ('good', 'developed'), ('strong', 'developed'), ('agricultur', ''),\n",
    "                   ('oil', ''), ('challenging', 'underdeveloped'), ('satisfactory', 'developed'), ('declining', ''), \n",
    "                  ('deteriorating', ''), ('fairly', 'developing')\n",
    "            ]\n",
    "\n",
    "df_lga_features['Economic Situation'] = replace_words(df_lga_features, repls=words_list, column='Economic Situation') \n",
    "df_lga_features['Economic Situation'].unique() "
   ]
  },
  {
   "cell_type": "markdown",
   "id": "987f0c0e",
   "metadata": {},
   "source": [
    "#### 1.1.4.9 Cleaning the Average Cost of living features"
   ]
  },
  {
   "cell_type": "code",
   "execution_count": 91,
   "id": "1e958a12",
   "metadata": {},
   "outputs": [
    {
     "data": {
      "text/plain": [
       "â‚¦50,000                   149\n",
       "â‚¦40,000                    45\n",
       "â‚¦30,000                    35\n",
       "N50,000                      27\n",
       "â‚¦50,000,                   25\n",
       "                           ... \n",
       "â‚¦30,000 ($74.57)            1\n",
       "â‚¦50,000/$125 per month      1\n",
       "â‚¦20,000                     1\n",
       "NGN 80,000                    1\n",
       "N30,000,                      1\n",
       "Name: Average Cost of living, Length: 215, dtype: int64"
      ]
     },
     "execution_count": 91,
     "metadata": {},
     "output_type": "execute_result"
    }
   ],
   "source": [
    "df_lga_features['Average Cost of living'].value_counts()"
   ]
  },
  {
   "cell_type": "code",
   "execution_count": 92,
   "id": "61227938",
   "metadata": {},
   "outputs": [
    {
     "data": {
      "text/plain": [
       "array([108763.20000000001, 50000.0, 40000.0, 43575.0, 30000.0, 60000.0,\n",
       "       34860.0, 63445.200000000004, 70000.0, 45000.0, 35000.0, 42877.8,\n",
       "       80000.0, 100000.0, 25000.0, 53335.8, 38346.0, 31374.000000000004,\n",
       "       29631.000000000004, 54730.200000000004, 75000.0, 58000.0, 41832.0,\n",
       "       54033.0, 52290.0, 69720.0, 150000.0, 33117.0, 25796.4, 45318.0,\n",
       "       26842.2, 61005.00000000001, 200000.0, 26145.0, 44882.25, 85000.0,\n",
       "       87150.0, 20000.0, 12898.2, 65536.8, 22310.4, 25447.800000000003,\n",
       "       62748.00000000001, 120000.0, 35557.200000000004, 25099.2,\n",
       "       25995.102, '', 35905.8, 42529.200000000004, 53684.4,\n",
       "       45666.600000000006, 21613.2, 65000.0, 104580.0, 55776.0,\n",
       "       128982.00000000001, 71463.0, 41134.8, 64491.00000000001, 250.0,\n",
       "       244020.00000000003, 90000.0, 67628.40000000001, 55000.0, 44620.8,\n",
       "       174300.0, 40786.200000000004, 30328.2, 63096.600000000006],\n",
       "      dtype=object)"
      ]
     },
     "execution_count": 92,
     "metadata": {},
     "output_type": "execute_result"
    }
   ],
   "source": [
    "currencies = [('$', 348.6), ('N', 1), ('NGN', 1)]\n",
    "df_lga_features['Average Cost of living'] = df_lga_features.apply(extract_convert_curr,\n",
    "                                                                  column='Average Cost of living', \n",
    "                                                                  currencies = currencies, axis=1)\n",
    "df_lga_features['Average Cost of living'].unique()"
   ]
  },
  {
   "cell_type": "markdown",
   "id": "ced8376c",
   "metadata": {},
   "source": [
    "#### 1.1.4.10 Cleaning the Employment rate"
   ]
  },
  {
   "cell_type": "code",
   "execution_count": 98,
   "id": "0c80cedf",
   "metadata": {},
   "outputs": [
    {
     "data": {
      "text/plain": [
       "60%     113\n",
       "45%      80\n",
       "70%      76\n",
       "40%      76\n",
       "65%      49\n",
       "       ... \n",
       "22%       1\n",
       "35%;      1\n",
       "78%,      1\n",
       "82%       1\n",
       "39%       1\n",
       "Name: Employment rate, Length: 79, dtype: int64"
      ]
     },
     "execution_count": 98,
     "metadata": {},
     "output_type": "execute_result"
    }
   ],
   "source": [
    "df_lga_features['Employment rate'].value_counts()"
   ]
  },
  {
   "cell_type": "code",
   "execution_count": 99,
   "id": "d0e5fd63",
   "metadata": {},
   "outputs": [
    {
     "data": {
      "text/plain": [
       "array([65.0, 45.0, 60.0, 70.0, 40.0, 35.0, 75.0, 30.0, 55.0, 68.0, 62.0,\n",
       "       85.0, 50.0, 78.0, 38.0, 49.0, 80.0, 54.0, 72.0, 47.0, 63.0, 46.0,\n",
       "       12.0, 25.0, 95.0, 48.0, 94.0, 34.0, 43.0, 69.0, 52.0, 3.0, 83.0,\n",
       "       89.0, 22.0, '', 90.0, 82.0, 42.0, 87.0, 74.0, 64.0, 23.0, 88.0,\n",
       "       58.0, 32.0, 36.0, 73.0, 56.0, 8.0, 39.0], dtype=object)"
      ]
     },
     "execution_count": 99,
     "metadata": {},
     "output_type": "execute_result"
    }
   ],
   "source": [
    "# apply function to extract only the digits in the value as float\n",
    "df_lga_features['Employment rate'] = df_lga_features.apply(get_numbers_without_units\n",
    "                                                                , column='Employment rate'\n",
    "                                                                , no_match_value=''\n",
    "                                                                , axis=1)\n",
    "df_lga_features['Employment rate'].unique()"
   ]
  },
  {
   "cell_type": "markdown",
   "id": "f71e1513",
   "metadata": {},
   "source": [
    "We have completed the cleaning of the first part of the dataset. We look at the other parts"
   ]
  },
  {
   "cell_type": "code",
   "execution_count": 100,
   "id": "cb2902fd",
   "metadata": {
    "scrolled": true
   },
   "outputs": [
    {
     "data": {
      "text/html": [
       "<div>\n",
       "<style scoped>\n",
       "    .dataframe tbody tr th:only-of-type {\n",
       "        vertical-align: middle;\n",
       "    }\n",
       "\n",
       "    .dataframe tbody tr th {\n",
       "        vertical-align: top;\n",
       "    }\n",
       "\n",
       "    .dataframe thead th {\n",
       "        text-align: right;\n",
       "    }\n",
       "</style>\n",
       "<table border=\"1\" class=\"dataframe\">\n",
       "  <thead>\n",
       "    <tr style=\"text-align: right;\">\n",
       "      <th></th>\n",
       "      <th>Transport infrastructure</th>\n",
       "      <th>Longitude</th>\n",
       "      <th>Latitude</th>\n",
       "      <th>Income Equality</th>\n",
       "      <th>Major ethnic group</th>\n",
       "      <th>Communication network</th>\n",
       "      <th>Infrastructure development</th>\n",
       "      <th>Dominant Age group</th>\n",
       "      <th>Average family size</th>\n",
       "      <th>Average education level</th>\n",
       "      <th>...</th>\n",
       "      <th>Has Forest</th>\n",
       "      <th>Has Mountain</th>\n",
       "      <th>Has ocean</th>\n",
       "      <th>Has valley</th>\n",
       "      <th>Has desert</th>\n",
       "      <th>Has rock</th>\n",
       "      <th>Has plateau</th>\n",
       "      <th>Has creeks</th>\n",
       "      <th>Has none</th>\n",
       "      <th>Major Occupation</th>\n",
       "    </tr>\n",
       "  </thead>\n",
       "  <tbody>\n",
       "    <tr>\n",
       "      <th>0</th>\n",
       "      <td>Well-developed</td>\n",
       "      <td>7.39Â° E</td>\n",
       "      <td>5.05Â° N</td>\n",
       "      <td>Low</td>\n",
       "      <td>Igbo</td>\n",
       "      <td>Good</td>\n",
       "      <td>Developing</td>\n",
       "      <td>25-44 years</td>\n",
       "      <td>4 people</td>\n",
       "      <td>High school diploma</td>\n",
       "      <td>...</td>\n",
       "      <td>0</td>\n",
       "      <td>0</td>\n",
       "      <td>0</td>\n",
       "      <td>0</td>\n",
       "      <td>0</td>\n",
       "      <td>0</td>\n",
       "      <td>0</td>\n",
       "      <td>0</td>\n",
       "      <td>1</td>\n",
       "      <td>trading</td>\n",
       "    </tr>\n",
       "    <tr>\n",
       "      <th>1</th>\n",
       "      <td>Decent</td>\n",
       "      <td>7.37 E</td>\n",
       "      <td>5.53 N</td>\n",
       "      <td>Low</td>\n",
       "      <td>Igbo</td>\n",
       "      <td>Well-established</td>\n",
       "      <td>Limited</td>\n",
       "      <td>25-44</td>\n",
       "      <td>4</td>\n",
       "      <td>High school</td>\n",
       "      <td>...</td>\n",
       "      <td>0</td>\n",
       "      <td>0</td>\n",
       "      <td>0</td>\n",
       "      <td>0</td>\n",
       "      <td>0</td>\n",
       "      <td>0</td>\n",
       "      <td>0</td>\n",
       "      <td>0</td>\n",
       "      <td>1</td>\n",
       "      <td>trading</td>\n",
       "    </tr>\n",
       "    <tr>\n",
       "      <th>2</th>\n",
       "      <td>Poor</td>\n",
       "      <td>7.9 E</td>\n",
       "      <td>5.5 N</td>\n",
       "      <td>Low</td>\n",
       "      <td>Igbo</td>\n",
       "      <td>Limited</td>\n",
       "      <td>Slow</td>\n",
       "      <td>Youth</td>\n",
       "      <td>4</td>\n",
       "      <td>High school diploma</td>\n",
       "      <td>...</td>\n",
       "      <td>0</td>\n",
       "      <td>0</td>\n",
       "      <td>0</td>\n",
       "      <td>0</td>\n",
       "      <td>0</td>\n",
       "      <td>0</td>\n",
       "      <td>0</td>\n",
       "      <td>0</td>\n",
       "      <td>0</td>\n",
       "      <td>agriculture</td>\n",
       "    </tr>\n",
       "    <tr>\n",
       "      <th>3</th>\n",
       "      <td>Good</td>\n",
       "      <td>7.5Â° E</td>\n",
       "      <td>5.6Â° N</td>\n",
       "      <td>Low</td>\n",
       "      <td>Igbo</td>\n",
       "      <td>Well established</td>\n",
       "      <td>Moderately developed</td>\n",
       "      <td>25-40 years</td>\n",
       "      <td>5</td>\n",
       "      <td>Secondary school</td>\n",
       "      <td>...</td>\n",
       "      <td>0</td>\n",
       "      <td>0</td>\n",
       "      <td>0</td>\n",
       "      <td>0</td>\n",
       "      <td>0</td>\n",
       "      <td>0</td>\n",
       "      <td>0</td>\n",
       "      <td>0</td>\n",
       "      <td>0</td>\n",
       "      <td>farming</td>\n",
       "    </tr>\n",
       "    <tr>\n",
       "      <th>4</th>\n",
       "      <td>Poor</td>\n",
       "      <td>7.5Â°E</td>\n",
       "      <td>5.4Â°N</td>\n",
       "      <td>Low</td>\n",
       "      <td>Ibo</td>\n",
       "      <td>Limited</td>\n",
       "      <td>Developing</td>\n",
       "      <td>Youth</td>\n",
       "      <td>4</td>\n",
       "      <td>High School</td>\n",
       "      <td>...</td>\n",
       "      <td>0</td>\n",
       "      <td>0</td>\n",
       "      <td>0</td>\n",
       "      <td>0</td>\n",
       "      <td>0</td>\n",
       "      <td>0</td>\n",
       "      <td>0</td>\n",
       "      <td>0</td>\n",
       "      <td>0</td>\n",
       "      <td>farming</td>\n",
       "    </tr>\n",
       "  </tbody>\n",
       "</table>\n",
       "<p>5 rows × 24 columns</p>\n",
       "</div>"
      ],
      "text/plain": [
       "  Transport infrastructure Longitude  Latitude Income Equality  \\\n",
       "0           Well-developed  7.39Â° E  5.05Â° N             Low   \n",
       "1                   Decent    7.37 E    5.53 N             Low   \n",
       "2                     Poor     7.9 E     5.5 N             Low   \n",
       "3                     Good   7.5Â° E   5.6Â° N             Low   \n",
       "4                     Poor    7.5Â°E    5.4Â°N             Low   \n",
       "\n",
       "  Major ethnic group Communication network Infrastructure development  \\\n",
       "0               Igbo                  Good                 Developing   \n",
       "1               Igbo      Well-established                    Limited   \n",
       "2               Igbo               Limited                       Slow   \n",
       "3               Igbo      Well established       Moderately developed   \n",
       "4                Ibo               Limited                 Developing   \n",
       "\n",
       "  Dominant Age group Average family size Average education level  ...  \\\n",
       "0        25-44 years            4 people     High school diploma  ...   \n",
       "1              25-44                   4             High school  ...   \n",
       "2              Youth                   4     High school diploma  ...   \n",
       "3        25-40 years                   5        Secondary school  ...   \n",
       "4              Youth                   4             High School  ...   \n",
       "\n",
       "  Has Forest  Has Mountain  Has ocean  Has valley  Has desert  Has rock  \\\n",
       "0          0             0          0           0           0         0   \n",
       "1          0             0          0           0           0         0   \n",
       "2          0             0          0           0           0         0   \n",
       "3          0             0          0           0           0         0   \n",
       "4          0             0          0           0           0         0   \n",
       "\n",
       "   Has plateau  Has creeks  Has none  Major Occupation  \n",
       "0            0           0         1           trading  \n",
       "1            0           0         1           trading  \n",
       "2            0           0         0       agriculture  \n",
       "3            0           0         0           farming  \n",
       "4            0           0         0           farming  \n",
       "\n",
       "[5 rows x 24 columns]"
      ]
     },
     "execution_count": 100,
     "metadata": {},
     "output_type": "execute_result"
    }
   ],
   "source": [
    "df_lga_features.iloc[0:, 11:].head()"
   ]
  },
  {
   "cell_type": "markdown",
   "id": "64971fc5",
   "metadata": {},
   "source": [
    "#### 1.1.4.11 Cleaning the Ethnic Marginalization"
   ]
  },
  {
   "cell_type": "code",
   "execution_count": 103,
   "id": "a7922b88",
   "metadata": {},
   "outputs": [
    {
     "data": {
      "text/plain": [
       "Minimal                                                  272\n",
       "None                                                     106\n",
       "High                                                      64\n",
       "Low                                                       56\n",
       "Moderate                                                  39\n",
       "None,                                                     30\n",
       "Minimal,                                                  27\n",
       "Marginalized                                              19\n",
       "Significant                                               17\n",
       "Yes                                                       11\n",
       "Minorities                                                 9\n",
       "Marginalized,                                              7\n",
       "Minimal;                                                   7\n",
       "Some marginalization                                       6\n",
       "Low,                                                       6\n",
       "Not significant                                            4\n",
       "None;                                                      4\n",
       "Negligible                                                 3\n",
       "Minor                                                      3\n",
       "Mild                                                       3\n",
       "Some                                                       3\n",
       "High,                                                      3\n",
       "Minor,                                                     2\n",
       "Some Marginalization                                       2\n",
       "Significant marginalization of minority ethnic groups      1\n",
       "Limited,                                                   1\n",
       "Low;                                                       1\n",
       "None.                                                      1\n",
       "Marginalized;                                              1\n",
       "Significant marginalized ethnic groups                     1\n",
       "Moderate,                                                  1\n",
       "Negligible,                                                1\n",
       "Significant for some groups                                1\n",
       "low;                                                       1\n",
       "Marginalized.                                              1\n",
       "Limited marginalization                                    1\n",
       "minimal;                                                   1\n",
       "Minorities marginalized                                    1\n",
       "Limited                                                    1\n",
       "Marginalization of Urhobo people                           1\n",
       "Experienced                                                1\n",
       "Limited |                                                  1\n",
       "No marginalization                                         1\n",
       "Common,                                                    1\n",
       "Present                                                    1\n",
       "Severe                                                     1\n",
       "Significant Marginalization                                1\n",
       "Significant,                                               1\n",
       "Significant;                                               1\n",
       "minimal                                                    1\n",
       "Generally inclusive                                        1\n",
       "Name: Ethnic Marginalization, dtype: int64"
      ]
     },
     "execution_count": 103,
     "metadata": {},
     "output_type": "execute_result"
    }
   ],
   "source": [
    "df_lga_features['Ethnic Marginalization'].value_counts()"
   ]
  },
  {
   "cell_type": "code",
   "execution_count": 105,
   "id": "64f0aa33",
   "metadata": {},
   "outputs": [
    {
     "data": {
      "text/plain": [
       "array(['minimal', 'none', 'significant', ''], dtype=object)"
      ]
     },
     "execution_count": 105,
     "metadata": {},
     "output_type": "execute_result"
    }
   ],
   "source": [
    "# lets replace some values with more generic values to reduce the number of categories\n",
    "words_list = [('Low', 'Minimal'), ('High', 'Significant'), ('Moderate', 'Minimal'), ('marginaliz', 'Significant'),\n",
    "                   ('yes', 'significant'), ('Minorities', 'Significant'), ('Minor', 'Minimal'), ('Negligible', 'Minimal'),\n",
    "                   ('Not signifigant', 'Minimal'), ('significant', 'significant'), ('some', 'minimal'), ('Mild', 'Minimal'),\n",
    "                   ('limited', 'Minimal'), ('severe', 'significant'), ('present', 'significant'), ('inclusive', 'none'), \n",
    "                   ('common', 'significant'), ('experienced', ''), ('minimal', 'minimal'), ('none', 'none')\n",
    "            ]\n",
    "\n",
    "df_lga_features['Ethnic Marginalization'] = replace_words(df_lga_features, repls=words_list, column='Ethnic Marginalization') \n",
    "df_lga_features['Ethnic Marginalization'].unique() "
   ]
  },
  {
   "cell_type": "markdown",
   "id": "6f3285e3",
   "metadata": {},
   "source": [
    "#### 1.1.4.12 Cleaning the Transport Infrastructure"
   ]
  },
  {
   "cell_type": "code",
   "execution_count": 102,
   "id": "135346e0",
   "metadata": {},
   "outputs": [
    {
     "data": {
      "text/plain": [
       "Poor                                          224\n",
       "Limited                                       179\n",
       "Good                                          117\n",
       "Good,                                          31\n",
       "Well-developed                                 29\n",
       "Poor,                                          25\n",
       "Limited,                                       12\n",
       "Basic                                          11\n",
       "Adequate                                       10\n",
       "Underdeveloped                                  9\n",
       "Fair                                            6\n",
       "Well-developed,                                 6\n",
       "Good road network                               6\n",
       "Decent                                          6\n",
       "Poor;                                           5\n",
       "Moderate                                        5\n",
       "Developing                                      5\n",
       "Fairly Developed                                3\n",
       "Good;                                           3\n",
       "Average                                         3\n",
       "Well-Developed                                  2\n",
       "Poorly developed                                2\n",
       "Fairly developed                                2\n",
       "Well-developed;                                 2\n",
       "Limited;                                        2\n",
       "Paved roads                                     1\n",
       "Good.                                           1\n",
       "Moderate,                                       1\n",
       "Good road network and water transportation      1\n",
       "Developed                                       1\n",
       "Well developed                                  1\n",
       "Sparse,                                         1\n",
       "poor;                                           1\n",
       "Well-connected                                  1\n",
       "Ok                                              1\n",
       "2-lane roads;                                   1\n",
       "Well Developed                                  1\n",
       "Good road network,                              1\n",
       "poor                                            1\n",
       "Adequate;                                       1\n",
       "Well-established                                1\n",
       "Adequate,                                       1\n",
       "Strong,                                         1\n",
       "Poor |                                          1\n",
       "Good road network and a port                    1\n",
       "Inadequate                                      1\n",
       "good;                                           1\n",
       "Single lane roads                               1\n",
       "Basic,                                          1\n",
       "Limited.                                        1\n",
       "Name: Transport infrastructure, dtype: int64"
      ]
     },
     "execution_count": 102,
     "metadata": {},
     "output_type": "execute_result"
    }
   ],
   "source": [
    "df_lga_features['Transport infrastructure'].value_counts()"
   ]
  },
  {
   "cell_type": "markdown",
   "id": "7038a6bb",
   "metadata": {},
   "source": [
    "#### 1.1.4.13 Cleaning the Longitude"
   ]
  },
  {
   "cell_type": "code",
   "execution_count": 115,
   "id": "16051a66",
   "metadata": {},
   "outputs": [
    {
     "data": {
      "text/plain": [
       "array(['7.39Â° E', '7.37 E', '7.9 E', '7.5Â° E', '7.5Â°E', '7.45',\n",
       "       '7.5440Â° E', '7.62Â° E;', '7.52Â°E', '6.9 E', '8Â°E,', '6.8Â°E',\n",
       "       '7.5Â°E,', '7.8936Â° E', '7.3824Â° E', '12.4219Â° E', '12.5Â°E',\n",
       "       '11.9972Â° E', '9.06Â°E', '12.4353Â° E', '12.10 E', '6Â°E',\n",
       "       '12.9960Â° E', '10.3706Â° E', '13.1725Â° E', '12.7599Â° E,',\n",
       "       '12.3Â°E', '12.3958Â° E', '13.2354Â° N', '13.2517Â° N', '10.45 E',\n",
       "       '12.83Â°E', '6.1Â°E', '12.4656Â° E', '12.5Â° E,', '12.4Â° E',\n",
       "       '7.9267Â° E', '7.9833Â° E', '7.8243Â° E', '7.8321Â° E', '7.802Â°E',\n",
       "       '7.8341Â° E', '7.7000Â° E', '7.8 E', '7.5043Â° E', '7.6452Â° E',\n",
       "       '6.6', '7.57E,', '7.8Â° E', '7.7285Â° E', '3.5Â° E', '7.34Â°E',\n",
       "       '6.5Â° E', '7.7833Â° E', '7.7649Â° E', '7.9340Â° E', '7.9354Â° E',\n",
       "       '5.09Â° E', '8.5Â° E', '7.23Â°E', '8.6724Â° E', '7.5692Â° E,',\n",
       "       '8.4;', '7.8523Â° E', \"7Â°30'N\", '7.5464Â° E', '7.9290Â° E',\n",
       "       '6.02Â° E', '6.0494Â° E', '6.4Â°E', '6.8Â° E,', '6.16Â° E',\n",
       "       '7.06Â°E', '6.8796Â° E', '6.97Â° E', '6.99Â° E', '6.36Â°E',\n",
       "       '6.1Â° E', '6.86 E', '6.7 E', '6.0055Â° E', '6.11Â°E',\n",
       "       '6.1714Â° E', '6.76Â° E', '6.98Â°E', '7.4Â°E', '9.9688Â° E',\n",
       "       '9.8401Â° N', '10.8Â° E', '8.4296Â° E', '9.9777Â°E', '9.8685Â°E,',\n",
       "       '10.25 E', '9.8635Â° E', '10.4432Â° E', '10.5644Â° E,', '10.42Â°E',\n",
       "       '10.7214Â° N,', '9.80 E,', '10.8322Â° E', '10.3245Â° E',\n",
       "       '11.5Â° E', '9.7475Â° E', '9.85Â°E', '9.8Â°E', '9.8457Â° E', '5.8',\n",
       "       '5.1000Â° E', '5.1382Â° E', '5.5 E', '6.3Â°E', '5.10',\n",
       "       '6.2677Â° E', '6.268158Â° E', '7.62 E', '8.3456Â° E', '7.0188Â° E',\n",
       "       '8.7281Â° E', '8.66Â°E', '8.0833Â°E', '8.24Â° E', '9.2791Â° N',\n",
       "       '9.9Â° E', '8.5560Â° E', '6.4657Â° E', '8.55 E', '6.45',\n",
       "       '7.5804Â° E,', '7.8E', '7.37Â°E', '8.1944Â° N', '8.4 degrees E',\n",
       "       '8.2Â° E', '8.1080Â° E', '8.027977', '13.1930Â° N', '12.0088Â° E',\n",
       "       '13.74Â°E', '7.97 E', '7.75Â° E', '7.3 E', '3.2Â° E', '7.787Â° E',\n",
       "       '7.5000Â° E', '7.7204Â° E', '6 degrees East', '7.29Â°E',\n",
       "       '7.7107Â° E', '7.52 E,', '7.9248Â° E', 'E8.21', '7.9490Â° E',\n",
       "       '7.8178Â° E', '4.8 E', '7.7239Â° N', '8.3E', '7.4894Â° E,',\n",
       "       '7.888Â° E', '7.6333Â° E', '7.936Â° E', '6.0Â°E', '6.0667Â° E',\n",
       "       '6.7370Â° E;', '6.1', '7.10Â° E', '7.02Â°E', '7.0574Â° E,',\n",
       "       '7.0025Â° E', '6.98Â° E', '6.0634Â° E', '6.12 E,', '6.0250Â° E',\n",
       "       '6.9196Â° E', '6.01Â°E', '6.8000Â° E', '6.15Â°E', '6.1727Â° E',\n",
       "       '6.9104Â° E', '7.1', '9.8667Â° E', '9.6Â°E', '10.64 E',\n",
       "       '10.50Â° E', '10.7522Â° E,', '9.1205Â° E', '10.8361Â° N',\n",
       "       '9.8466Â° N', '10.66Â°E', '10.2467Â° E', '10.4286Â° N,', '10E;',\n",
       "       \"6Â°54'45.3''E\", '12.18Â° E', '13.61Â°E,', '11.1636Â° N',\n",
       "       '12.7205Â°E', '12.8693Â° E', '12.3Â° E', '13.7583Â° E', '12.99Â°E',\n",
       "       '10.2Â°E', '11.1324Â° N', '13.0781Â° E', '11.8374Â° N',\n",
       "       '13.7020Â° N', '10.8628Â° E', '13.2981Â° E', '12.34E',\n",
       "       '11.862Â° N', '13.3 E', '13.7128Â° E', '12.6708Â° N',\n",
       "       '13.6167Â° E', '12.9851Â° E', '10.1824Â° E', '6.25 E', '8.7Â° E',\n",
       "       '8.0', '8.8', '8.3275Â° E', '8.8333Â° E', '8.2500Â° E',\n",
       "       '8.3344Â°E', '8.2919Â° E', '8.33Â°E |', '8.7167Â° E', '8.26Â°E',\n",
       "       '8.3470Â° E', '9.1225Â° E', '8.351Â° E,', '8.9167Â° E', '8.42 E,',\n",
       "       '8.8Â° E', '6.05Â° E', '6.8Â° E', '5.4301Â° E', '5.2941 E',\n",
       "       '6.0Â° E', '5.815Â° E', '6.093Â° E;', '6.34Â°E', '5.42Â°E,',\n",
       "       '6.018896Â° E', '6.0382Â° E,', '5Â°E;', '6.1292Â° E', '6.1333Â° E',\n",
       "       '5.1297Â° E', '5.6769Â° E', '5.40Â° E', '5.50Â° E', '6.0E,',\n",
       "       '5.37Â° E', '5.8 E', '5.9170Â° E', '5.7Â° E', '8.1164Â° E',\n",
       "       '7.9Â° E', '8.1Â°E', '6.4858Â° E', nan, '6.5Â°E', '6.90Â°E',\n",
       "       '7.46Â°E', '6.85Â°E', '6.10Â° E', '6.4Â° E;', '6.17Â° E',\n",
       "       '6.23Â°E', '6.22 E', '6.54Â°E', '6.7344Â° E', '6.14 E', '6.6Â° E',\n",
       "       '5.706Â° E', '5.6Â°E', '6.4Â° E', '6.1 E', '6.3389Â° E',\n",
       "       '6.5158Â° E', '5.2192Â° E', '5.1', '5.3 degrees E', '5.25Â° E',\n",
       "       '5.25Â°E', '5.1Â° E', '5.1Â°E', '7.6639Â° E', '5.0Â°E',\n",
       "       '7.4975Â° E', '5.18Â° E', '4.72Â° E', \"4Â°09'N\", '6.2Â° E',\n",
       "       '7.5 E', '7.5E', '7.4496Â° E', '7.9851Â° E', '7.8E,', '7.7684Â° E',\n",
       "       '7.0Â°E', '7.38Â°E,', '7.753Â° E,', '7.4325Â° E', '7.66Â° E',\n",
       "       '7.1869Â° E', '7.49Â° E', '7.34Â° E', '7.3159Â° E', '7.25Â° E',\n",
       "       '7.24 E', '10.5104Â° N', '10.5132Â° E,', '10.4418Â° E',\n",
       "       '11.9853Â° E', '10.7942Â° E', '10.2890Â° N', '9.8089Â°E',\n",
       "       '10.32Â°E', '11.33Â°N', '9.8566Â° E', '10.3224Â° N', '7.2 E;',\n",
       "       '7.4Â° E', '7.34 E,', '7.2Â° E', '7.2Â°E', '7.2574 E', '7.08Â°E',\n",
       "       '7.14 E', '6 degrees E', '7.2044Â° E', '7.4374Â°E', '7.0817Â° E',\n",
       "       '7.05 E', '7.024Â° E', '7.4Â° E,', '7.45Â° E', '7.4924Â° E',\n",
       "       '7.03 E', '7.93Â° E', '7.042Â° E', '7.1719 E', '7.01 E,', '9.85 E',\n",
       "       '10.61', '11.3480Â° N', '9.8559Â° N', '9.9Â° E,', '11.757N',\n",
       "       '12.3092Â° E', '7.53Â° E', '9.5Â° E', '11.0900Â° N', '9.8076Â° N',\n",
       "       '10.0011Â° N', '10.0424Â° E,', '10.75Â°E', '11.3156Â° N',\n",
       "       '9.790Â°E,', '8.8Â° E,', '8.4606Â° E', '9.8333Â° N', '9.0046Â° N',\n",
       "       '12.45Â° E', '9.856Â°E', '12.4433Â° E;', '10.3112Â° N', '9.0',\n",
       "       '9.8765Â° E', '6.6331Â° E,', '7.5087Â° E,', '8.06Â°E',\n",
       "       '7.7250Â° E', '8.8825Â° E', '8.2Â°E', '7.7376Â° E', '7.62Â° E',\n",
       "       '7.5494Â° N', '7.714Â° E', '7.6619Â° E', '8.2803Â° E', '7.6Â° E',\n",
       "       '7.6304Â° E', '9.55Â° E', '7.45610Â° N', '10.9312Â° E',\n",
       "       '9.8617Â° N', '7.7104Â° E', '8.3399Â° E', '11.861Â° E', '8.5',\n",
       "       '8.24Â° E,', '8.3', '8.23 E', '6.45 E', '8.7590Â° E', '8.68Â°E',\n",
       "       '8.07445Â°N', '8.0577Â° E', '7.0', '11.7Â° E', '8.2707Â° E',\n",
       "       '8.9Â° E', '8.32 E', '8.02Â° N', '8.4Â°E', '8.5140Â° N',\n",
       "       '8.0100Â° E,', '8.2027Â°N', '8.1667Â°E', '8.2290Â° N',\n",
       "       '9.2345Â° E', '8.6761Â° E', '11.5167Â° E', '8.503Â° E',\n",
       "       '8.4699Â° N', '8.8000Â° E', '8.25', '4Â°N', '4.85 E', '30.8 E',\n",
       "       '5.7Â° E,', '3.3Â°E', '3.3352Â° E', '3.28 E', '3.2594Â° E,',\n",
       "       '6.4444Â° E', '3.2314Â° E', '3.6Â° E', '3.436 degrees E',\n",
       "       '3.5569Â° E', '3.3050Â° E', '3.36Â°E', '3.5080Â° E', '3.38Â°E',\n",
       "       '3.4090Â° E', '3.3729Â° E', '3.3744Â° E', '6.5236Â° E',\n",
       "       '3.3206Â° E,', '3.3870Â° E', '3.36430;', '8.9167Â° N',\n",
       "       '7.4917Â° E', '7.6554Â° E', '9.0214Â° E', '8.8973Â° E',\n",
       "       '8.846Â° N', '8.52Â° E', '8.4990Â° E', '8.5 E,', '8.8711Â° E,',\n",
       "       '6.1238Â° E,', '7.1214Â°E', '8.9659Â° E', '6.2548Â° E',\n",
       "       '6.2785Â° E,', '6.0056Â° E', '4.00N,', '7.19 E', '6.2Â°E',\n",
       "       '6.55Â° E', '8.1358Â° E', '7.7367Â° E,', '6.5 degrees E',\n",
       "       '5.1755Â° E,', '6.51Â°E', '8.9555Â° E', '10Â°E', '7.5765Â° E',\n",
       "       '7.9681Â° E,', '5.0783Â° E', '7.8Â°E', '6.0669Â° E', '12.4Â°E',\n",
       "       '5.5Â° E,', '7.368Â°E,', '7.1942Â° E.', '7.4416Â° E',\n",
       "       '6.2097Â° E;', '3.20 E', '3.38 E,', '3.25Â° E', '3.17Â°E', '3.5 E',\n",
       "       '3.91 E', '3.97Â° E', '3.6956 E', '3.92 E', '3.7Â° E',\n",
       "       '3.0479Â° E,', '3.1Â° E', '3.5Â°E,', '4.0084Â° E', '3.40Â° E',\n",
       "       '3Â° 34â€² E', '3.64E', '3.1956Â° N', '3.32Â° E', '5.5Â°E',\n",
       "       '5.85Â° E', '5.7037Â°E', '5.45Â°E', '7.2720Â° E', '7.2475Â° E',\n",
       "       '4.8Â° E', '5.07Â°E', '7.3Â°E', '4.5Â° E', '5.92Â° E', '5.05Â°E',\n",
       "       '3.597Â° E', '6.50Â° E', '6.72Â° E', '4.82Â°E,', '4.2Â° E,',\n",
       "       '4.07 E,', '4.82Â°E', '4.5Â°E', '4.3Â°E', '4.45 E', '4.12Â° E',\n",
       "       '4.3Â° E', '4.5 E', '4.56Â° E', '4.5Â° E,', '4.14Â°E', '4.79Â°E,',\n",
       "       '7.5 degrees E,', '4.85Â° E', '4.68Â°E', '4.23 E', '3.5Â°E',\n",
       "       '4.5E', '4.17Â°E', '4.21Â°E;', '4.5Â°E,', '4.56 E', '3.82Â°E',\n",
       "       '3.9170Â° E', '4.4Â° E', '8.655W', '3.9116Â° E,', '3.85 E',\n",
       "       '3.8724Â° E,', '3.88Â°E', '3.1 E', '3.25Â°E', '3.4Â°E',\n",
       "       '4.8179Â° E', '3.60Â°E', '3.9354Â° E', '3.5', '3.6Â°E',\n",
       "       '4.17Â° E,', '4.24 E', '3.7Â°E', '3.8970Â° E', '3.8Â° E', '3.8Â°E',\n",
       "       '3.9Â° E', '3.9 E', '3.35 E', '8.8697Â° E;', '9.15Â°N',\n",
       "       '9.9046Â° E,', '8.9022Â° N', '9.8340Â° E', '9.2 E;', '8.8 E',\n",
       "       '9.8464Â° E', '9.0153Â° E', '9.2Â° E', '9.9045Â° E', '9.28Â°E',\n",
       "       '9.2446Â° N', '9.8Â° E', '9.03Â°E,', '9.0800Â° N', '6.070,901 E',\n",
       "       '6.12Â°E', '4.8670Â° E', '6.2725Â° E', '7.231Â° E', '6.0914Â° E,',\n",
       "       '6.7924Â° E', '6.2688Â° E;', '6.8194Â° E', '7.0735Â° E',\n",
       "       '6Â°54\\'10.2\"N', \"7Â° 36' E\", '6.95Â° E', '7.1768Â° E', '7.11Â°E',\n",
       "       '7.8287Â° E', '7.0532Â° E', '6.2 E', '6.0335Â° E', '5.98Â° E',\n",
       "       '8.00,', '13.1223Â° E', '9.0774Â° E', '6.755Â° E', '5.2020Â° N',\n",
       "       '10.2356Â° E', '5.1 degrees E', '6.6Â°E,', \"6Â°30'N,\",\n",
       "       '5.2518Â° E', '5.2858Â° E.', '12Â°E', '5.34Â°E', '6.67 E',\n",
       "       '4.58 E,', '6.23 E', '9.17Â°E,', '9.8574Â° E,', '10.50 E',\n",
       "       '10.4025Â° N', '7.3260Â° E', '11.3617Â° N', '11.9058Â° E',\n",
       "       '9.8258Â° E', '8.5Â°E', '9.3,', '9.0435Â° E', '9.7894Â° E',\n",
       "       '9.3392Â° E', '10.65 E', '10Â°E;', '11.7792Â° N', '11.966',\n",
       "       '11.9882Â° E', '11.8260Â° N', '11.9445Â° N,', '11.63Â°E',\n",
       "       '12.3Â°E,', '11.4694Â° N', '13.2977Â° N', '11.7053Â° E',\n",
       "       '12.8779Â° E', '11.713,', '11.5788Â° E', '12.23Â°E', '10.7833Â° N',\n",
       "       '12.85 E', '6.28Â° E', '6.8562Â° E', '9.8407Â° E', '6.6305Â° N',\n",
       "       '6.0720Â° E', '6.85', '6.6431Â°E', '6.11Â° E', '6.0,'],\n",
       "      dtype=object)"
      ]
     },
     "execution_count": 115,
     "metadata": {},
     "output_type": "execute_result"
    }
   ],
   "source": [
    "df_lga_features['Longitude'].unique()"
   ]
  },
  {
   "cell_type": "code",
   "execution_count": 124,
   "id": "071e06fd",
   "metadata": {},
   "outputs": [
    {
     "data": {
      "text/plain": [
       "array(['7.39', '7.37', '7.9', '7.5', '7.45', '7.5440', '7.62', '7.52',\n",
       "       '6.9', '8', '6.8', '7.8936', '7.3824', '12.4219', '12.5',\n",
       "       '11.9972', '9.06', '12.4353', '12.10', '6'], dtype=object)"
      ]
     },
     "execution_count": 124,
     "metadata": {},
     "output_type": "execute_result"
    }
   ],
   "source": [
    "df_lga_features['Longitude'] = df_lga_features.apply(get_numbers_without_units, column='Longitude', no_match_value='', axis=1)\n",
    "df_lga_features['Longitude'].unique()[0:20]"
   ]
  },
  {
   "cell_type": "markdown",
   "id": "a3ebfb74",
   "metadata": {},
   "source": [
    "#### 1.1.4.14 Cleaning the Latitude"
   ]
  },
  {
   "cell_type": "code",
   "execution_count": 125,
   "id": "454f6c99",
   "metadata": {},
   "outputs": [
    {
     "data": {
      "text/plain": [
       "array(['5.05Â° N', '5.53 N', '5.5 N', '5.6Â° N', '5.4Â°N', '5.22',\n",
       "       '5.0588Â° N', '5.76Â° N;', '4.8Â°N', '5.45Â°N', '5.8Â°N', '5.2 N',\n",
       "       '6Â°N,', '5.7Â°N', '5.5Â°N,', '5.5320Â° N', '5.5336Â° N',\n",
       "       '9.9231Â° N', '9.2Â°N', '9.2511Â° N', '8.98Â°N', '9.3118Â° N',\n",
       "       '9.20 N', '8Â°N', '8.8482Â° N', '9.8480Â° N', '10.8963Â° N',\n",
       "       '9.0359Â° N,', '9.8Â°N', '10.5966Â° N', '12.5122Â° E',\n",
       "       '12.7288Â° E', '9.85 N', '9.79Â°N', '9.9Â°N', '9.1342Â° N',\n",
       "       '9.2Â° N,', '9.3Â° N', '4.9689Â° N', '4.9833Â° N', '4.6420Â° N',\n",
       "       '4.6236Â° N', '5.024Â°N', '5.0073Â° N', '4.5833Â° N', '4.7 N',\n",
       "       '4.7218Â° N', '4.7017Â° N', '5.5', '5.00N,', '4.6Â° N',\n",
       "       '5.1750Â° N', '7.5Â° N', '4.75Â°N', '4.8Â° N', '5.0167Â° N',\n",
       "       '4.6943Â° N', '4.8015Â° N', '4.7580Â° N', '5.12Â° N', '5Â° N',\n",
       "       '5.14Â°N', '4.8181Â° N', '4.9496Â° N,', '4.9;', '4.7674Â° N',\n",
       "       \"5Â°05'E\", '4.7434Â° N', '5.0330Â° N', '6.07Â° N', '6.1704Â° N',\n",
       "       '6.1Â°N', '6.10Â° N,', '6.21Â° N', '6.20Â°N', '6.2127Â° N',\n",
       "       '6.17Â° N', '6.03Â° N', '6.07Â°N', '6.04Â° N', '5.86 N', '6.2 N',\n",
       "       '6.0Â° N', '6.0141Â° N', '6.21Â°N', '6.1766Â° N', '6.14Â° N',\n",
       "       '5.952Â°N', '7.3Â° N', '10.8326Â° N', '9.0579Â° E', '9.8Â° N',\n",
       "       '12.4344Â° N', '11.2000Â°N', '10.0219Â°N,', '12.14 N',\n",
       "       '11.7026Â° N', '11.8842Â° N', '10.9649Â° N,', '11.75Â°N',\n",
       "       '10.0610Â° E,', '10.51 N,', '10.2695Â° N', '11.7595Â° N',\n",
       "       '10.9Â° N', '10.3127Â° N', '11.11Â°N', '10.7Â°N', '12.4433Â° N',\n",
       "       '4.2', '5.0300Â° N', '4.5755Â° N', '4.3 N', '6.24', '5.1707Â° N',\n",
       "       '4.899431Â° N', '9.07 N', '7.5Â°N', '12.1569Â° N', '7.1816Â° N',\n",
       "       '7.3279Â° N', '7.2644Â°N', '6.9167Â°N', '7.78Â° N', '10.4706Â° E',\n",
       "       '6.5Â° N', '7.5329Â° N', '3.4064Â° N', '7.73 N', '3.14',\n",
       "       '6.8311Â° N,', '6.2N', '6.79Â°N', '7.1902Â° E', '7.4 degrees N',\n",
       "       '7.6Â° N', '7.7137Â° N', '7.828121', '13.1938Â° E', '10.8787Â° N',\n",
       "       '11.51Â°N', '4.65 N', '4.4Â° N', '4.87Â° N', '4.9 N', '6.2Â° N',\n",
       "       '5.002Â° N', '4.5656Â° N', '5.1811Â° N', '9 degrees North',\n",
       "       '4.73Â°N', '4.5 N', '4.7290Â° N', '4.97 N,', '4.7547Â° N', 'N4.68',\n",
       "       '5.0379Â° N', '5.3856Â° N', '6.9 N', '4.8357Â° E', '4.9N',\n",
       "       '5.0770Â° N,', '5.115Â° N', '4.7333Â° N', '5.033Â° N', '5.9Â°N',\n",
       "       '6.3082Â° N', '6.2354Â° N;', '7.3', '6.18Â° N', '6.126Â°N',\n",
       "       '6.1579Â° N,', '6.1667Â° N', '6.12Â° N', '6.0526Â° N', '5.79 N,',\n",
       "       '6.1196Â° N', '6.0231Â° N', '6.00Â°N', '6.3Â° N', '6.16Â°N',\n",
       "       '5.9322Â° N', '5.9500Â° N', '6.2', '10.8107Â° N', '10.3157Â°N',\n",
       "       '9.99 N', '12.30Â° N', '10.9683Â° N,', '10.9756Â° N',\n",
       "       '10.0049Â° E', '9.6942Â° E', '10.27Â°N', '11.8589Â° N',\n",
       "       '9.9197Â° E,', '12N;', \"7Â°29'35.6''N\", '11.86Â° N', '10.7Â°N,',\n",
       "       '11.0302Â° E', '11.3192Â°N', '12.3292Â° N', '11.7Â° N',\n",
       "       '11.0522Â° N', '10.39Â°N', '8.5Â°N', '12.8407Â° E', '11.9357Â° N',\n",
       "       '13.4836Â° E', '12.9276Â° E', '10.7560Â° N', '11.0598Â° N',\n",
       "       '11.4N', '13.153Â° E', '11.9 N', '13.5206Â° N', '13.7974Â° E',\n",
       "       '12.9679Â° N', '12.7979Â° N', '11.8319Â° N', '7.50 N', '5.02Â° N',\n",
       "       '5.0', '4.3', '6.2690Â° N', '5.4167Â° N', '6.4000Â° N',\n",
       "       '4.9637Â°N', '4.9940Â° N', '5.8Â°N |', '5.9667Â° N', '7.57Â°N',\n",
       "       '5.7925Â° N', '6.6679Â° N', '4.983Â° N,', '6.6604Â° N', '5.97 N,',\n",
       "       '6.27Â° N', '5.2699Â° N', '5.1532 N', '5.5Â° N', '5.615Â° N',\n",
       "       '6.200Â° N;', '5.53Â°N', '5.38Â°N,', '6.175898Â° N', '5.9930Â° N,',\n",
       "       '6Â°N;', '6.1824Â° N', '6.1091Â° N', '5.5167Â° N', '5.8915Â° N',\n",
       "       '8.0Â° N', '5.49Â° N', '5.30Â° N', '5.9N,', '5.32Â° N', '6.1 N',\n",
       "       '5.2Â° N', '6.3242Â° N', '6.4012Â° N', '6.5Â°N', '6.1Â° N',\n",
       "       '7.5972Â° N', nan, '7.8Â°N', '6Â° N', '7.47Â°N', '6.40Â°N',\n",
       "       '7.60Â°N', '6.40Â° N', '6.7Â° N', '6.7Â° N;', '6.68Â° N',\n",
       "       '6.68Â°N', '7.54 N', '6.0Â°N', '6.89Â°N', '6.6194Â° N', '5.54 N',\n",
       "       '6.666Â° N', '6.4Â°N', '5.8Â° N', '7.3 N', '6.5036Â° N',\n",
       "       '6.9344Â° N', '7.6611Â° N', '7.8', '7.6 degrees N', '7.8454Â° N',\n",
       "       '7.5230Â° N', '7.8 N', '7.60Â° N', '7.84Â° N', \"6Â°54'E\",\n",
       "       '8.5Â° N', '9.1 N', '6Â°N', '6.5N', '6.4833Â° N', '6.6354Â° N',\n",
       "       '6.5N,', '6.5588Â° N', '6.86Â°N,', '6.191Â° N,', '6.8236Â° N',\n",
       "       '6.48Â° N', '8.9936Â° N', '9.08Â° N', '9.13Â° N', '8.8955Â° N',\n",
       "       '8.90Â° N', '10.28 N', '11.5158Â° E', '8.8867Â° N,', '9.8000Â° N',\n",
       "       '10.8051Â° N', '9.2689Â° N', '11.1711Â° E', '10.0626Â°N',\n",
       "       '11.08Â°N', '11.81Â°E', '8.8582Â° N', '10.8917Â° E', '5.4 N',\n",
       "       '5.6 N;', '5.47 N,', '5.7969 N', '5.73Â°N', '5.67 N',\n",
       "       '8 degrees N', '5.4841Â° N', '5.4', '5.7372Â°N', '5.7 N',\n",
       "       '5.8224Â° N', '5.49 N', '5.785Â° N', '5.7Â° N,', '5.83Â°N',\n",
       "       '6.43Â° N', '5.7832Â° N', '5.57 N', '5.91Â° N', '5.484Â° N',\n",
       "       '5.4834 N', '5.37 N,', '11.77 N', '12.95', '9.9864Â° E',\n",
       "       '8.9838Â° E', '12.5Â° N,', '8.547N', '9.8864Â° N', '9.06Â° N',\n",
       "       '12.3Â° N', '10.6900Â° E', '9.1342Â° E', '7.4848Â° E',\n",
       "       '12.4496Â° N,', '12.45Â°N', '8.5779Â° E', '12.593Â°N,',\n",
       "       '12.65Â° N,', '10.1863Â° N', '9.7500Â° E', '13.1Â°N',\n",
       "       '10.8848Â° E', '11.40Â° N', '12.137Â°N', '7.4601Â° N;',\n",
       "       '9.2262Â° E', '11.5', '11.9898Â° N', '11.0842Â° N,',\n",
       "       '10.5177Â° N,', '10.19Â°N', '11.1Â° N', '11.5250Â° N',\n",
       "       '9.6592Â° N', '10.6Â°N', '10.6476Â° N', '10.5517Â° N', '11Â°N',\n",
       "       '6.6018Â° E', '10.224Â° N', '9.8601Â° N', '10.6640Â° N',\n",
       "       '11.5Â° N', '10.6536Â° N', '10.615Â° N', '10.5Â°N', '8.0214Â° E',\n",
       "       '7.4060Â° N', '8.5297Â° E', '11.1116Â° N', '12.5527Â° N',\n",
       "       '12.1648Â° N', '12.9', '12.68Â° N,', '12.2', '12.20 N', '10.23 N',\n",
       "       '11.5221Â° N', '12.02Â°N', '8.0229Â°E', '12.2619Â° N', '12.5',\n",
       "       '11.2932Â° N', '11.9Â° N', '11.90 N', '12.10Â° E', '12.1Â° N',\n",
       "       '12.5Â°N', '10Â°N', '11.9698Â° E', '11.7487Â° N,', '7.9353Â°E',\n",
       "       '12.5000Â°N', '8.5423Â° E', '12.3456Â° N', '12.9986Â° N',\n",
       "       '12.0781Â° N', '11.219Â° N', '8.5792Â° E', '12.2000Â° N', '7.91',\n",
       "       '6Â°E', '8.15 N', '8.0 N', '8.4Â° N,', '6.6Â°N', '6.4551Â° N',\n",
       "       '6.59 N', '6.4551Â° N,', '3.4000Â° N', '6.4380Â° N', '6.6Â° N',\n",
       "       '6.4664 degrees N', '6.4560Â° N', '6.61Â°N', '6.58Â°N',\n",
       "       '6.4274Â° N', '6.5244Â° N', '6.5320Â° N', '6.4667Â° N',\n",
       "       '6.5489Â° N,', '6.5372Â° N', '6.52360;', '8.9167Â° E',\n",
       "       '9.0579Â° N', '8.4055Â° N', '7.3856Â° N', '8.9862Â° N',\n",
       "       '7.873Â° E', '8.9Â° N', '8.4900Â° N', '8.5 N,', '8.9335Â° N,',\n",
       "       '9.0811Â° N,', '8.8960Â°N', '8.9440Â° N', '10.2500Â° N',\n",
       "       '10.6767Â° N,', '9.0811Â° N', '6.00E,', '9.06 N', '9.1Â°N',\n",
       "       '9.1654Â° N', '9.1285Â° N,', '10.3981Â° N,', '9.01Â°N',\n",
       "       '9.0924Â° N', '9.1983Â° N', '10.0722Â° N,', '9.3909Â° N',\n",
       "       '9.1842Â° N', '11.8Â° N,', '9.806Â°N,', '9.1774Â° N.',\n",
       "       '9.0702Â° N', '9.9176Â° N;', '7.16 N', '7.14 N,', '6.69Â° N',\n",
       "       '6.97Â°N', '6.93 N', '6.98Â° N', '6.9837 N', '6.82 N', '7.15Â° N',\n",
       "       '7.3982Â° N,', '6.9Â°N,', '7.1Â° N', '6.9167Â° N', '6.60Â° N',\n",
       "       '6Â° 59â€² N', '6.87N', '6.8715Â° E', '7.22Â° N', '8.25Â°N',\n",
       "       '7.50Â° N', '7.5981Â°N', '7.33Â°N', '7.2639Â° N', '6.9075Â° N',\n",
       "       '6.4Â° N', '7.11Â°N', '7.20Â° N', '6.48Â°N', '6.569Â° N',\n",
       "       '6.50Â° N', '7.14Â° N', '7.08Â°N,', '7.2Â°N', '7.8Â° N,',\n",
       "       '7.49 N,', '7.48Â°N', '7.9Â°N', '7.76 N', '7.87Â° N', '7.4Â° N',\n",
       "       '7.5 N', '7.49Â° N', '7.5Â° N,', '7.75Â°N', '8.11Â°N,',\n",
       "       '9.1 degrees N,', '7.63Â° N', '7.63Â°N', '7.81 N', '7.3Â°N',\n",
       "       '7.5N', '7.88Â°N', '7.61Â°N;', '7.5Â°N,', '7.77 N', '7.95Â°N',\n",
       "       '7.4324Â° N', '6.646N', '7.3792Â° N,', '7.38 N', '7.3644Â° N,',\n",
       "       '7.36Â°N', '7.3924Â° N', '7.4 N', '5.5Â°N', '9.3454Â° N',\n",
       "       '7.98Â°N', '7.8383Â° N', '8.13Â° N,', '8.13 N', '7.3952Â° N',\n",
       "       '7.9', '8.7 N', '8.8Â° N', '9.6322Â° N;', '9Â°N', '8.90Â°E',\n",
       "       '9.9350Â° N,', '9.9158Â° E', '9.8622Â° N', '8.8 N;', '9.9 N',\n",
       "       '9.0559Â° N', '8.9562Â° N', '9.5Â° N', '9.5945Â° N', '9.35Â°N',\n",
       "       '8.8903Â° E', '9.6Â° N', '8.89Â°N,', '9.1000Â° E', '4.69Â° N',\n",
       "       '4.750,945 N', '4.76Â°N', '4.51Â°N', '4.7373Â° N', '4.4560Â° N',\n",
       "       '4.480Â° N', '4.5353Â° N,', '4.7518Â° N', '4.9642Â° N;',\n",
       "       '4.7926Â° N', '7Â°02\\'30.6\"E', \"4Â° 49' N\", '4.83Â° N', '5.3Â° N',\n",
       "       '4.85Â° N', '4.7338Â° N', '5.46Â°N', '4.56Â° N', '4.6978Â° N',\n",
       "       '4.8156Â° N', '8.0Â°N', '13.3 N', '13.4642Â° N', '12.79Â° N',\n",
       "       '10.50,', '13.7459Â° N', '7.3700Â° N', '11.520Â° N', '5.4352Â° E',\n",
       "       '12.4752Â° N', '13.5 degrees N', '13.3Â°N,', '13.1Â° N',\n",
       "       \"5Â°50'E,\", '13.0554Â° N', '13.0133Â° N.', '12.4Â°N', '12.54Â°N',\n",
       "       '13.05 N', '13.45 N,', '15.32 N', '12.2Â° N', '8.95Â°N,', '9.37 N',\n",
       "       '8.9416Â° N,', '7.40 N', '11.4305Â° E', '9.0810Â° N',\n",
       "       '11.3617Â° E', '8.9253Â° N', '12.9344Â° N', '7.8,', '8.3433Â° N',\n",
       "       '7.8604Â° N', '8.4091Â° N', '8.2 N', '12Â°N;', '11.1510Â° E',\n",
       "       '11.760', '11.5204Â° N', '3.89', '11.0562Â° E', '11.7105Â° E,',\n",
       "       '11.55Â°N', '10.5Â°N,', '11.7664Â° E', '11.8654Â° E',\n",
       "       '10.3076Â° N', '12.8779Â° N', '11.090,', '12.7546Â° N', '11.27Â°N',\n",
       "       '11.6833Â° E', '13.0Â°N', '12.4 N', '12.66Â° N', '12.1219Â° N',\n",
       "       '12.28Â°N', '12.1764Â° N', '6.5905Â° E', '12.9946Â° N', '11.67',\n",
       "       '12.3650Â°N', '12.62Â° N', '12.1,'], dtype=object)"
      ]
     },
     "execution_count": 125,
     "metadata": {},
     "output_type": "execute_result"
    }
   ],
   "source": [
    "df_lga_features['Latitude'].unique()"
   ]
  },
  {
   "cell_type": "code",
   "execution_count": 126,
   "id": "f69d4ff7",
   "metadata": {},
   "outputs": [
    {
     "data": {
      "text/plain": [
       "array(['5.05', '5.53', '5.5', '5.6', '5.4', '5.22', '5.0588', '5.76',\n",
       "       '4.8', '5.45', '5.8', '5.2', '6', '5.7', '5.5320', '5.5336',\n",
       "       '9.9231', '9.2', '9.2511', '8.98'], dtype=object)"
      ]
     },
     "execution_count": 126,
     "metadata": {},
     "output_type": "execute_result"
    }
   ],
   "source": [
    "df_lga_features['Latitude'] = df_lga_features.apply(get_numbers_without_units, column='Latitude', no_match_value='', axis=1)\n",
    "df_lga_features['Latitude'].unique()[0:20]"
   ]
  },
  {
   "cell_type": "markdown",
   "id": "7a897adc",
   "metadata": {},
   "source": [
    "#### 1.1.4.15 Cleaning the Income Equality"
   ]
  },
  {
   "cell_type": "code",
   "execution_count": 128,
   "id": "9517ffa1",
   "metadata": {},
   "outputs": [
    {
     "data": {
      "text/plain": [
       "Low                       325\n",
       "Unequal                   190\n",
       "Moderate                   53\n",
       "Unequal,                   41\n",
       "Low,                       20\n",
       "Moderate,                  16\n",
       "Poor                       13\n",
       "High                       11\n",
       "High inequality             9\n",
       "Unequal;                    7\n",
       "Moderately unequal          5\n",
       "Fair                        3\n",
       "High income inequality      3\n",
       "Low;                        3\n",
       "Relatively equal            2\n",
       "Below average               2\n",
       "Moderate;                   2\n",
       "Unequal.                    2\n",
       "Moderately Unequal          2\n",
       "Highly unequal,             1\n",
       "Fair;                       1\n",
       "Average                     1\n",
       "High Income Inequality      1\n",
       "Very Unequal                1\n",
       "Relatively Unequal          1\n",
       "Highly Unequal              1\n",
       "Fair,                       1\n",
       "Low Equality                1\n",
       "Medium                      1\n",
       "Relatively Unequal,         1\n",
       "Relatively unequal          1\n",
       "unequal;                    1\n",
       "Very unequal                1\n",
       "Unequal |                   1\n",
       "Highly unequal              1\n",
       "Unbalanced                  1\n",
       "moderate;                   1\n",
       "poor                        1\n",
       "High;                       1\n",
       "High Inequality             1\n",
       "Name: Income Equality, dtype: int64"
      ]
     },
     "execution_count": 128,
     "metadata": {},
     "output_type": "execute_result"
    }
   ],
   "source": [
    "df_lga_features[\"Income Equality\"].value_counts()"
   ]
  },
  {
   "cell_type": "code",
   "execution_count": 129,
   "id": "62071726",
   "metadata": {},
   "outputs": [
    {
     "data": {
      "text/plain": [
       "array(['low', 'moderate', 'high', 'unequal', ''], dtype=object)"
      ]
     },
     "execution_count": 129,
     "metadata": {},
     "output_type": "execute_result"
    }
   ],
   "source": [
    "words_list = [('Low', 'Low'), ('Moderate', 'Moderate'), ('High', 'High'), ('equal', 'Moderate'), ('Unequal', 'high'),\n",
    "                   ('Poor', 'High'), ('Unbalance', 'Unequal'), ('fair', 'Moderate'), (\"medium\", 'Moderate'),\n",
    "                   ('Very unequal', 'High'), ('Below Average', 'Unequal'), ('Average', 'Moderate')\n",
    "                  ]\n",
    "\n",
    "df_lga_features['Income Equality'] = replace_words(df_lga_features, repls=words_list, column='Income Equality') \n",
    "df_lga_features['Income Equality'].unique() "
   ]
  },
  {
   "cell_type": "markdown",
   "id": "21c7f5f7",
   "metadata": {},
   "source": [
    "#### 1.1.4.16 Cleaning the Communication network features"
   ]
  },
  {
   "cell_type": "code",
   "execution_count": 131,
   "id": "2072d9af",
   "metadata": {},
   "outputs": [
    {
     "data": {
      "text/plain": [
       "Limited                                          422\n",
       "Good                                              77\n",
       "Limited,                                          43\n",
       "Adequate                                          27\n",
       "Strong                                            22\n",
       "Well-established                                  17\n",
       "Well-developed                                    14\n",
       "Good,                                             12\n",
       "Well-connected                                     9\n",
       "Strong,                                            8\n",
       "Limited;                                           8\n",
       "Adequate,                                          5\n",
       "Reliable                                           5\n",
       "Limited but improving                              4\n",
       "Average                                            3\n",
       "Well-established,                                  3\n",
       "Good;                                              3\n",
       "Basic                                              3\n",
       "Well-connected,                                    3\n",
       "Well established                                   3\n",
       "Fair                                               2\n",
       "limited;                                           2\n",
       "Poor                                               2\n",
       "High                                               2\n",
       "Fairly developed                                   2\n",
       "Well-established.                                  1\n",
       "Well developed                                     1\n",
       "Broad                                              1\n",
       "High-speed internet and mobile phone coverage      1\n",
       "Strong;                                            1\n",
       "Fairly Developed,                                  1\n",
       "Reliable,                                          1\n",
       "Advanced,                                          1\n",
       "Accessible                                         1\n",
       "Good mobile network and internet coverage          1\n",
       "Available,                                         1\n",
       "Limited.                                           1\n",
       "Comprehensive                                      1\n",
       "Sparse                                             1\n",
       "Internet and mobile services available             1\n",
       "Patchy                                             1\n",
       "Medium                                             1\n",
       "Available                                          1\n",
       "Limited internet access,                           1\n",
       "Adequate;                                          1\n",
       "Fairly Developed                                   1\n",
       "Limited |                                          1\n",
       "Internet and Telephone                             1\n",
       "Restricted,                                        1\n",
       "Moderate                                           1\n",
       "Advanced                                           1\n",
       "limited                                            1\n",
       "Good coverage                                      1\n",
       "Reliable;                                          1\n",
       "Name: Communication network, dtype: int64"
      ]
     },
     "execution_count": 131,
     "metadata": {},
     "output_type": "execute_result"
    }
   ],
   "source": [
    "df_lga_features['Communication network'].value_counts()"
   ]
  },
  {
   "cell_type": "code",
   "execution_count": 139,
   "id": "4cd62008",
   "metadata": {},
   "outputs": [
    {
     "data": {
      "text/plain": [
       "array(['good', 'strong', 'limited', 'adequate', ''], dtype=object)"
      ]
     },
     "execution_count": 139,
     "metadata": {},
     "output_type": "execute_result"
    }
   ],
   "source": [
    "words_list = [('Fairly', 'Good'), ('Well', 'Strong'), ('Reliable', 'Strong'), ('limited', 'limited'), \n",
    "                   ('basic', 'limited'), ('High', 'Strong'), ('Average', 'Good'), ('poor', 'limited'),\n",
    "                   ('advanced', 'strong'), ('good', 'good'), ('broad', 'Strong'), ('comprehensive', 'strong'),\n",
    "                   ('sparse', 'Limited'), ('Medium', 'Adequate'), ('Moderate', 'Adequate'), ('available', 'good'),\n",
    "                   ('restricted', 'limited'), ('patchy', 'limited'), ('internet and telephone', \"\"), ('accessible', 'good'),\n",
    "                   ('fair', 'good'), ('adeq', 'adequate'), ('stro', 'strong')\n",
    "                  ]\n",
    "\n",
    "df_lga_features['Communication network'] = replace_words(df_lga_features, repls=words_list, column='Communication network') \n",
    "df_lga_features['Communication network'].unique() "
   ]
  },
  {
   "cell_type": "markdown",
   "id": "2fd561a3",
   "metadata": {},
   "source": [
    "#### 1.1.4.17 Cleaning the Infrastructure development feature"
   ]
  },
  {
   "cell_type": "code",
   "execution_count": 134,
   "id": "ef499a37",
   "metadata": {},
   "outputs": [
    {
     "data": {
      "text/plain": [
       "Developing                  244\n",
       "Underdeveloped               80\n",
       "Limited                      79\n",
       "Poor                         31\n",
       "Basic                        30\n",
       "                           ... \n",
       "Ongoing projects,             1\n",
       "Infrastructural deficits      1\n",
       "Slow;                         1\n",
       "Well-established              1\n",
       "Adequate;                     1\n",
       "Name: Infrastructure development, Length: 66, dtype: int64"
      ]
     },
     "execution_count": 134,
     "metadata": {},
     "output_type": "execute_result"
    }
   ],
   "source": [
    "df_lga_features[\"Infrastructure development\"].value_counts()"
   ]
  },
  {
   "cell_type": "code",
   "execution_count": 136,
   "id": "dc525b04",
   "metadata": {},
   "outputs": [
    {
     "data": {
      "text/plain": [
       "array(['developing', 'limited', 'moderate', 'adequate', 'poor', ''],\n",
       "      dtype=object)"
      ]
     },
     "execution_count": 136,
     "metadata": {},
     "output_type": "execute_result"
    }
   ],
   "source": [
    "words_list = [('Underdeveloped', 'Poor'), ('Moderate', 'Moderate'), ('Fair', 'Fairly Developed'), ('limited', 'limited'), \n",
    "                   ('basic', 'limited'), ('Slow', 'limited'), ('Average', 'Good'), ('improv', 'developing'), \n",
    "                   ('minimal', 'limited'), ('high', 'adequate'), ('good', 'adequate'),\n",
    "                   ('well', 'adequate'), ('lack', 'poor'), ('grow', 'developing'), ('developed', 'adequate'),\n",
    "                   ('progress', 'developing'), ('low', 'poor'), ('going', 'developing'), ('expanding', 'developing'),\n",
    "                   ('deficits', 'poor'), ('neglected', 'poor'), ('subpar', 'poor'), ('inadequate', 'poor'), \n",
    "                    ('devel', 'developing'), ('poor', 'poor'), ('adeq', 'adequate')\n",
    "                  ]\n",
    "\n",
    "\n",
    "df_lga_features['Infrastructure development'] = replace_words(df_lga_features, repls=words_list, column='Infrastructure development') \n",
    "df_lga_features['Infrastructure development'].unique() "
   ]
  },
  {
   "cell_type": "markdown",
   "id": "06740f2e",
   "metadata": {},
   "source": [
    "#### 1.1.4.18 Cleaning the Infrastructure development feature"
   ]
  },
  {
   "cell_type": "code",
   "execution_count": 140,
   "id": "463d65fc",
   "metadata": {},
   "outputs": [
    {
     "data": {
      "text/plain": [
       "array(['25-44 years', '25-44', 'Youth', '25-40 years', 'Youth (below 25)',\n",
       "       '20-40', '18-35 years;', 'Young adults', '25-45 years', '25-40',\n",
       "       'Youth,', '25-44,', '18-35 years', 'Youth (18-30)', '18-35',\n",
       "       '20-40 years', 'Youth (18-35)', '20-35 years old', '20-35 years',\n",
       "       '21-40 years', '25-34', '21-35 years', '25-34 years,', '25-45',\n",
       "       '25-44 age group', '20-35', 'Youthful,', '25-40 years old',\n",
       "       '25-35 years', '25-35', '25-40;', '20-39', 'Youth (under 35)',\n",
       "       'Young Adults,', 'Youthful', 'Young adults (20-39)', '30-45 years',\n",
       "       '16-30 years', '15-64 years', '25-40,', '20-35,', '20-35 years,',\n",
       "       'Youth (18-35 years)', '18-45 years', 'Young adults (18-35)',\n",
       "       '25-40 yrs', 'Youth (15-35)', '27-35', 'Youth (below 35)',\n",
       "       'Youth (15-29yo)', '20-30 years', '20-40 years old', '20-30,',\n",
       "       'Youth (under 25)', 'youth;', '25-54 years', '25-44 years old',\n",
       "       '15-35 years', '15-44 years', '20-40 years,', '25-40 years;',\n",
       "       '25-34 years', 'Youth (under 30)', 'Young adults (20-35)',\n",
       "       'Young adult', 'Youthful (15-35)', '30-40 years', '25-34 years |',\n",
       "       '18-35 years,', '25-40 years,', 'Working age (25-54);',\n",
       "       'Youth (20-35 years)', 'Young Adults', nan, 'Youth;',\n",
       "       '20-39 years', '18-35 years old', 'Young adults (25-34)', '25-35,',\n",
       "       '25-44 years,', '18-35,', '25-39 years old', '18-40 years',\n",
       "       '15-40', '21-40,', 'Youth (ages 15-34)', '25-34,',\n",
       "       'Youth (age 15-35)', '15-40 years', 'Young adults,', '18-30 years',\n",
       "       '20-39 years,', '25-35 years,', '25-45 years old', '25-34 years;',\n",
       "       'Youth (ages 18-35)', '20-45 years',\n",
       "       'Young adults (20-35 years old)', '30-50 years old',\n",
       "       'Youth (15-24),', '26-40', '16-35 years', '25-45,',\n",
       "       'Youth (ages 15-29)', '26-40,', 'Youth (under 25),',\n",
       "       '15-40 years,', 'Youth.', '25-44 years;', '26-45 years',\n",
       "       '30-49 years', '20-40,', 'Middle-aged', 'Youthful;', '26-35 years',\n",
       "       '25-49 years', 'Young adults (20-39 years)', 'Youth (15-35 years)',\n",
       "       '15-45', 'Youth (ages 15-35)', 'Youth (15-34)', '15-40 years old',\n",
       "       'Youth (15-29)', '20-30', '20-35 years;', '0-14 years',\n",
       "       '15-39 years'], dtype=object)"
      ]
     },
     "execution_count": 140,
     "metadata": {},
     "output_type": "execute_result"
    }
   ],
   "source": [
    "df_lga_features[\"Dominant Age group\"].unique()"
   ]
  },
  {
   "cell_type": "code",
   "execution_count": 156,
   "id": "a8428d04",
   "metadata": {},
   "outputs": [
    {
     "data": {
      "text/plain": [
       "0      25-44\n",
       "1      25-44\n",
       "2      15-35\n",
       "3      25-40\n",
       "4      15-35\n",
       "       ...  \n",
       "726    25-40\n",
       "727    15-35\n",
       "728       30\n",
       "729    25-34\n",
       "730    25-40\n",
       "Name: Dominant Age group, Length: 731, dtype: object"
      ]
     },
     "execution_count": 156,
     "metadata": {},
     "output_type": "execute_result"
    }
   ],
   "source": [
    "df_lga_features[\"Dominant Age group\"] = df_lga_features.apply(extract_age_range, column=\"Dominant Age group\", axis=1)\n",
    "df_lga_features[\"Dominant Age group\"]"
   ]
  },
  {
   "cell_type": "markdown",
   "id": "37866ceb",
   "metadata": {},
   "source": [
    "#### 1.1.4.19 Cleaning the Average family size features"
   ]
  },
  {
   "cell_type": "code",
   "execution_count": 158,
   "id": "ef6c88f6",
   "metadata": {},
   "outputs": [
    {
     "data": {
      "text/plain": [
       "4                     287\n",
       "5                     215\n",
       "6                      44\n",
       "5,                     33\n",
       "4,                     32\n",
       "4 persons              16\n",
       "5 persons              14\n",
       "4 members              10\n",
       "5 people               10\n",
       "5 members              10\n",
       "5;                      8\n",
       "4 people                8\n",
       "4;                      8\n",
       "6,                      7\n",
       "6 people                4\n",
       "7                       3\n",
       "6 persons               3\n",
       "4 persons,              2\n",
       "4-5 people              2\n",
       "Primary education.      1\n",
       "5 people,               1\n",
       "Five,                   1\n",
       "6 members,              1\n",
       "4 people,               1\n",
       "Secondary school.       1\n",
       "4-6 people              1\n",
       "4-5                     1\n",
       "3-4 people              1\n",
       "4-6                     1\n",
       "6 persons,              1\n",
       "4 |                     1\n",
       "6 members               1\n",
       "8,                      1\n",
       "Name: Average family size, dtype: int64"
      ]
     },
     "execution_count": 158,
     "metadata": {},
     "output_type": "execute_result"
    }
   ],
   "source": [
    "df_lga_features[\"Average family size\"].value_counts()"
   ]
  },
  {
   "cell_type": "code",
   "execution_count": 159,
   "id": "c53564a6",
   "metadata": {},
   "outputs": [
    {
     "data": {
      "text/plain": [
       "0      4\n",
       "1      4\n",
       "2      4\n",
       "3      5\n",
       "4      4\n",
       "      ..\n",
       "726    6\n",
       "727    4\n",
       "728    6\n",
       "729    6\n",
       "730    4\n",
       "Name: Average family size, Length: 731, dtype: object"
      ]
     },
     "execution_count": 159,
     "metadata": {},
     "output_type": "execute_result"
    }
   ],
   "source": [
    "# The extract age range function can be used on this field\n",
    "df_lga_features[\"Average family size\"] = df_lga_features.apply(extract_age_range, column=\"Average family size\", axis=1)\n",
    "df_lga_features[\"Average family size\"]"
   ]
  },
  {
   "cell_type": "markdown",
   "id": "cabd31f9",
   "metadata": {},
   "source": [
    "#### 1.1.4.20 Cleaning the Average Education Level"
   ]
  },
  {
   "cell_type": "code",
   "execution_count": 160,
   "id": "d3873131",
   "metadata": {},
   "outputs": [
    {
     "data": {
      "text/plain": [
       "Secondary school           198\n",
       "Secondary School           108\n",
       "High school                 87\n",
       "High school diploma         35\n",
       "High School                 35\n",
       "                          ... \n",
       "College degree               1\n",
       "Secondary school level,      1\n",
       "High School Diploma,         1\n",
       "University Degree            1\n",
       "45,000 Naira.                1\n",
       "Name: Average education level, Length: 74, dtype: int64"
      ]
     },
     "execution_count": 160,
     "metadata": {},
     "output_type": "execute_result"
    }
   ],
   "source": [
    "#### Checking Average Education Level\n",
    "df_lga_features[\"Average education level\"].value_counts()"
   ]
  },
  {
   "cell_type": "code",
   "execution_count": 165,
   "id": "46637de8",
   "metadata": {},
   "outputs": [
    {
     "data": {
      "text/plain": [
       "array(['secondary school', 'bachelor degree', 'primary school', 'diploma',\n",
       "       ''], dtype=object)"
      ]
     },
     "execution_count": 165,
     "metadata": {},
     "output_type": "execute_result"
    }
   ],
   "source": [
    "words_list = [('Secondary', 'Secondary School'), ('High', 'Secondary School'), ('Bachelor', 'Bachelor Degree'),  \n",
    "                   ('Primary', 'Primary School'), ('Diploma', 'Diploma'), ('college', 'Diploma'), \n",
    "                   ('university', 'Bachelor Degree'), ('basic', 'primary school'), ('tertiary', 'Bachelor Degree'),\n",
    "                   ('middle', 'secondary'), ('naira', ''), ('100', '')\n",
    "                   \n",
    "             ]\n",
    "\n",
    "df_lga_features['Average education level'] = replace_words(df_lga_features, repls=words_list, column='Average education level')\n",
    "df_lga_features['Average education level'].unique() "
   ]
  },
  {
   "cell_type": "markdown",
   "id": "9b35f27a",
   "metadata": {},
   "source": [
    "#### 1.1.4.21 Cleaning the Average Income in Naira"
   ]
  },
  {
   "cell_type": "code",
   "execution_count": 168,
   "id": "a5714c93",
   "metadata": {},
   "outputs": [
    {
     "data": {
      "text/plain": [
       "â‚¦50,000             47\n",
       "â‚¦40,000             44\n",
       "â‚¦80,000             38\n",
       "â‚¦70,000             35\n",
       "â‚¦100,000            30\n",
       "                      ..\n",
       "N45,                   1\n",
       "â‚¦35,000 ($88)        1\n",
       "â‚¦30,000 ($76)        1\n",
       "â‚¦35,000 ($86.84)     1\n",
       "N70,                   1\n",
       "Name: Average Income in Naira, Length: 262, dtype: int64"
      ]
     },
     "execution_count": 168,
     "metadata": {},
     "output_type": "execute_result"
    }
   ],
   "source": [
    "df_lga_features[\"Average Income in Naira\"].value_counts()"
   ]
  },
  {
   "cell_type": "code",
   "execution_count": 169,
   "id": "241b8fd2",
   "metadata": {},
   "outputs": [
    {
     "data": {
      "text/plain": [
       "array([135954.0, 40000.0, 50000.0, 80000.0, 52290.0, 62000.0, 40.0,\n",
       "       150000.0, 69720.0, 100.0, 100000.0, 75000.0, 45318.0, 35000.0,\n",
       "       30000.0, 104580.0, 25000.0, 34511.4, 60000.0, 45.0, 70000.0,\n",
       "       62399.4, 70.0, 30328.2, 350000.0, 25796.4, 120000.0, 55776.0,\n",
       "       300.0, 63793.8, 200000.0, 68674.20000000001, 72857.40000000001,\n",
       "       45000.0, 280000.0, 59262.00000000001, 51000.0, 22310.4, 75.0, 30.0,\n",
       "       26145.0, 200.0, 150.0, 250.0, 99351.0, 51592.8, 500000.0, 300000.0,\n",
       "       27190.800000000003, 20000.0, 41832.0, 29631.000000000004,\n",
       "       127284.31800000001, 43575.0, 120.0, 65000.0, 60.0,\n",
       "       62748.00000000001, 71804.628, 261450.00000000003, 34860.0,\n",
       "       61005.00000000001, 85000.0, 50895.600000000006, 110400.0, 50.0,\n",
       "       250000.0, 20.0, 35.0, 180000.0, 21613.2, 52638.600000000006,\n",
       "       17778.600000000002, 42529.200000000004, 33465.600000000006,\n",
       "       25447.800000000003, 30676.800000000003, 26493.600000000002,\n",
       "       30272.424000000003, '', 111552.0, 54381.600000000006, 35905.8,\n",
       "       17081.4, 33117.0, 55000.0, 33814.200000000004, 400000.0, 80.0,\n",
       "       37300.200000000004, 71811.6, 900000.0, 31722.600000000002, 34162.8,\n",
       "       44620.8, 36603.0, 90000.0, 23007.600000000002, 42877.8, 95000.0,\n",
       "       60307.8, 85.0, 42180.600000000006, 53356.64, 750000.0, 73554.6,\n",
       "       257964.00000000003, 67628.40000000001, 448299.60000000003,\n",
       "       1834681.8, 181272.0, 74949.0, 24750.600000000002, 174300.0,\n",
       "       36254.4, 31025.4, 78000.0, 67977.0, 21961.800000000003,\n",
       "       29979.600000000002, 44969.4, 87150.0, 149898.0, 120267.00000000001,\n",
       "       17430.0, 25099.2, 37997.4, 35557.200000000004, 127936.20000000001,\n",
       "       418320.0, 83664.0, 24402.0, 42000.0, 25.0, 31374.000000000004],\n",
       "      dtype=object)"
      ]
     },
     "execution_count": 169,
     "metadata": {},
     "output_type": "execute_result"
    }
   ],
   "source": [
    "currencies = [('$', 348.6), ('N', 1), ('NGN', 1)]\n",
    "df_lga_features['Average Income in Naira'] = df_lga_features.apply(extract_convert_curr,\n",
    "                                                                  column='Average Income in Naira', \n",
    "                                                                  currencies = currencies, axis=1)\n",
    "df_lga_features['Average Income in Naira'].unique()"
   ]
  },
  {
   "cell_type": "markdown",
   "id": "e4803d79",
   "metadata": {},
   "source": [
    "## 1.2 Data integration and Transfromation\n",
    "\n",
    "Data Integration involves combining data from multiple sources into a single dataset. Data transformation involves converting data into a more suitable format for analysis, such as normalizing or scaling data.\n",
    "\n",
    "The ACLED and the GTD dataset were collected by different organisations with different objectives. Both datasets must have been collected to suit the usecase of the different institutions. Hence, the explanation for the wide disparity in the number of features. While the GTD collected more features, almost three folds of the features collected by ACLED, they do not cover as much events as the ACLED datasets. There is also a need to integrate datasets containing the records of attacks with the Local government areas of the attacks dataset and subsequently the dataset containing selected features of the LGA.  \n",
    "\n",
    "Hence, this section of the project seeks to preprocess all the datasets to cummulatively suit the purpose of this project."
   ]
  },
  {
   "cell_type": "markdown",
   "id": "3b2b5901",
   "metadata": {},
   "source": [
    "### 1.2.1 Exploring Mergability of the Datasets"
   ]
  },
  {
   "cell_type": "markdown",
   "id": "b089e0b7",
   "metadata": {},
   "source": [
    "The ACLED and the lga, LGA features datasets can all the merged. On the ACLED dataset, there is a admin2 field which contains the name of the LGA where each event occur. The LGA and the LGA feature dataset contains name fields which allows the three datasets to be merged using the LGA name.\n",
    "\n",
    "Attempting to bring the GTD dataset into the mix is problematic because the closest it has in common to the LGA name is the location field. Above 50% of this field is empty. The closest it also has to the ACLED dataset is the date field. This field cannot be used to reliably merge both datasets. Therefore, the GTD dataset will be used indepependently should its need arise in this project.\n",
    "\n",
    "The primary focus for this project will be the ACLED, the LGA dataset and the LGA feature datasets."
   ]
  },
  {
   "cell_type": "code",
   "execution_count": 93,
   "id": "aa98ec64",
   "metadata": {},
   "outputs": [],
   "source": [
    "# Attempting to merge the ACLED dataset with the LGA features\n",
    "df_acled = df_acled.rename(columns={'admin2': 'lga_name'}) # rename the admin2 to lga_name in acled\n",
    "df_lga_features = df_lga_features.rename(columns={'Lga Name': 'lga_name'}) # rename the Lga Name to lga_name in LGA features dataset\n",
    "merged_df = pd.merge(df_acled, df_lga_features, on='lga_name')"
   ]
  },
  {
   "cell_type": "code",
   "execution_count": 94,
   "id": "5392f528",
   "metadata": {
    "scrolled": true
   },
   "outputs": [
    {
     "data": {
      "text/html": [
       "<div>\n",
       "<style scoped>\n",
       "    .dataframe tbody tr th:only-of-type {\n",
       "        vertical-align: middle;\n",
       "    }\n",
       "\n",
       "    .dataframe tbody tr th {\n",
       "        vertical-align: top;\n",
       "    }\n",
       "\n",
       "    .dataframe thead th {\n",
       "        text-align: right;\n",
       "    }\n",
       "</style>\n",
       "<table border=\"1\" class=\"dataframe\">\n",
       "  <thead>\n",
       "    <tr style=\"text-align: right;\">\n",
       "      <th></th>\n",
       "      <th>event_id_cnty</th>\n",
       "      <th>event_date</th>\n",
       "      <th>year</th>\n",
       "      <th>time_precision</th>\n",
       "      <th>disorder_type</th>\n",
       "      <th>event_type</th>\n",
       "      <th>sub_event_type</th>\n",
       "      <th>actor1</th>\n",
       "      <th>inter1</th>\n",
       "      <th>actor2</th>\n",
       "      <th>...</th>\n",
       "      <th>Has Forest</th>\n",
       "      <th>Has Mountain</th>\n",
       "      <th>Has ocean</th>\n",
       "      <th>Has valley</th>\n",
       "      <th>Has desert</th>\n",
       "      <th>Has rock</th>\n",
       "      <th>Has plateau</th>\n",
       "      <th>Has creeks</th>\n",
       "      <th>Has none</th>\n",
       "      <th>Major Occupation</th>\n",
       "    </tr>\n",
       "  </thead>\n",
       "  <tbody>\n",
       "    <tr>\n",
       "      <th>0</th>\n",
       "      <td>NIG30571</td>\n",
       "      <td>2023-03-24</td>\n",
       "      <td>2023</td>\n",
       "      <td>1</td>\n",
       "      <td>Demonstrations</td>\n",
       "      <td>Protests</td>\n",
       "      <td>Peaceful protest</td>\n",
       "      <td>Protesters (Nigeria)</td>\n",
       "      <td>6</td>\n",
       "      <td>unknown</td>\n",
       "      <td>...</td>\n",
       "      <td>0</td>\n",
       "      <td>0</td>\n",
       "      <td>0</td>\n",
       "      <td>0</td>\n",
       "      <td>0</td>\n",
       "      <td>0</td>\n",
       "      <td>0</td>\n",
       "      <td>0</td>\n",
       "      <td>0</td>\n",
       "      <td>agriculture</td>\n",
       "    </tr>\n",
       "    <tr>\n",
       "      <th>1</th>\n",
       "      <td>NIG30686</td>\n",
       "      <td>2023-03-23</td>\n",
       "      <td>2023</td>\n",
       "      <td>1</td>\n",
       "      <td>Political violence</td>\n",
       "      <td>Violence against civilians</td>\n",
       "      <td>Abduction/forced disappearance</td>\n",
       "      <td>Fulani Ethnic Militia (Nigeria)</td>\n",
       "      <td>4</td>\n",
       "      <td>Civilians (Nigeria)</td>\n",
       "      <td>...</td>\n",
       "      <td>0</td>\n",
       "      <td>0</td>\n",
       "      <td>0</td>\n",
       "      <td>0</td>\n",
       "      <td>0</td>\n",
       "      <td>0</td>\n",
       "      <td>0</td>\n",
       "      <td>0</td>\n",
       "      <td>0</td>\n",
       "      <td>agriculture</td>\n",
       "    </tr>\n",
       "    <tr>\n",
       "      <th>2</th>\n",
       "      <td>NIG30637</td>\n",
       "      <td>2023-03-22</td>\n",
       "      <td>2023</td>\n",
       "      <td>1</td>\n",
       "      <td>Political violence</td>\n",
       "      <td>Violence against civilians</td>\n",
       "      <td>Attack</td>\n",
       "      <td>Fulani Ethnic Militia (Nigeria)</td>\n",
       "      <td>4</td>\n",
       "      <td>Civilians (Nigeria)</td>\n",
       "      <td>...</td>\n",
       "      <td>0</td>\n",
       "      <td>0</td>\n",
       "      <td>0</td>\n",
       "      <td>0</td>\n",
       "      <td>0</td>\n",
       "      <td>0</td>\n",
       "      <td>0</td>\n",
       "      <td>0</td>\n",
       "      <td>0</td>\n",
       "      <td>agriculture</td>\n",
       "    </tr>\n",
       "    <tr>\n",
       "      <th>3</th>\n",
       "      <td>NIG29466</td>\n",
       "      <td>2023-01-04</td>\n",
       "      <td>2023</td>\n",
       "      <td>1</td>\n",
       "      <td>Political violence</td>\n",
       "      <td>Battles</td>\n",
       "      <td>Armed clash</td>\n",
       "      <td>Hausa Ethnic Militia (Nigeria)</td>\n",
       "      <td>4</td>\n",
       "      <td>Fulani Ethnic Militia (Nigeria)</td>\n",
       "      <td>...</td>\n",
       "      <td>0</td>\n",
       "      <td>0</td>\n",
       "      <td>0</td>\n",
       "      <td>0</td>\n",
       "      <td>0</td>\n",
       "      <td>0</td>\n",
       "      <td>0</td>\n",
       "      <td>0</td>\n",
       "      <td>0</td>\n",
       "      <td>agriculture</td>\n",
       "    </tr>\n",
       "    <tr>\n",
       "      <th>4</th>\n",
       "      <td>NIG29455</td>\n",
       "      <td>2023-01-03</td>\n",
       "      <td>2023</td>\n",
       "      <td>1</td>\n",
       "      <td>Political violence</td>\n",
       "      <td>Battles</td>\n",
       "      <td>Armed clash</td>\n",
       "      <td>Hausa Ethnic Militia (Nigeria)</td>\n",
       "      <td>4</td>\n",
       "      <td>Fulani Ethnic Militia (Nigeria)</td>\n",
       "      <td>...</td>\n",
       "      <td>0</td>\n",
       "      <td>0</td>\n",
       "      <td>0</td>\n",
       "      <td>0</td>\n",
       "      <td>0</td>\n",
       "      <td>0</td>\n",
       "      <td>0</td>\n",
       "      <td>0</td>\n",
       "      <td>0</td>\n",
       "      <td>agriculture</td>\n",
       "    </tr>\n",
       "  </tbody>\n",
       "</table>\n",
       "<p>5 rows × 58 columns</p>\n",
       "</div>"
      ],
      "text/plain": [
       "  event_id_cnty event_date  year  time_precision       disorder_type  \\\n",
       "0      NIG30571 2023-03-24  2023               1      Demonstrations   \n",
       "1      NIG30686 2023-03-23  2023               1  Political violence   \n",
       "2      NIG30637 2023-03-22  2023               1  Political violence   \n",
       "3      NIG29466 2023-01-04  2023               1  Political violence   \n",
       "4      NIG29455 2023-01-03  2023               1  Political violence   \n",
       "\n",
       "                   event_type                  sub_event_type  \\\n",
       "0                    Protests                Peaceful protest   \n",
       "1  Violence against civilians  Abduction/forced disappearance   \n",
       "2  Violence against civilians                          Attack   \n",
       "3                     Battles                     Armed clash   \n",
       "4                     Battles                     Armed clash   \n",
       "\n",
       "                            actor1  inter1                           actor2  \\\n",
       "0             Protesters (Nigeria)       6                          unknown   \n",
       "1  Fulani Ethnic Militia (Nigeria)       4              Civilians (Nigeria)   \n",
       "2  Fulani Ethnic Militia (Nigeria)       4              Civilians (Nigeria)   \n",
       "3   Hausa Ethnic Militia (Nigeria)       4  Fulani Ethnic Militia (Nigeria)   \n",
       "4   Hausa Ethnic Militia (Nigeria)       4  Fulani Ethnic Militia (Nigeria)   \n",
       "\n",
       "   ...  Has Forest  Has Mountain  Has ocean Has valley Has desert Has rock  \\\n",
       "0  ...           0             0          0          0          0        0   \n",
       "1  ...           0             0          0          0          0        0   \n",
       "2  ...           0             0          0          0          0        0   \n",
       "3  ...           0             0          0          0          0        0   \n",
       "4  ...           0             0          0          0          0        0   \n",
       "\n",
       "   Has plateau  Has creeks  Has none Major Occupation  \n",
       "0            0           0         0      agriculture  \n",
       "1            0           0         0      agriculture  \n",
       "2            0           0         0      agriculture  \n",
       "3            0           0         0      agriculture  \n",
       "4            0           0         0      agriculture  \n",
       "\n",
       "[5 rows x 58 columns]"
      ]
     },
     "execution_count": 94,
     "metadata": {},
     "output_type": "execute_result"
    }
   ],
   "source": [
    "merged_df.head()"
   ]
  },
  {
   "cell_type": "markdown",
   "id": "8e3393c7",
   "metadata": {},
   "source": [
    "Hence, it is confirmed the both dataset can be merged without underlying issues."
   ]
  },
  {
   "cell_type": "markdown",
   "id": "ace65952",
   "metadata": {},
   "source": [
    "## 1.3 Exporting the Preprocessed Datasets"
   ]
  },
  {
   "cell_type": "code",
   "execution_count": 173,
   "id": "1bff4d97",
   "metadata": {},
   "outputs": [],
   "source": [
    "#save dateset into the cleaned folder\n",
    "df_acled.to_csv('datasets/preprocessed/df_acled.csv', index=False)\n",
    "\n",
    "# save this dataset into the cleaned folder\n",
    "df_lga.to_csv('datasets/preprocessed/df_lga.csv', index=False)\n",
    "\n",
    "# save dataset as a new csv file\n",
    "df_gtd.to_csv('datasets/preprocessed/df_gtd.csv', index=False)\n",
    "\n",
    "# save this dataset into the cleaned folder\n",
    "df_lga_features.to_csv('datasets/preprocessed/df_lga_features.csv', index=False)"
   ]
  }
 ],
 "metadata": {
  "kernelspec": {
   "display_name": "Python 3 (ipykernel)",
   "language": "python",
   "name": "python3"
  },
  "language_info": {
   "codemirror_mode": {
    "name": "ipython",
    "version": 3
   },
   "file_extension": ".py",
   "mimetype": "text/x-python",
   "name": "python",
   "nbconvert_exporter": "python",
   "pygments_lexer": "ipython3",
   "version": "3.10.9"
  }
 },
 "nbformat": 4,
 "nbformat_minor": 5
}
