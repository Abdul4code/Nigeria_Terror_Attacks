{
 "cells": [
  {
   "cell_type": "markdown",
   "id": "94b21f44",
   "metadata": {},
   "source": [
    "<h1 style=\"text-align: center; color: red; font-size: 25pt; font-weight: bold; text-shadow: 1px 1px 1px rgb(50, 100, 100)\"> Terror Attacks In Nigeria .... </h1> \n",
    "<p style=\"font-size: 12pt; text-align: center\"> Abubakar Abdulkadir</p>"
   ]
  },
  {
   "cell_type": "markdown",
   "id": "02d701b7",
   "metadata": {},
   "source": [
    "<img src=\"images/bg.jpg\" style=\"width: 100%; height:350px; display: inline-block\" />"
   ]
  },
  {
   "cell_type": "markdown",
   "id": "f03490c5",
   "metadata": {},
   "source": [
    "<h1 style='background-color: red; padding: 10px; color: white'> 1.0 Exploratory Data Analysis </h1>"
   ]
  },
  {
   "cell_type": "code",
   "execution_count": null,
   "id": "5c0ec6ef",
   "metadata": {},
   "outputs": [],
   "source": []
  }
 ],
 "metadata": {
  "kernelspec": {
   "display_name": "Python 3 (ipykernel)",
   "language": "python",
   "name": "python3"
  },
  "language_info": {
   "codemirror_mode": {
    "name": "ipython",
    "version": 3
   },
   "file_extension": ".py",
   "mimetype": "text/x-python",
   "name": "python",
   "nbconvert_exporter": "python",
   "pygments_lexer": "ipython3",
   "version": "3.10.9"
  }
 },
 "nbformat": 4,
 "nbformat_minor": 5
}
